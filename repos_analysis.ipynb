{
 "cells": [
  {
   "cell_type": "markdown",
   "id": "6b75f755",
   "metadata": {},
   "source": [
    "# GitHub repositories analysis"
   ]
  },
  {
   "cell_type": "code",
   "execution_count": 1,
   "id": "492000dc",
   "metadata": {
    "execution": {
     "iopub.execute_input": "2022-07-18T14:55:06.403988Z",
     "iopub.status.busy": "2022-07-18T14:55:06.402588Z",
     "iopub.status.idle": "2022-07-18T14:55:06.711280Z",
     "shell.execute_reply": "2022-07-18T14:55:06.710887Z"
    }
   },
   "outputs": [],
   "source": [
    "import pandas as pd\n",
    "import os\n",
    "import glob"
   ]
  },
  {
   "cell_type": "markdown",
   "id": "c6a74011",
   "metadata": {},
   "source": [
    "## Read the data"
   ]
  },
  {
   "cell_type": "code",
   "execution_count": 2,
   "id": "aea83b31",
   "metadata": {
    "execution": {
     "iopub.execute_input": "2022-07-18T14:55:06.714689Z",
     "iopub.status.busy": "2022-07-18T14:55:06.714356Z",
     "iopub.status.idle": "2022-07-18T14:55:06.717412Z",
     "shell.execute_reply": "2022-07-18T14:55:06.717026Z"
    }
   },
   "outputs": [
    {
     "name": "stdout",
     "output_type": "stream",
     "text": [
      "Encontrados 21 ficheros\n"
     ]
    }
   ],
   "source": [
    "files = glob.glob(\"./data/**/*.csv\", recursive=True)\n",
    "print(\"Encontrados\", len(files), \"ficheros\")"
   ]
  },
  {
   "cell_type": "code",
   "execution_count": 3,
   "id": "6f813113",
   "metadata": {
    "execution": {
     "iopub.execute_input": "2022-07-18T14:55:06.720466Z",
     "iopub.status.busy": "2022-07-18T14:55:06.720145Z",
     "iopub.status.idle": "2022-07-18T14:55:06.749896Z",
     "shell.execute_reply": "2022-07-18T14:55:06.749393Z"
    }
   },
   "outputs": [],
   "source": [
    "df = pd.concat((pd.read_csv(f) for f in files), ignore_index=True)"
   ]
  },
  {
   "cell_type": "code",
   "execution_count": 4,
   "id": "7d6ff7dc",
   "metadata": {
    "execution": {
     "iopub.execute_input": "2022-07-18T14:55:06.755756Z",
     "iopub.status.busy": "2022-07-18T14:55:06.755388Z",
     "iopub.status.idle": "2022-07-18T14:55:06.766399Z",
     "shell.execute_reply": "2022-07-18T14:55:06.766055Z"
    }
   },
   "outputs": [
    {
     "data": {
      "text/html": [
       "<div>\n",
       "<style scoped>\n",
       "    .dataframe tbody tr th:only-of-type {\n",
       "        vertical-align: middle;\n",
       "    }\n",
       "\n",
       "    .dataframe tbody tr th {\n",
       "        vertical-align: top;\n",
       "    }\n",
       "\n",
       "    .dataframe thead th {\n",
       "        text-align: right;\n",
       "    }\n",
       "</style>\n",
       "<table border=\"1\" class=\"dataframe\">\n",
       "  <thead>\n",
       "    <tr style=\"text-align: right;\">\n",
       "      <th></th>\n",
       "      <th>Unnamed: 0</th>\n",
       "      <th>name</th>\n",
       "      <th>ts</th>\n",
       "      <th>stars_count</th>\n",
       "      <th>views_total</th>\n",
       "      <th>views_uniques</th>\n",
       "      <th>clones_total</th>\n",
       "      <th>clones_uniques</th>\n",
       "    </tr>\n",
       "  </thead>\n",
       "  <tbody>\n",
       "    <tr>\n",
       "      <th>28</th>\n",
       "      <td>8</td>\n",
       "      <td>quarkus-kotlin-example</td>\n",
       "      <td>2022-07-18</td>\n",
       "      <td>2</td>\n",
       "      <td>21</td>\n",
       "      <td>1</td>\n",
       "      <td>0</td>\n",
       "      <td>0</td>\n",
       "    </tr>\n",
       "    <tr>\n",
       "      <th>24</th>\n",
       "      <td>4</td>\n",
       "      <td>kotlin-ktor</td>\n",
       "      <td>2022-07-18</td>\n",
       "      <td>5</td>\n",
       "      <td>15</td>\n",
       "      <td>1</td>\n",
       "      <td>0</td>\n",
       "      <td>0</td>\n",
       "    </tr>\n",
       "    <tr>\n",
       "      <th>27</th>\n",
       "      <td>7</td>\n",
       "      <td>ocp-monitoring-golang</td>\n",
       "      <td>2022-07-18</td>\n",
       "      <td>0</td>\n",
       "      <td>6</td>\n",
       "      <td>4</td>\n",
       "      <td>0</td>\n",
       "      <td>0</td>\n",
       "    </tr>\n",
       "  </tbody>\n",
       "</table>\n",
       "</div>"
      ],
      "text/plain": [
       "    Unnamed: 0                    name          ts  stars_count  views_total  \\\n",
       "28           8  quarkus-kotlin-example  2022-07-18            2           21   \n",
       "24           4             kotlin-ktor  2022-07-18            5           15   \n",
       "27           7   ocp-monitoring-golang  2022-07-18            0            6   \n",
       "\n",
       "    views_uniques  clones_total  clones_uniques  \n",
       "28              1             0               0  \n",
       "24              1             0               0  \n",
       "27              4             0               0  "
      ]
     },
     "execution_count": 4,
     "metadata": {},
     "output_type": "execute_result"
    }
   ],
   "source": [
    "df.sort_values(by=[\"ts\", \"views_total\"], ascending=False).head(3)"
   ]
  },
  {
   "cell_type": "markdown",
   "id": "b7034071",
   "metadata": {},
   "source": [
    "## Data analysis"
   ]
  },
  {
   "cell_type": "code",
   "execution_count": 5,
   "id": "b33db4b7",
   "metadata": {
    "execution": {
     "iopub.execute_input": "2022-07-18T14:55:06.773020Z",
     "iopub.status.busy": "2022-07-18T14:55:06.772665Z",
     "iopub.status.idle": "2022-07-18T14:55:06.774294Z",
     "shell.execute_reply": "2022-07-18T14:55:06.773961Z"
    }
   },
   "outputs": [],
   "source": [
    "df_grouped = df.groupby(['name']).agg({\"stars_count\": [\"max\"],\"clones_uniques\": [\"sum\"],\"views_total\": [\"sum\", \"max\"]})"
   ]
  },
  {
   "cell_type": "markdown",
   "id": "d7c6f79d",
   "metadata": {},
   "source": [
    "### Views"
   ]
  },
  {
   "cell_type": "code",
   "execution_count": 6,
   "id": "8e7486fd",
   "metadata": {
    "execution": {
     "iopub.execute_input": "2022-07-18T14:55:06.780019Z",
     "iopub.status.busy": "2022-07-18T14:55:06.778210Z",
     "iopub.status.idle": "2022-07-18T14:55:06.783280Z",
     "shell.execute_reply": "2022-07-18T14:55:06.782933Z"
    }
   },
   "outputs": [
    {
     "name": "stdout",
     "output_type": "stream",
     "text": [
      "Best views over: 37.75\n",
      "Worst views under: 0.0\n"
     ]
    }
   ],
   "source": [
    "views_best_quantile = 0.75\n",
    "views_worst_quantile = 0.25\n",
    "best_views_percentile = df_grouped[('views_total', 'sum')].quantile(views_best_quantile)\n",
    "worst_views_percentile = df_grouped[('views_total', 'sum')].quantile(views_worst_quantile)\n",
    "print(\"Best views over:\", best_views_percentile)\n",
    "print(\"Worst views under:\", worst_views_percentile)"
   ]
  },
  {
   "cell_type": "code",
   "execution_count": 7,
   "id": "7958a4f1",
   "metadata": {
    "execution": {
     "iopub.execute_input": "2022-07-18T14:55:06.789447Z",
     "iopub.status.busy": "2022-07-18T14:55:06.789099Z",
     "iopub.status.idle": "2022-07-18T14:55:06.791603Z",
     "shell.execute_reply": "2022-07-18T14:55:06.791329Z"
    }
   },
   "outputs": [
    {
     "data": {
      "text/html": [
       "<div>\n",
       "<style scoped>\n",
       "    .dataframe tbody tr th:only-of-type {\n",
       "        vertical-align: middle;\n",
       "    }\n",
       "\n",
       "    .dataframe tbody tr th {\n",
       "        vertical-align: top;\n",
       "    }\n",
       "\n",
       "    .dataframe thead th {\n",
       "        text-align: right;\n",
       "    }\n",
       "</style>\n",
       "<table border=\"1\" class=\"dataframe\">\n",
       "  <thead>\n",
       "    <tr style=\"text-align: right;\">\n",
       "      <th></th>\n",
       "      <th>sum</th>\n",
       "      <th>max</th>\n",
       "    </tr>\n",
       "    <tr>\n",
       "      <th>name</th>\n",
       "      <th></th>\n",
       "      <th></th>\n",
       "    </tr>\n",
       "  </thead>\n",
       "  <tbody>\n",
       "    <tr>\n",
       "      <th>quarkus-kotlin-example</th>\n",
       "      <td>234</td>\n",
       "      <td>85</td>\n",
       "    </tr>\n",
       "    <tr>\n",
       "      <th>ocp-monitoring-golang</th>\n",
       "      <td>181</td>\n",
       "      <td>137</td>\n",
       "    </tr>\n",
       "    <tr>\n",
       "      <th>kotlin-ktor</th>\n",
       "      <td>119</td>\n",
       "      <td>32</td>\n",
       "    </tr>\n",
       "    <tr>\n",
       "      <th>golang-rest-api-cassandra</th>\n",
       "      <td>101</td>\n",
       "      <td>32</td>\n",
       "    </tr>\n",
       "    <tr>\n",
       "      <th>ml-github</th>\n",
       "      <td>89</td>\n",
       "      <td>41</td>\n",
       "    </tr>\n",
       "    <tr>\n",
       "      <th>mqtt-golang-influxdb</th>\n",
       "      <td>73</td>\n",
       "      <td>49</td>\n",
       "    </tr>\n",
       "    <tr>\n",
       "      <th>golang-k8s-helm-helloworld</th>\n",
       "      <td>65</td>\n",
       "      <td>43</td>\n",
       "    </tr>\n",
       "    <tr>\n",
       "      <th>kustomize-vs-helm</th>\n",
       "      <td>54</td>\n",
       "      <td>24</td>\n",
       "    </tr>\n",
       "    <tr>\n",
       "      <th>pelorus-workshop</th>\n",
       "      <td>38</td>\n",
       "      <td>14</td>\n",
       "    </tr>\n",
       "  </tbody>\n",
       "</table>\n",
       "</div>"
      ],
      "text/plain": [
       "                            sum  max\n",
       "name                                \n",
       "quarkus-kotlin-example      234   85\n",
       "ocp-monitoring-golang       181  137\n",
       "kotlin-ktor                 119   32\n",
       "golang-rest-api-cassandra   101   32\n",
       "ml-github                    89   41\n",
       "mqtt-golang-influxdb         73   49\n",
       "golang-k8s-helm-helloworld   65   43\n",
       "kustomize-vs-helm            54   24\n",
       "pelorus-workshop             38   14"
      ]
     },
     "execution_count": 7,
     "metadata": {},
     "output_type": "execute_result"
    }
   ],
   "source": [
    "views=df_grouped[('views_total')]\n",
    "views_best = views[views['sum'] > best_views_percentile]\n",
    "views_best.sort_values(by='sum', ascending=False)"
   ]
  },
  {
   "cell_type": "markdown",
   "id": "56d55a33",
   "metadata": {},
   "source": [
    "### Clones"
   ]
  },
  {
   "cell_type": "code",
   "execution_count": 8,
   "id": "4430fccd",
   "metadata": {
    "execution": {
     "iopub.execute_input": "2022-07-18T14:55:06.797801Z",
     "iopub.status.busy": "2022-07-18T14:55:06.797434Z",
     "iopub.status.idle": "2022-07-18T14:55:06.799582Z",
     "shell.execute_reply": "2022-07-18T14:55:06.799239Z"
    }
   },
   "outputs": [
    {
     "name": "stdout",
     "output_type": "stream",
     "text": [
      "Best clones over: 3.5\n",
      "Worst clones under: 1.0\n"
     ]
    }
   ],
   "source": [
    "# calculate the best 25% repositories\n",
    "best_clones_quantile = 0.75\n",
    "worst_clones_quantile = 0.25\n",
    "best_clones_percentile = df_grouped[('clones_uniques', 'sum')].quantile(best_clones_quantile)\n",
    "worst_clones_percentile = df_grouped[('clones_uniques', 'sum')].quantile(worst_clones_quantile)\n",
    "print(\"Best clones over:\", best_clones_percentile)\n",
    "print(\"Worst clones under:\", worst_clones_percentile)"
   ]
  },
  {
   "cell_type": "code",
   "execution_count": 9,
   "id": "9d6f5a3c",
   "metadata": {
    "execution": {
     "iopub.execute_input": "2022-07-18T14:55:06.805192Z",
     "iopub.status.busy": "2022-07-18T14:55:06.804675Z",
     "iopub.status.idle": "2022-07-18T14:55:06.807072Z",
     "shell.execute_reply": "2022-07-18T14:55:06.806735Z"
    }
   },
   "outputs": [
    {
     "data": {
      "text/html": [
       "<div>\n",
       "<style scoped>\n",
       "    .dataframe tbody tr th:only-of-type {\n",
       "        vertical-align: middle;\n",
       "    }\n",
       "\n",
       "    .dataframe tbody tr th {\n",
       "        vertical-align: top;\n",
       "    }\n",
       "\n",
       "    .dataframe thead th {\n",
       "        text-align: right;\n",
       "    }\n",
       "</style>\n",
       "<table border=\"1\" class=\"dataframe\">\n",
       "  <thead>\n",
       "    <tr style=\"text-align: right;\">\n",
       "      <th></th>\n",
       "      <th>sum</th>\n",
       "    </tr>\n",
       "    <tr>\n",
       "      <th>name</th>\n",
       "      <th></th>\n",
       "    </tr>\n",
       "  </thead>\n",
       "  <tbody>\n",
       "    <tr>\n",
       "      <th>golang-rest-api-cassandra</th>\n",
       "      <td>473</td>\n",
       "    </tr>\n",
       "    <tr>\n",
       "      <th>ta</th>\n",
       "      <td>347</td>\n",
       "    </tr>\n",
       "    <tr>\n",
       "      <th>iot-devices-crud</th>\n",
       "      <td>200</td>\n",
       "    </tr>\n",
       "    <tr>\n",
       "      <th>mqtt-golang-influxdb</th>\n",
       "      <td>170</td>\n",
       "    </tr>\n",
       "    <tr>\n",
       "      <th>ml-github</th>\n",
       "      <td>28</td>\n",
       "    </tr>\n",
       "    <tr>\n",
       "      <th>pelorus-workshop</th>\n",
       "      <td>14</td>\n",
       "    </tr>\n",
       "    <tr>\n",
       "      <th>b0rr3g0-blog</th>\n",
       "      <td>12</td>\n",
       "    </tr>\n",
       "    <tr>\n",
       "      <th>ocp-monitoring-golang</th>\n",
       "      <td>11</td>\n",
       "    </tr>\n",
       "    <tr>\n",
       "      <th>istio-wasm-filter-golang</th>\n",
       "      <td>4</td>\n",
       "    </tr>\n",
       "  </tbody>\n",
       "</table>\n",
       "</div>"
      ],
      "text/plain": [
       "                           sum\n",
       "name                          \n",
       "golang-rest-api-cassandra  473\n",
       "ta                         347\n",
       "iot-devices-crud           200\n",
       "mqtt-golang-influxdb       170\n",
       "ml-github                   28\n",
       "pelorus-workshop            14\n",
       "b0rr3g0-blog                12\n",
       "ocp-monitoring-golang       11\n",
       "istio-wasm-filter-golang     4"
      ]
     },
     "execution_count": 9,
     "metadata": {},
     "output_type": "execute_result"
    }
   ],
   "source": [
    "clones=df_grouped[('clones_uniques')]\n",
    "clones_best = clones[clones['sum'] > best_clones_percentile]\n",
    "clones_best.sort_values(by='sum', ascending=False)"
   ]
  },
  {
   "cell_type": "markdown",
   "id": "157569fb",
   "metadata": {},
   "source": [
    "# Stars"
   ]
  },
  {
   "cell_type": "code",
   "execution_count": 10,
   "id": "6d5ba727",
   "metadata": {
    "execution": {
     "iopub.execute_input": "2022-07-18T14:55:06.811568Z",
     "iopub.status.busy": "2022-07-18T14:55:06.811240Z",
     "iopub.status.idle": "2022-07-18T14:55:06.814562Z",
     "shell.execute_reply": "2022-07-18T14:55:06.814223Z"
    }
   },
   "outputs": [
    {
     "name": "stdout",
     "output_type": "stream",
     "text": [
      "Best stars over: 1.75\n",
      "Worst stars under: 0.0\n"
     ]
    }
   ],
   "source": [
    "# calculate the best 50% repositories\n",
    "best_stars_quantile = 0.75\n",
    "worst_stars_quantile = 0.25\n",
    "best_stars_percentile = df_grouped[('stars_count', 'max')].quantile(best_stars_quantile)\n",
    "worst_stars_percentile = df_grouped[('stars_count', 'max')].quantile(worst_stars_quantile)\n",
    "print(\"Best stars over:\", best_stars_percentile)\n",
    "print(\"Worst stars under:\", worst_stars_percentile)"
   ]
  },
  {
   "cell_type": "code",
   "execution_count": 11,
   "id": "d5234152",
   "metadata": {
    "execution": {
     "iopub.execute_input": "2022-07-18T14:55:06.820377Z",
     "iopub.status.busy": "2022-07-18T14:55:06.820032Z",
     "iopub.status.idle": "2022-07-18T14:55:06.822162Z",
     "shell.execute_reply": "2022-07-18T14:55:06.821785Z"
    }
   },
   "outputs": [
    {
     "data": {
      "text/html": [
       "<div>\n",
       "<style scoped>\n",
       "    .dataframe tbody tr th:only-of-type {\n",
       "        vertical-align: middle;\n",
       "    }\n",
       "\n",
       "    .dataframe tbody tr th {\n",
       "        vertical-align: top;\n",
       "    }\n",
       "\n",
       "    .dataframe thead th {\n",
       "        text-align: right;\n",
       "    }\n",
       "</style>\n",
       "<table border=\"1\" class=\"dataframe\">\n",
       "  <thead>\n",
       "    <tr style=\"text-align: right;\">\n",
       "      <th></th>\n",
       "      <th>max</th>\n",
       "    </tr>\n",
       "    <tr>\n",
       "      <th>name</th>\n",
       "      <th></th>\n",
       "    </tr>\n",
       "  </thead>\n",
       "  <tbody>\n",
       "    <tr>\n",
       "      <th>mqtt-golang-influxdb</th>\n",
       "      <td>10</td>\n",
       "    </tr>\n",
       "    <tr>\n",
       "      <th>spring-kotlin-crud</th>\n",
       "      <td>6</td>\n",
       "    </tr>\n",
       "    <tr>\n",
       "      <th>kotlin-ktor</th>\n",
       "      <td>5</td>\n",
       "    </tr>\n",
       "    <tr>\n",
       "      <th>kops-aws</th>\n",
       "      <td>4</td>\n",
       "    </tr>\n",
       "    <tr>\n",
       "      <th>kustomize-vs-helm</th>\n",
       "      <td>3</td>\n",
       "    </tr>\n",
       "    <tr>\n",
       "      <th>ta</th>\n",
       "      <td>3</td>\n",
       "    </tr>\n",
       "    <tr>\n",
       "      <th>golang-k8s-helm-helloworld</th>\n",
       "      <td>2</td>\n",
       "    </tr>\n",
       "    <tr>\n",
       "      <th>golang-rest-api-cassandra</th>\n",
       "      <td>2</td>\n",
       "    </tr>\n",
       "    <tr>\n",
       "      <th>quarkus-kotlin-example</th>\n",
       "      <td>2</td>\n",
       "    </tr>\n",
       "  </tbody>\n",
       "</table>\n",
       "</div>"
      ],
      "text/plain": [
       "                            max\n",
       "name                           \n",
       "mqtt-golang-influxdb         10\n",
       "spring-kotlin-crud            6\n",
       "kotlin-ktor                   5\n",
       "kops-aws                      4\n",
       "kustomize-vs-helm             3\n",
       "ta                            3\n",
       "golang-k8s-helm-helloworld    2\n",
       "golang-rest-api-cassandra     2\n",
       "quarkus-kotlin-example        2"
      ]
     },
     "execution_count": 11,
     "metadata": {},
     "output_type": "execute_result"
    }
   ],
   "source": [
    "stars=df_grouped[('stars_count')]\n",
    "stars_best = stars[stars['max'] > best_stars_percentile]\n",
    "stars_best.sort_values(by=['max'], ascending=False)"
   ]
  },
  {
   "cell_type": "markdown",
   "id": "930ebe06",
   "metadata": {},
   "source": [
    "# Red zone"
   ]
  },
  {
   "cell_type": "code",
   "execution_count": 12,
   "id": "275284b6",
   "metadata": {
    "execution": {
     "iopub.execute_input": "2022-07-18T14:55:06.826904Z",
     "iopub.status.busy": "2022-07-18T14:55:06.826564Z",
     "iopub.status.idle": "2022-07-18T14:55:06.828486Z",
     "shell.execute_reply": "2022-07-18T14:55:06.828745Z"
    }
   },
   "outputs": [
    {
     "data": {
      "text/plain": [
       "['REST-Services-MySQL',\n",
       " 'influxdb-telegraf-grafana',\n",
       " 'ms-config-server',\n",
       " 'spring-cloud-config',\n",
       " 'spring-cloud-dataflow',\n",
       " 'tinygo-site']"
      ]
     },
     "execution_count": 12,
     "metadata": {},
     "output_type": "execute_result"
    }
   ],
   "source": [
    "df_red_zone = df_grouped[df_grouped[('stars_count', 'max')] <= worst_stars_percentile]\n",
    "df_red_zone = df_red_zone[df_red_zone[('clones_uniques', 'sum')] <= worst_clones_percentile]\n",
    "df_red_zone = df_red_zone[df_red_zone[('views_total', 'sum')] <= worst_views_percentile]\n",
    "df_red_zone.index.values.tolist()"
   ]
  },
  {
   "cell_type": "code",
   "execution_count": null,
   "id": "3b7614c7",
   "metadata": {},
   "outputs": [],
   "source": []
  }
 ],
 "metadata": {
  "kernelspec": {
   "display_name": "Python 3 (ipykernel)",
   "language": "python",
   "name": "python3"
  },
  "language_info": {
   "codemirror_mode": {
    "name": "ipython",
    "version": 3
   },
   "file_extension": ".py",
   "mimetype": "text/x-python",
   "name": "python",
   "nbconvert_exporter": "python",
   "pygments_lexer": "ipython3",
   "version": "3.9.7"
  }
 },
 "nbformat": 4,
 "nbformat_minor": 5
}
