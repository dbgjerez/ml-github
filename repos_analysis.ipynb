{
 "cells": [
  {
   "cell_type": "markdown",
   "id": "6b75f755",
   "metadata": {},
   "source": [
    "# GitHub repositories analysis"
   ]
  },
  {
   "cell_type": "code",
   "execution_count": 1,
   "id": "492000dc",
   "metadata": {
    "execution": {
     "iopub.execute_input": "2022-07-18T06:14:40.999447Z",
     "iopub.status.busy": "2022-07-18T06:14:40.984187Z",
     "iopub.status.idle": "2022-07-18T06:14:41.242898Z",
     "shell.execute_reply": "2022-07-18T06:14:41.242490Z"
    }
   },
   "outputs": [],
   "source": [
    "import pandas as pd\n",
    "import os\n",
    "import glob"
   ]
  },
  {
   "cell_type": "markdown",
   "id": "c6a74011",
   "metadata": {},
   "source": [
    "## Read the data"
   ]
  },
  {
   "cell_type": "code",
   "execution_count": 2,
   "id": "aea83b31",
   "metadata": {
    "execution": {
     "iopub.execute_input": "2022-07-18T06:14:41.246006Z",
     "iopub.status.busy": "2022-07-18T06:14:41.245549Z",
     "iopub.status.idle": "2022-07-18T06:14:41.248020Z",
     "shell.execute_reply": "2022-07-18T06:14:41.247637Z"
    }
   },
   "outputs": [
    {
     "name": "stdout",
     "output_type": "stream",
     "text": [
      "Encontrados 21 ficheros\n"
     ]
    }
   ],
   "source": [
    "files = glob.glob(\"./data/**/*.csv\", recursive=True)\n",
    "print(\"Encontrados\", len(files), \"ficheros\")"
   ]
  },
  {
   "cell_type": "code",
   "execution_count": 3,
   "id": "6f813113",
   "metadata": {
    "execution": {
     "iopub.execute_input": "2022-07-18T06:14:41.251160Z",
     "iopub.status.busy": "2022-07-18T06:14:41.250587Z",
     "iopub.status.idle": "2022-07-18T06:14:41.278080Z",
     "shell.execute_reply": "2022-07-18T06:14:41.277683Z"
    }
   },
   "outputs": [],
   "source": [
    "df = pd.concat((pd.read_csv(f) for f in files), ignore_index=True)"
   ]
  },
  {
   "cell_type": "code",
   "execution_count": 4,
   "id": "7d6ff7dc",
   "metadata": {
    "execution": {
     "iopub.execute_input": "2022-07-18T06:14:41.282206Z",
     "iopub.status.busy": "2022-07-18T06:14:41.281688Z",
     "iopub.status.idle": "2022-07-18T06:14:41.292850Z",
     "shell.execute_reply": "2022-07-18T06:14:41.292462Z"
    }
   },
   "outputs": [
    {
     "data": {
      "text/html": [
       "<div>\n",
       "<style scoped>\n",
       "    .dataframe tbody tr th:only-of-type {\n",
       "        vertical-align: middle;\n",
       "    }\n",
       "\n",
       "    .dataframe tbody tr th {\n",
       "        vertical-align: top;\n",
       "    }\n",
       "\n",
       "    .dataframe thead th {\n",
       "        text-align: right;\n",
       "    }\n",
       "</style>\n",
       "<table border=\"1\" class=\"dataframe\">\n",
       "  <thead>\n",
       "    <tr style=\"text-align: right;\">\n",
       "      <th></th>\n",
       "      <th>Unnamed: 0</th>\n",
       "      <th>name</th>\n",
       "      <th>ts</th>\n",
       "      <th>stars_count</th>\n",
       "      <th>views_total</th>\n",
       "      <th>views_uniques</th>\n",
       "      <th>clones_total</th>\n",
       "      <th>clones_uniques</th>\n",
       "    </tr>\n",
       "  </thead>\n",
       "  <tbody>\n",
       "    <tr>\n",
       "      <th>20</th>\n",
       "      <td>0</td>\n",
       "      <td>kotlin-ktor</td>\n",
       "      <td>2022-07-18</td>\n",
       "      <td>5</td>\n",
       "      <td>15</td>\n",
       "      <td>1</td>\n",
       "      <td>0</td>\n",
       "      <td>0</td>\n",
       "    </tr>\n",
       "    <tr>\n",
       "      <th>61</th>\n",
       "      <td>4</td>\n",
       "      <td>ml-github</td>\n",
       "      <td>2022-07-17</td>\n",
       "      <td>1</td>\n",
       "      <td>2</td>\n",
       "      <td>1</td>\n",
       "      <td>2</td>\n",
       "      <td>1</td>\n",
       "    </tr>\n",
       "    <tr>\n",
       "      <th>57</th>\n",
       "      <td>0</td>\n",
       "      <td>golang-k8s-helm-helloworld</td>\n",
       "      <td>2022-07-17</td>\n",
       "      <td>2</td>\n",
       "      <td>1</td>\n",
       "      <td>1</td>\n",
       "      <td>0</td>\n",
       "      <td>0</td>\n",
       "    </tr>\n",
       "  </tbody>\n",
       "</table>\n",
       "</div>"
      ],
      "text/plain": [
       "    Unnamed: 0                        name          ts  stars_count  \\\n",
       "20           0                 kotlin-ktor  2022-07-18            5   \n",
       "61           4                   ml-github  2022-07-17            1   \n",
       "57           0  golang-k8s-helm-helloworld  2022-07-17            2   \n",
       "\n",
       "    views_total  views_uniques  clones_total  clones_uniques  \n",
       "20           15              1             0               0  \n",
       "61            2              1             2               1  \n",
       "57            1              1             0               0  "
      ]
     },
     "execution_count": 4,
     "metadata": {},
     "output_type": "execute_result"
    }
   ],
   "source": [
    "df.sort_values(by=[\"ts\", \"views_total\"], ascending=False).head(3)"
   ]
  },
  {
   "cell_type": "markdown",
   "id": "b7034071",
   "metadata": {},
   "source": [
    "## Data analysis"
   ]
  },
  {
   "cell_type": "code",
   "execution_count": 5,
   "id": "b33db4b7",
   "metadata": {
    "execution": {
     "iopub.execute_input": "2022-07-18T06:14:41.298759Z",
     "iopub.status.busy": "2022-07-18T06:14:41.298396Z",
     "iopub.status.idle": "2022-07-18T06:14:41.300670Z",
     "shell.execute_reply": "2022-07-18T06:14:41.300338Z"
    }
   },
   "outputs": [],
   "source": [
    "df_grouped = df.groupby(['name']).agg({\"stars_count\": [\"max\"],\"clones_uniques\": [\"sum\"],\"views_total\": [\"sum\", \"max\"]})"
   ]
  },
  {
   "cell_type": "markdown",
   "id": "d7c6f79d",
   "metadata": {},
   "source": [
    "### Views"
   ]
  },
  {
   "cell_type": "code",
   "execution_count": 6,
   "id": "8e7486fd",
   "metadata": {
    "execution": {
     "iopub.execute_input": "2022-07-18T06:14:41.304023Z",
     "iopub.status.busy": "2022-07-18T06:14:41.303634Z",
     "iopub.status.idle": "2022-07-18T06:14:41.308413Z",
     "shell.execute_reply": "2022-07-18T06:14:41.308679Z"
    }
   },
   "outputs": [
    {
     "name": "stdout",
     "output_type": "stream",
     "text": [
      "Best views over: 38.0\n",
      "Worst views under: 0.0\n"
     ]
    }
   ],
   "source": [
    "views_best_quantile = 0.75\n",
    "views_worst_quantile = 0.25\n",
    "best_views_percentile = df_grouped[('views_total', 'sum')].quantile(views_best_quantile)\n",
    "worst_views_percentile = df_grouped[('views_total', 'sum')].quantile(views_worst_quantile)\n",
    "print(\"Best views over:\", best_views_percentile)\n",
    "print(\"Worst views under:\", worst_views_percentile)"
   ]
  },
  {
   "cell_type": "code",
   "execution_count": 7,
   "id": "7958a4f1",
   "metadata": {
    "execution": {
     "iopub.execute_input": "2022-07-18T06:14:41.314854Z",
     "iopub.status.busy": "2022-07-18T06:14:41.314384Z",
     "iopub.status.idle": "2022-07-18T06:14:41.316365Z",
     "shell.execute_reply": "2022-07-18T06:14:41.316638Z"
    }
   },
   "outputs": [
    {
     "data": {
      "text/html": [
       "<div>\n",
       "<style scoped>\n",
       "    .dataframe tbody tr th:only-of-type {\n",
       "        vertical-align: middle;\n",
       "    }\n",
       "\n",
       "    .dataframe tbody tr th {\n",
       "        vertical-align: top;\n",
       "    }\n",
       "\n",
       "    .dataframe thead th {\n",
       "        text-align: right;\n",
       "    }\n",
       "</style>\n",
       "<table border=\"1\" class=\"dataframe\">\n",
       "  <thead>\n",
       "    <tr style=\"text-align: right;\">\n",
       "      <th></th>\n",
       "      <th>sum</th>\n",
       "      <th>max</th>\n",
       "    </tr>\n",
       "    <tr>\n",
       "      <th>name</th>\n",
       "      <th></th>\n",
       "      <th></th>\n",
       "    </tr>\n",
       "  </thead>\n",
       "  <tbody>\n",
       "    <tr>\n",
       "      <th>quarkus-kotlin-example</th>\n",
       "      <td>220</td>\n",
       "      <td>85</td>\n",
       "    </tr>\n",
       "    <tr>\n",
       "      <th>ocp-monitoring-golang</th>\n",
       "      <td>175</td>\n",
       "      <td>137</td>\n",
       "    </tr>\n",
       "    <tr>\n",
       "      <th>kotlin-ktor</th>\n",
       "      <td>119</td>\n",
       "      <td>32</td>\n",
       "    </tr>\n",
       "    <tr>\n",
       "      <th>golang-rest-api-cassandra</th>\n",
       "      <td>101</td>\n",
       "      <td>32</td>\n",
       "    </tr>\n",
       "    <tr>\n",
       "      <th>ml-github</th>\n",
       "      <td>87</td>\n",
       "      <td>41</td>\n",
       "    </tr>\n",
       "    <tr>\n",
       "      <th>mqtt-golang-influxdb</th>\n",
       "      <td>72</td>\n",
       "      <td>49</td>\n",
       "    </tr>\n",
       "    <tr>\n",
       "      <th>golang-k8s-helm-helloworld</th>\n",
       "      <td>64</td>\n",
       "      <td>43</td>\n",
       "    </tr>\n",
       "    <tr>\n",
       "      <th>kustomize-vs-helm</th>\n",
       "      <td>54</td>\n",
       "      <td>24</td>\n",
       "    </tr>\n",
       "  </tbody>\n",
       "</table>\n",
       "</div>"
      ],
      "text/plain": [
       "                            sum  max\n",
       "name                                \n",
       "quarkus-kotlin-example      220   85\n",
       "ocp-monitoring-golang       175  137\n",
       "kotlin-ktor                 119   32\n",
       "golang-rest-api-cassandra   101   32\n",
       "ml-github                    87   41\n",
       "mqtt-golang-influxdb         72   49\n",
       "golang-k8s-helm-helloworld   64   43\n",
       "kustomize-vs-helm            54   24"
      ]
     },
     "execution_count": 7,
     "metadata": {},
     "output_type": "execute_result"
    }
   ],
   "source": [
    "views=df_grouped[('views_total')]\n",
    "views_best = views[views['sum'] > best_views_percentile]\n",
    "views_best.sort_values(by='sum', ascending=False)"
   ]
  },
  {
   "cell_type": "markdown",
   "id": "56d55a33",
   "metadata": {},
   "source": [
    "### Clones"
   ]
  },
  {
   "cell_type": "code",
   "execution_count": 8,
   "id": "4430fccd",
   "metadata": {
    "execution": {
     "iopub.execute_input": "2022-07-18T06:14:41.322980Z",
     "iopub.status.busy": "2022-07-18T06:14:41.322578Z",
     "iopub.status.idle": "2022-07-18T06:14:41.324727Z",
     "shell.execute_reply": "2022-07-18T06:14:41.324389Z"
    }
   },
   "outputs": [
    {
     "name": "stdout",
     "output_type": "stream",
     "text": [
      "Best clones over: 4.75\n",
      "Worst clones under: 1.0\n"
     ]
    }
   ],
   "source": [
    "# calculate the best 25% repositories\n",
    "best_clones_quantile = 0.75\n",
    "worst_clones_quantile = 0.25\n",
    "best_clones_percentile = df_grouped[('clones_uniques', 'sum')].quantile(best_clones_quantile)\n",
    "worst_clones_percentile = df_grouped[('clones_uniques', 'sum')].quantile(worst_clones_quantile)\n",
    "print(\"Best clones over:\", best_clones_percentile)\n",
    "print(\"Worst clones under:\", worst_clones_percentile)"
   ]
  },
  {
   "cell_type": "code",
   "execution_count": 9,
   "id": "9d6f5a3c",
   "metadata": {
    "execution": {
     "iopub.execute_input": "2022-07-18T06:14:41.330028Z",
     "iopub.status.busy": "2022-07-18T06:14:41.329578Z",
     "iopub.status.idle": "2022-07-18T06:14:41.331930Z",
     "shell.execute_reply": "2022-07-18T06:14:41.331634Z"
    }
   },
   "outputs": [
    {
     "data": {
      "text/html": [
       "<div>\n",
       "<style scoped>\n",
       "    .dataframe tbody tr th:only-of-type {\n",
       "        vertical-align: middle;\n",
       "    }\n",
       "\n",
       "    .dataframe tbody tr th {\n",
       "        vertical-align: top;\n",
       "    }\n",
       "\n",
       "    .dataframe thead th {\n",
       "        text-align: right;\n",
       "    }\n",
       "</style>\n",
       "<table border=\"1\" class=\"dataframe\">\n",
       "  <thead>\n",
       "    <tr style=\"text-align: right;\">\n",
       "      <th></th>\n",
       "      <th>sum</th>\n",
       "    </tr>\n",
       "    <tr>\n",
       "      <th>name</th>\n",
       "      <th></th>\n",
       "    </tr>\n",
       "  </thead>\n",
       "  <tbody>\n",
       "    <tr>\n",
       "      <th>golang-rest-api-cassandra</th>\n",
       "      <td>480</td>\n",
       "    </tr>\n",
       "    <tr>\n",
       "      <th>ta</th>\n",
       "      <td>363</td>\n",
       "    </tr>\n",
       "    <tr>\n",
       "      <th>iot-devices-crud</th>\n",
       "      <td>200</td>\n",
       "    </tr>\n",
       "    <tr>\n",
       "      <th>mqtt-golang-influxdb</th>\n",
       "      <td>176</td>\n",
       "    </tr>\n",
       "    <tr>\n",
       "      <th>ml-github</th>\n",
       "      <td>27</td>\n",
       "    </tr>\n",
       "    <tr>\n",
       "      <th>pelorus-workshop</th>\n",
       "      <td>14</td>\n",
       "    </tr>\n",
       "    <tr>\n",
       "      <th>b0rr3g0-blog</th>\n",
       "      <td>12</td>\n",
       "    </tr>\n",
       "    <tr>\n",
       "      <th>ocp-monitoring-golang</th>\n",
       "      <td>11</td>\n",
       "    </tr>\n",
       "    <tr>\n",
       "      <th>service-mesh-wasm-go</th>\n",
       "      <td>5</td>\n",
       "    </tr>\n",
       "  </tbody>\n",
       "</table>\n",
       "</div>"
      ],
      "text/plain": [
       "                           sum\n",
       "name                          \n",
       "golang-rest-api-cassandra  480\n",
       "ta                         363\n",
       "iot-devices-crud           200\n",
       "mqtt-golang-influxdb       176\n",
       "ml-github                   27\n",
       "pelorus-workshop            14\n",
       "b0rr3g0-blog                12\n",
       "ocp-monitoring-golang       11\n",
       "service-mesh-wasm-go         5"
      ]
     },
     "execution_count": 9,
     "metadata": {},
     "output_type": "execute_result"
    }
   ],
   "source": [
    "clones=df_grouped[('clones_uniques')]\n",
    "clones_best = clones[clones['sum'] > best_clones_percentile]\n",
    "clones_best.sort_values(by='sum', ascending=False)"
   ]
  },
  {
   "cell_type": "markdown",
   "id": "157569fb",
   "metadata": {},
   "source": [
    "# Stars"
   ]
  },
  {
   "cell_type": "code",
   "execution_count": 10,
   "id": "6d5ba727",
   "metadata": {
    "execution": {
     "iopub.execute_input": "2022-07-18T06:14:41.338052Z",
     "iopub.status.busy": "2022-07-18T06:14:41.337636Z",
     "iopub.status.idle": "2022-07-18T06:14:41.339911Z",
     "shell.execute_reply": "2022-07-18T06:14:41.339530Z"
    }
   },
   "outputs": [
    {
     "name": "stdout",
     "output_type": "stream",
     "text": [
      "Best stars over: 1.75\n",
      "Worst stars under: 0.0\n"
     ]
    }
   ],
   "source": [
    "# calculate the best 50% repositories\n",
    "best_stars_quantile = 0.75\n",
    "worst_stars_quantile = 0.25\n",
    "best_stars_percentile = df_grouped[('stars_count', 'max')].quantile(best_stars_quantile)\n",
    "worst_stars_percentile = df_grouped[('stars_count', 'max')].quantile(worst_stars_quantile)\n",
    "print(\"Best stars over:\", best_stars_percentile)\n",
    "print(\"Worst stars under:\", worst_stars_percentile)"
   ]
  },
  {
   "cell_type": "code",
   "execution_count": 11,
   "id": "d5234152",
   "metadata": {
    "execution": {
     "iopub.execute_input": "2022-07-18T06:14:41.345004Z",
     "iopub.status.busy": "2022-07-18T06:14:41.344534Z",
     "iopub.status.idle": "2022-07-18T06:14:41.347285Z",
     "shell.execute_reply": "2022-07-18T06:14:41.346951Z"
    }
   },
   "outputs": [
    {
     "data": {
      "text/html": [
       "<div>\n",
       "<style scoped>\n",
       "    .dataframe tbody tr th:only-of-type {\n",
       "        vertical-align: middle;\n",
       "    }\n",
       "\n",
       "    .dataframe tbody tr th {\n",
       "        vertical-align: top;\n",
       "    }\n",
       "\n",
       "    .dataframe thead th {\n",
       "        text-align: right;\n",
       "    }\n",
       "</style>\n",
       "<table border=\"1\" class=\"dataframe\">\n",
       "  <thead>\n",
       "    <tr style=\"text-align: right;\">\n",
       "      <th></th>\n",
       "      <th>max</th>\n",
       "    </tr>\n",
       "    <tr>\n",
       "      <th>name</th>\n",
       "      <th></th>\n",
       "    </tr>\n",
       "  </thead>\n",
       "  <tbody>\n",
       "    <tr>\n",
       "      <th>mqtt-golang-influxdb</th>\n",
       "      <td>10</td>\n",
       "    </tr>\n",
       "    <tr>\n",
       "      <th>spring-kotlin-crud</th>\n",
       "      <td>6</td>\n",
       "    </tr>\n",
       "    <tr>\n",
       "      <th>kotlin-ktor</th>\n",
       "      <td>5</td>\n",
       "    </tr>\n",
       "    <tr>\n",
       "      <th>kops-aws</th>\n",
       "      <td>4</td>\n",
       "    </tr>\n",
       "    <tr>\n",
       "      <th>kustomize-vs-helm</th>\n",
       "      <td>3</td>\n",
       "    </tr>\n",
       "    <tr>\n",
       "      <th>ta</th>\n",
       "      <td>3</td>\n",
       "    </tr>\n",
       "    <tr>\n",
       "      <th>golang-k8s-helm-helloworld</th>\n",
       "      <td>2</td>\n",
       "    </tr>\n",
       "    <tr>\n",
       "      <th>golang-rest-api-cassandra</th>\n",
       "      <td>2</td>\n",
       "    </tr>\n",
       "    <tr>\n",
       "      <th>quarkus-kotlin-example</th>\n",
       "      <td>2</td>\n",
       "    </tr>\n",
       "  </tbody>\n",
       "</table>\n",
       "</div>"
      ],
      "text/plain": [
       "                            max\n",
       "name                           \n",
       "mqtt-golang-influxdb         10\n",
       "spring-kotlin-crud            6\n",
       "kotlin-ktor                   5\n",
       "kops-aws                      4\n",
       "kustomize-vs-helm             3\n",
       "ta                            3\n",
       "golang-k8s-helm-helloworld    2\n",
       "golang-rest-api-cassandra     2\n",
       "quarkus-kotlin-example        2"
      ]
     },
     "execution_count": 11,
     "metadata": {},
     "output_type": "execute_result"
    }
   ],
   "source": [
    "stars=df_grouped[('stars_count')]\n",
    "stars_best = stars[stars['max'] > best_stars_percentile]\n",
    "stars_best.sort_values(by=['max'], ascending=False)"
   ]
  },
  {
   "cell_type": "markdown",
   "id": "930ebe06",
   "metadata": {},
   "source": [
    "# Red zone"
   ]
  },
  {
   "cell_type": "code",
   "execution_count": 12,
   "id": "275284b6",
   "metadata": {
    "execution": {
     "iopub.execute_input": "2022-07-18T06:14:41.352116Z",
     "iopub.status.busy": "2022-07-18T06:14:41.351656Z",
     "iopub.status.idle": "2022-07-18T06:14:41.354445Z",
     "shell.execute_reply": "2022-07-18T06:14:41.354160Z"
    }
   },
   "outputs": [
    {
     "data": {
      "text/plain": [
       "['REST-Services-MySQL',\n",
       " 'ms-config-server',\n",
       " 'spring-cloud-config',\n",
       " 'spring-cloud-dataflow']"
      ]
     },
     "execution_count": 12,
     "metadata": {},
     "output_type": "execute_result"
    }
   ],
   "source": [
    "df_red_zone = df_grouped[df_grouped[('stars_count', 'max')] <= worst_stars_percentile]\n",
    "df_red_zone = df_red_zone[df_red_zone[('clones_uniques', 'sum')] <= worst_clones_percentile]\n",
    "df_red_zone = df_red_zone[df_red_zone[('views_total', 'sum')] <= worst_views_percentile]\n",
    "df_red_zone.index.values.tolist()"
   ]
  },
  {
   "cell_type": "code",
   "execution_count": null,
   "id": "3b7614c7",
   "metadata": {},
   "outputs": [],
   "source": []
  }
 ],
 "metadata": {
  "kernelspec": {
   "display_name": "Python 3 (ipykernel)",
   "language": "python",
   "name": "python3"
  },
  "language_info": {
   "codemirror_mode": {
    "name": "ipython",
    "version": 3
   },
   "file_extension": ".py",
   "mimetype": "text/x-python",
   "name": "python",
   "nbconvert_exporter": "python",
   "pygments_lexer": "ipython3",
   "version": "3.9.7"
  }
 },
 "nbformat": 4,
 "nbformat_minor": 5
}
