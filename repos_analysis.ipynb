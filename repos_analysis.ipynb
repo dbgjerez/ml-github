{
 "cells": [
  {
   "cell_type": "markdown",
   "id": "6b75f755",
   "metadata": {},
   "source": [
    "# GitHub repositories analysis"
   ]
  },
  {
   "cell_type": "code",
   "execution_count": 1,
   "id": "492000dc",
   "metadata": {
    "execution": {
     "iopub.execute_input": "2022-08-04T13:06:51.588465Z",
     "iopub.status.busy": "2022-08-04T13:06:51.587671Z",
     "iopub.status.idle": "2022-08-04T13:06:52.351446Z",
     "shell.execute_reply": "2022-08-04T13:06:52.350795Z"
    }
   },
   "outputs": [],
   "source": [
    "import matplotlib.pyplot as plt\n",
    "import pandas as pd\n",
    "import os\n",
    "import glob"
   ]
  },
  {
   "cell_type": "markdown",
   "id": "c6a74011",
   "metadata": {},
   "source": [
    "## Read the data"
   ]
  },
  {
   "cell_type": "code",
   "execution_count": 2,
   "id": "aea83b31",
   "metadata": {
    "execution": {
     "iopub.execute_input": "2022-08-04T13:06:52.354181Z",
     "iopub.status.busy": "2022-08-04T13:06:52.353917Z",
     "iopub.status.idle": "2022-08-04T13:06:52.358126Z",
     "shell.execute_reply": "2022-08-04T13:06:52.357673Z"
    }
   },
   "outputs": [
    {
     "name": "stdout",
     "output_type": "stream",
     "text": [
      "Encontrados 38 ficheros\n"
     ]
    }
   ],
   "source": [
    "files = glob.glob(\"./data/**/*.csv\", recursive=True)\n",
    "print(\"Encontrados\", len(files), \"ficheros\")"
   ]
  },
  {
   "cell_type": "code",
   "execution_count": 3,
   "id": "6f813113",
   "metadata": {
    "execution": {
     "iopub.execute_input": "2022-08-04T13:06:52.360246Z",
     "iopub.status.busy": "2022-08-04T13:06:52.360070Z",
     "iopub.status.idle": "2022-08-04T13:06:52.410050Z",
     "shell.execute_reply": "2022-08-04T13:06:52.409501Z"
    }
   },
   "outputs": [],
   "source": [
    "df = pd.concat((pd.read_csv(f) for f in files), ignore_index=True)"
   ]
  },
  {
   "cell_type": "code",
   "execution_count": 4,
   "id": "4c31fe83",
   "metadata": {
    "execution": {
     "iopub.execute_input": "2022-08-04T13:06:52.412617Z",
     "iopub.status.busy": "2022-08-04T13:06:52.412438Z",
     "iopub.status.idle": "2022-08-04T13:06:52.417282Z",
     "shell.execute_reply": "2022-08-04T13:06:52.416792Z"
    }
   },
   "outputs": [],
   "source": [
    "df[\"date\"] = pd.to_datetime(df[\"ts\"], format='%Y-%m-%d')"
   ]
  },
  {
   "cell_type": "code",
   "execution_count": 5,
   "id": "f80824d2",
   "metadata": {
    "execution": {
     "iopub.execute_input": "2022-08-04T13:06:52.419722Z",
     "iopub.status.busy": "2022-08-04T13:06:52.419538Z",
     "iopub.status.idle": "2022-08-04T13:06:52.423730Z",
     "shell.execute_reply": "2022-08-04T13:06:52.423231Z"
    }
   },
   "outputs": [],
   "source": [
    "ts_max = df[\"ts\"].unique().max()\n",
    "today = df[df.ts==ts_max]\n",
    "head_total = 5 if today.ts.count()>5 else today.ts.count()"
   ]
  },
  {
   "cell_type": "code",
   "execution_count": 6,
   "id": "7d6ff7dc",
   "metadata": {
    "execution": {
     "iopub.execute_input": "2022-08-04T13:06:52.426141Z",
     "iopub.status.busy": "2022-08-04T13:06:52.425748Z",
     "iopub.status.idle": "2022-08-04T13:06:52.438847Z",
     "shell.execute_reply": "2022-08-04T13:06:52.438401Z"
    },
    "scrolled": true
   },
   "outputs": [
    {
     "data": {
      "text/html": [
       "<div>\n",
       "<style scoped>\n",
       "    .dataframe tbody tr th:only-of-type {\n",
       "        vertical-align: middle;\n",
       "    }\n",
       "\n",
       "    .dataframe tbody tr th {\n",
       "        vertical-align: top;\n",
       "    }\n",
       "\n",
       "    .dataframe thead th {\n",
       "        text-align: right;\n",
       "    }\n",
       "</style>\n",
       "<table border=\"1\" class=\"dataframe\">\n",
       "  <thead>\n",
       "    <tr style=\"text-align: right;\">\n",
       "      <th></th>\n",
       "      <th>name</th>\n",
       "      <th>views_total</th>\n",
       "      <th>views_uniques</th>\n",
       "      <th>clones_total</th>\n",
       "    </tr>\n",
       "  </thead>\n",
       "  <tbody>\n",
       "    <tr>\n",
       "      <th>245</th>\n",
       "      <td>ta</td>\n",
       "      <td>21</td>\n",
       "      <td>1</td>\n",
       "      <td>9</td>\n",
       "    </tr>\n",
       "    <tr>\n",
       "      <th>240</th>\n",
       "      <td>golang-rest-api-cassandra</td>\n",
       "      <td>7</td>\n",
       "      <td>2</td>\n",
       "      <td>31</td>\n",
       "    </tr>\n",
       "    <tr>\n",
       "      <th>242</th>\n",
       "      <td>istio-wasm-filter-golang</td>\n",
       "      <td>2</td>\n",
       "      <td>1</td>\n",
       "      <td>0</td>\n",
       "    </tr>\n",
       "    <tr>\n",
       "      <th>243</th>\n",
       "      <td>ml-github</td>\n",
       "      <td>2</td>\n",
       "      <td>1</td>\n",
       "      <td>3</td>\n",
       "    </tr>\n",
       "    <tr>\n",
       "      <th>244</th>\n",
       "      <td>mqtt-golang-influxdb</td>\n",
       "      <td>1</td>\n",
       "      <td>1</td>\n",
       "      <td>8</td>\n",
       "    </tr>\n",
       "  </tbody>\n",
       "</table>\n",
       "</div>"
      ],
      "text/plain": [
       "                          name  views_total  views_uniques  clones_total\n",
       "245                         ta           21              1             9\n",
       "240  golang-rest-api-cassandra            7              2            31\n",
       "242   istio-wasm-filter-golang            2              1             0\n",
       "243                  ml-github            2              1             3\n",
       "244       mqtt-golang-influxdb            1              1             8"
      ]
     },
     "execution_count": 6,
     "metadata": {},
     "output_type": "execute_result"
    }
   ],
   "source": [
    "columns=[\"name\",\"views_total\",\"views_uniques\",\"clones_total\"]\n",
    "today[columns].sort_values(by=[\"views_total\",\"views_uniques\"], ascending=False).head(head_total)"
   ]
  },
  {
   "cell_type": "code",
   "execution_count": 7,
   "id": "d956a7b6",
   "metadata": {
    "execution": {
     "iopub.execute_input": "2022-08-04T13:06:52.441075Z",
     "iopub.status.busy": "2022-08-04T13:06:52.440887Z",
     "iopub.status.idle": "2022-08-04T13:06:52.443591Z",
     "shell.execute_reply": "2022-08-04T13:06:52.443161Z"
    }
   },
   "outputs": [],
   "source": [
    "repos = df.name.unique().tolist()"
   ]
  },
  {
   "cell_type": "code",
   "execution_count": 8,
   "id": "d0fb52ef",
   "metadata": {
    "execution": {
     "iopub.execute_input": "2022-08-04T13:06:52.445596Z",
     "iopub.status.busy": "2022-08-04T13:06:52.445424Z",
     "iopub.status.idle": "2022-08-04T13:06:52.497536Z",
     "shell.execute_reply": "2022-08-04T13:06:52.496833Z"
    }
   },
   "outputs": [],
   "source": [
    "dict_df_repos = dict()\n",
    "for repo_name in repos:\n",
    "    dict_df_repos[repo_name] = df[df.name==repo_name]"
   ]
  },
  {
   "cell_type": "markdown",
   "id": "b7034071",
   "metadata": {},
   "source": [
    "## Data analysis"
   ]
  },
  {
   "cell_type": "code",
   "execution_count": 9,
   "id": "b33db4b7",
   "metadata": {
    "execution": {
     "iopub.execute_input": "2022-08-04T13:06:52.500559Z",
     "iopub.status.busy": "2022-08-04T13:06:52.500123Z",
     "iopub.status.idle": "2022-08-04T13:06:52.508533Z",
     "shell.execute_reply": "2022-08-04T13:06:52.508009Z"
    }
   },
   "outputs": [],
   "source": [
    "df_grouped = df.groupby(['name']).agg({\"date\": [\"min\"], \"stars_count\": [\"max\"],\"clones_uniques\": [\"sum\"],\"views_total\": [\"sum\", \"max\"]})"
   ]
  },
  {
   "cell_type": "markdown",
   "id": "d7c6f79d",
   "metadata": {},
   "source": [
    "### Views"
   ]
  },
  {
   "cell_type": "code",
   "execution_count": 10,
   "id": "8e7486fd",
   "metadata": {
    "execution": {
     "iopub.execute_input": "2022-08-04T13:06:52.511334Z",
     "iopub.status.busy": "2022-08-04T13:06:52.510877Z",
     "iopub.status.idle": "2022-08-04T13:06:52.517482Z",
     "shell.execute_reply": "2022-08-04T13:06:52.516945Z"
    }
   },
   "outputs": [
    {
     "name": "stdout",
     "output_type": "stream",
     "text": [
      "Best views over: 27.0\n",
      "Worst views under: 0.0\n"
     ]
    }
   ],
   "source": [
    "views_best_quantile = 0.75\n",
    "views_worst_quantile = 0.25\n",
    "best_views_percentile = df_grouped[('views_total', 'sum')].quantile(views_best_quantile)\n",
    "worst_views_percentile = df_grouped[('views_total', 'sum')].quantile(views_worst_quantile)\n",
    "print(\"Best views over:\", best_views_percentile)\n",
    "print(\"Worst views under:\", worst_views_percentile)"
   ]
  },
  {
   "cell_type": "code",
   "execution_count": 11,
   "id": "7958a4f1",
   "metadata": {
    "execution": {
     "iopub.execute_input": "2022-08-04T13:06:52.520259Z",
     "iopub.status.busy": "2022-08-04T13:06:52.519853Z",
     "iopub.status.idle": "2022-08-04T13:06:52.527962Z",
     "shell.execute_reply": "2022-08-04T13:06:52.527460Z"
    }
   },
   "outputs": [
    {
     "data": {
      "text/html": [
       "<div>\n",
       "<style scoped>\n",
       "    .dataframe tbody tr th:only-of-type {\n",
       "        vertical-align: middle;\n",
       "    }\n",
       "\n",
       "    .dataframe tbody tr th {\n",
       "        vertical-align: top;\n",
       "    }\n",
       "\n",
       "    .dataframe thead th {\n",
       "        text-align: right;\n",
       "    }\n",
       "</style>\n",
       "<table border=\"1\" class=\"dataframe\">\n",
       "  <thead>\n",
       "    <tr style=\"text-align: right;\">\n",
       "      <th></th>\n",
       "      <th>sum</th>\n",
       "      <th>max</th>\n",
       "    </tr>\n",
       "    <tr>\n",
       "      <th>name</th>\n",
       "      <th></th>\n",
       "      <th></th>\n",
       "    </tr>\n",
       "  </thead>\n",
       "  <tbody>\n",
       "    <tr>\n",
       "      <th>kotlin-ktor</th>\n",
       "      <td>251</td>\n",
       "      <td>41</td>\n",
       "    </tr>\n",
       "    <tr>\n",
       "      <th>ocp-monitoring-golang</th>\n",
       "      <td>169</td>\n",
       "      <td>133</td>\n",
       "    </tr>\n",
       "    <tr>\n",
       "      <th>quarkus-kotlin-example</th>\n",
       "      <td>155</td>\n",
       "      <td>46</td>\n",
       "    </tr>\n",
       "    <tr>\n",
       "      <th>ml-github</th>\n",
       "      <td>129</td>\n",
       "      <td>41</td>\n",
       "    </tr>\n",
       "    <tr>\n",
       "      <th>golang-rest-api-cassandra</th>\n",
       "      <td>81</td>\n",
       "      <td>27</td>\n",
       "    </tr>\n",
       "    <tr>\n",
       "      <th>mqtt-golang-influxdb</th>\n",
       "      <td>70</td>\n",
       "      <td>25</td>\n",
       "    </tr>\n",
       "    <tr>\n",
       "      <th>golang-k8s-helm-helloworld</th>\n",
       "      <td>62</td>\n",
       "      <td>42</td>\n",
       "    </tr>\n",
       "    <tr>\n",
       "      <th>istio-wasm-filter-golang</th>\n",
       "      <td>51</td>\n",
       "      <td>8</td>\n",
       "    </tr>\n",
       "    <tr>\n",
       "      <th>kustomize-vs-helm</th>\n",
       "      <td>42</td>\n",
       "      <td>24</td>\n",
       "    </tr>\n",
       "    <tr>\n",
       "      <th>ta</th>\n",
       "      <td>33</td>\n",
       "      <td>21</td>\n",
       "    </tr>\n",
       "  </tbody>\n",
       "</table>\n",
       "</div>"
      ],
      "text/plain": [
       "                            sum  max\n",
       "name                                \n",
       "kotlin-ktor                 251   41\n",
       "ocp-monitoring-golang       169  133\n",
       "quarkus-kotlin-example      155   46\n",
       "ml-github                   129   41\n",
       "golang-rest-api-cassandra    81   27\n",
       "mqtt-golang-influxdb         70   25\n",
       "golang-k8s-helm-helloworld   62   42\n",
       "istio-wasm-filter-golang     51    8\n",
       "kustomize-vs-helm            42   24\n",
       "ta                           33   21"
      ]
     },
     "execution_count": 11,
     "metadata": {},
     "output_type": "execute_result"
    }
   ],
   "source": [
    "views=df_grouped[('views_total')]\n",
    "views_best = views[views['sum'] > best_views_percentile]\n",
    "views_best.sort_values(by='sum', ascending=False)"
   ]
  },
  {
   "cell_type": "markdown",
   "id": "942bcf96",
   "metadata": {},
   "source": [
    "#### Best views repositories"
   ]
  },
  {
   "cell_type": "code",
   "execution_count": 12,
   "id": "7c19e28e",
   "metadata": {
    "execution": {
     "iopub.execute_input": "2022-08-04T13:06:52.537525Z",
     "iopub.status.busy": "2022-08-04T13:06:52.537317Z",
     "iopub.status.idle": "2022-08-04T13:06:52.758167Z",
     "shell.execute_reply": "2022-08-04T13:06:52.757476Z"
    }
   },
   "outputs": [
    {
     "data": {
      "text/plain": [
       "<matplotlib.legend.Legend at 0x7ff2ce9b86a0>"
      ]
     },
     "execution_count": 12,
     "metadata": {},
     "output_type": "execute_result"
    },
    {
     "data": {
      "image/png": "[encoded data removed]",
      "text/plain": [
       "<Figure size 1440x720 with 1 Axes>"
      ]
     },
     "metadata": {
      "needs_background": "light"
     },
     "output_type": "display_data"
    }
   ],
   "source": [
    "plt.figure(figsize=(20,10))\n",
    "for repo_name in views_best.index.tolist():\n",
    "    df_r = dict_df_repos[repo_name].sort_values(by=\"date\")\n",
    "    x = df_r.date\n",
    "    y = df_r.views_total\n",
    "    plt.plot(x, y, label=repo_name)\n",
    "    \n",
    "plt.legend(loc = \"upper left\")"
   ]
  },
  {
   "cell_type": "markdown",
   "id": "6e7aacde",
   "metadata": {},
   "source": [
    "#### Sum views total"
   ]
  },
  {
   "cell_type": "code",
   "execution_count": 13,
   "id": "c4004748",
   "metadata": {
    "execution": {
     "iopub.execute_input": "2022-08-04T13:06:52.760965Z",
     "iopub.status.busy": "2022-08-04T13:06:52.760767Z",
     "iopub.status.idle": "2022-08-04T13:06:52.766113Z",
     "shell.execute_reply": "2022-08-04T13:06:52.765620Z"
    }
   },
   "outputs": [],
   "source": [
    "df_total_views=df.groupby(['date']).agg({\"views_total\": [\"sum\"]}).sort_values(by=\"date\", ascending=True)"
   ]
  },
  {
   "cell_type": "code",
   "execution_count": 14,
   "id": "981ecf59",
   "metadata": {
    "execution": {
     "iopub.execute_input": "2022-08-04T13:06:52.768519Z",
     "iopub.status.busy": "2022-08-04T13:06:52.768319Z",
     "iopub.status.idle": "2022-08-04T13:06:52.938022Z",
     "shell.execute_reply": "2022-08-04T13:06:52.937435Z"
    }
   },
   "outputs": [
    {
     "data": {
      "text/plain": [
       "<matplotlib.legend.Legend at 0x7ff2cc313550>"
      ]
     },
     "execution_count": 14,
     "metadata": {},
     "output_type": "execute_result"
    },
    {
     "data": {
      "image/png": "[encoded data removed]",
      "text/plain": [
       "<Figure size 1440x720 with 1 Axes>"
      ]
     },
     "metadata": {
      "needs_background": "light"
     },
     "output_type": "display_data"
    }
   ],
   "source": [
    "plt.figure(figsize=(20,10))\n",
    "x = df_total_views.index\n",
    "y = df_total_views[('views_total', 'sum')]\n",
    "plt.plot(x, y, label=\"total_views\")\n",
    "plt.legend(loc = \"upper left\")"
   ]
  },
  {
   "cell_type": "markdown",
   "id": "56d55a33",
   "metadata": {},
   "source": [
    "### Clones"
   ]
  },
  {
   "cell_type": "code",
   "execution_count": 15,
   "id": "4430fccd",
   "metadata": {
    "execution": {
     "iopub.execute_input": "2022-08-04T13:06:52.940875Z",
     "iopub.status.busy": "2022-08-04T13:06:52.940619Z",
     "iopub.status.idle": "2022-08-04T13:06:52.946976Z",
     "shell.execute_reply": "2022-08-04T13:06:52.946519Z"
    }
   },
   "outputs": [
    {
     "name": "stdout",
     "output_type": "stream",
     "text": [
      "Best clones over: 4.0\n",
      "Worst clones under: 1.0\n"
     ]
    }
   ],
   "source": [
    "# calculate the best 25% repositories\n",
    "best_clones_quantile = 0.75\n",
    "worst_clones_quantile = 0.25\n",
    "best_clones_percentile = df_grouped[('clones_uniques', 'sum')].quantile(best_clones_quantile)\n",
    "worst_clones_percentile = df_grouped[('clones_uniques', 'sum')].quantile(worst_clones_quantile)\n",
    "print(\"Best clones over:\", best_clones_percentile)\n",
    "print(\"Worst clones under:\", worst_clones_percentile)"
   ]
  },
  {
   "cell_type": "code",
   "execution_count": 16,
   "id": "9d6f5a3c",
   "metadata": {
    "execution": {
     "iopub.execute_input": "2022-08-04T13:06:52.949524Z",
     "iopub.status.busy": "2022-08-04T13:06:52.949253Z",
     "iopub.status.idle": "2022-08-04T13:06:52.957823Z",
     "shell.execute_reply": "2022-08-04T13:06:52.957210Z"
    }
   },
   "outputs": [
    {
     "data": {
      "text/html": [
       "<div>\n",
       "<style scoped>\n",
       "    .dataframe tbody tr th:only-of-type {\n",
       "        vertical-align: middle;\n",
       "    }\n",
       "\n",
       "    .dataframe tbody tr th {\n",
       "        vertical-align: top;\n",
       "    }\n",
       "\n",
       "    .dataframe thead th {\n",
       "        text-align: right;\n",
       "    }\n",
       "</style>\n",
       "<table border=\"1\" class=\"dataframe\">\n",
       "  <thead>\n",
       "    <tr style=\"text-align: right;\">\n",
       "      <th></th>\n",
       "      <th>sum</th>\n",
       "    </tr>\n",
       "    <tr>\n",
       "      <th>name</th>\n",
       "      <th></th>\n",
       "    </tr>\n",
       "  </thead>\n",
       "  <tbody>\n",
       "    <tr>\n",
       "      <th>golang-rest-api-cassandra</th>\n",
       "      <td>512</td>\n",
       "    </tr>\n",
       "    <tr>\n",
       "      <th>ta</th>\n",
       "      <td>310</td>\n",
       "    </tr>\n",
       "    <tr>\n",
       "      <th>iot-devices-crud</th>\n",
       "      <td>216</td>\n",
       "    </tr>\n",
       "    <tr>\n",
       "      <th>mqtt-golang-influxdb</th>\n",
       "      <td>180</td>\n",
       "    </tr>\n",
       "    <tr>\n",
       "      <th>ml-github</th>\n",
       "      <td>62</td>\n",
       "    </tr>\n",
       "    <tr>\n",
       "      <th>b0rr3g0-blog</th>\n",
       "      <td>15</td>\n",
       "    </tr>\n",
       "    <tr>\n",
       "      <th>DO180-apps</th>\n",
       "      <td>12</td>\n",
       "    </tr>\n",
       "    <tr>\n",
       "      <th>ocp-monitoring-golang</th>\n",
       "      <td>11</td>\n",
       "    </tr>\n",
       "    <tr>\n",
       "      <th>pelorus-workshop</th>\n",
       "      <td>6</td>\n",
       "    </tr>\n",
       "    <tr>\n",
       "      <th>kustomize-vs-helm</th>\n",
       "      <td>5</td>\n",
       "    </tr>\n",
       "  </tbody>\n",
       "</table>\n",
       "</div>"
      ],
      "text/plain": [
       "                           sum\n",
       "name                          \n",
       "golang-rest-api-cassandra  512\n",
       "ta                         310\n",
       "iot-devices-crud           216\n",
       "mqtt-golang-influxdb       180\n",
       "ml-github                   62\n",
       "b0rr3g0-blog                15\n",
       "DO180-apps                  12\n",
       "ocp-monitoring-golang       11\n",
       "pelorus-workshop             6\n",
       "kustomize-vs-helm            5"
      ]
     },
     "execution_count": 16,
     "metadata": {},
     "output_type": "execute_result"
    }
   ],
   "source": [
    "clones=df_grouped[('clones_uniques')]\n",
    "clones_best = clones[clones['sum'] > best_clones_percentile]\n",
    "clones_best.sort_values(by='sum', ascending=False)"
   ]
  },
  {
   "cell_type": "markdown",
   "id": "157569fb",
   "metadata": {},
   "source": [
    "# Stars"
   ]
  },
  {
   "cell_type": "code",
   "execution_count": 17,
   "id": "6d5ba727",
   "metadata": {
    "execution": {
     "iopub.execute_input": "2022-08-04T13:06:52.960344Z",
     "iopub.status.busy": "2022-08-04T13:06:52.960109Z",
     "iopub.status.idle": "2022-08-04T13:06:52.966502Z",
     "shell.execute_reply": "2022-08-04T13:06:52.965948Z"
    }
   },
   "outputs": [
    {
     "name": "stdout",
     "output_type": "stream",
     "text": [
      "Best stars over: 1.0\n",
      "Worst stars under: 0.0\n"
     ]
    }
   ],
   "source": [
    "# calculate the best 50% repositories\n",
    "best_stars_quantile = 0.75\n",
    "worst_stars_quantile = 0.25\n",
    "best_stars_percentile = df_grouped[('stars_count', 'max')].quantile(best_stars_quantile)\n",
    "worst_stars_percentile = df_grouped[('stars_count', 'max')].quantile(worst_stars_quantile)\n",
    "print(\"Best stars over:\", best_stars_percentile)\n",
    "print(\"Worst stars under:\", worst_stars_percentile)"
   ]
  },
  {
   "cell_type": "code",
   "execution_count": 18,
   "id": "d5234152",
   "metadata": {
    "execution": {
     "iopub.execute_input": "2022-08-04T13:06:52.969574Z",
     "iopub.status.busy": "2022-08-04T13:06:52.969314Z",
     "iopub.status.idle": "2022-08-04T13:06:52.976710Z",
     "shell.execute_reply": "2022-08-04T13:06:52.976243Z"
    }
   },
   "outputs": [
    {
     "data": {
      "text/html": [
       "<div>\n",
       "<style scoped>\n",
       "    .dataframe tbody tr th:only-of-type {\n",
       "        vertical-align: middle;\n",
       "    }\n",
       "\n",
       "    .dataframe tbody tr th {\n",
       "        vertical-align: top;\n",
       "    }\n",
       "\n",
       "    .dataframe thead th {\n",
       "        text-align: right;\n",
       "    }\n",
       "</style>\n",
       "<table border=\"1\" class=\"dataframe\">\n",
       "  <thead>\n",
       "    <tr style=\"text-align: right;\">\n",
       "      <th></th>\n",
       "      <th>max</th>\n",
       "    </tr>\n",
       "    <tr>\n",
       "      <th>name</th>\n",
       "      <th></th>\n",
       "    </tr>\n",
       "  </thead>\n",
       "  <tbody>\n",
       "    <tr>\n",
       "      <th>mqtt-golang-influxdb</th>\n",
       "      <td>10</td>\n",
       "    </tr>\n",
       "    <tr>\n",
       "      <th>spring-kotlin-crud</th>\n",
       "      <td>6</td>\n",
       "    </tr>\n",
       "    <tr>\n",
       "      <th>kotlin-ktor</th>\n",
       "      <td>5</td>\n",
       "    </tr>\n",
       "    <tr>\n",
       "      <th>kops-aws</th>\n",
       "      <td>4</td>\n",
       "    </tr>\n",
       "    <tr>\n",
       "      <th>kustomize-vs-helm</th>\n",
       "      <td>3</td>\n",
       "    </tr>\n",
       "    <tr>\n",
       "      <th>ta</th>\n",
       "      <td>3</td>\n",
       "    </tr>\n",
       "    <tr>\n",
       "      <th>golang-k8s-helm-helloworld</th>\n",
       "      <td>2</td>\n",
       "    </tr>\n",
       "    <tr>\n",
       "      <th>golang-rest-api-cassandra</th>\n",
       "      <td>2</td>\n",
       "    </tr>\n",
       "    <tr>\n",
       "      <th>quarkus-kotlin-example</th>\n",
       "      <td>2</td>\n",
       "    </tr>\n",
       "  </tbody>\n",
       "</table>\n",
       "</div>"
      ],
      "text/plain": [
       "                            max\n",
       "name                           \n",
       "mqtt-golang-influxdb         10\n",
       "spring-kotlin-crud            6\n",
       "kotlin-ktor                   5\n",
       "kops-aws                      4\n",
       "kustomize-vs-helm             3\n",
       "ta                            3\n",
       "golang-k8s-helm-helloworld    2\n",
       "golang-rest-api-cassandra     2\n",
       "quarkus-kotlin-example        2"
      ]
     },
     "execution_count": 18,
     "metadata": {},
     "output_type": "execute_result"
    }
   ],
   "source": [
    "stars=df_grouped[('stars_count')]\n",
    "stars_best = stars[stars['max'] > best_stars_percentile]\n",
    "stars_best.sort_values(by=['max'], ascending=False)"
   ]
  },
  {
   "cell_type": "markdown",
   "id": "930ebe06",
   "metadata": {},
   "source": [
    "# Red zone"
   ]
  },
  {
   "cell_type": "code",
   "execution_count": 19,
   "id": "4b27fe45",
   "metadata": {
    "execution": {
     "iopub.execute_input": "2022-08-04T13:06:52.979114Z",
     "iopub.status.busy": "2022-08-04T13:06:52.978877Z",
     "iopub.status.idle": "2022-08-04T13:06:52.990122Z",
     "shell.execute_reply": "2022-08-04T13:06:52.989451Z"
    }
   },
   "outputs": [],
   "source": [
    "repos = pd.read_csv(\"./repos.csv\")\n",
    "\n",
    "# remove colum\n",
    "repos = repos.iloc[:,1:]\n",
    "# remove owner\n",
    "repos = repos.drop(labels=\"owner\",axis=1)\n",
    "# add num topics\n",
    "#repos[\"num_topics\"] = len(repos.topics.str.split(','))\n",
    "def count_topics(topics):\n",
    "    return 0 if topics.count(',') == 0 else topics.count(',')+1\n",
    "repos[\"topics_count\"] = repos.apply(lambda row : count_topics(row.topics), axis=1)\n",
    "# remove topics\n",
    "repos = repos.drop(labels=\"topics\",axis=1)\n",
    "# format date\n",
    "repos[\"latest_commit_date\"] = pd.to_datetime(repos[\"latest_commit_date\"], format='%Y%m%d')\n",
    "# days until latest commit\n",
    "today = pd.to_datetime('today')\n",
    "repos[\"days_latest_commit\"] = (today - repos.latest_commit_date).dt.days"
   ]
  },
  {
   "cell_type": "code",
   "execution_count": 20,
   "id": "9f474b84",
   "metadata": {
    "execution": {
     "iopub.execute_input": "2022-08-04T13:06:52.992740Z",
     "iopub.status.busy": "2022-08-04T13:06:52.992446Z",
     "iopub.status.idle": "2022-08-04T13:06:52.997235Z",
     "shell.execute_reply": "2022-08-04T13:06:52.996595Z"
    }
   },
   "outputs": [
    {
     "data": {
      "text/plain": [
       "Timestamp('2022-07-16 00:00:00')"
      ]
     },
     "execution_count": 20,
     "metadata": {},
     "output_type": "execute_result"
    }
   ],
   "source": [
    "df_grouped.loc['golang-azure-eventhub'][('date', 'min')]"
   ]
  },
  {
   "cell_type": "code",
   "execution_count": 21,
   "id": "e427e76c",
   "metadata": {
    "execution": {
     "iopub.execute_input": "2022-08-04T13:06:52.999697Z",
     "iopub.status.busy": "2022-08-04T13:06:52.999313Z",
     "iopub.status.idle": "2022-08-04T13:06:53.003736Z",
     "shell.execute_reply": "2022-08-04T13:06:53.003291Z"
    }
   },
   "outputs": [],
   "source": [
    "def extract_views_by_day(row):\n",
    "    return \n",
    "repos[\"views_by_day\"] = repos.apply(lambda row: extract_views_by_day(row.name),axis=1)"
   ]
  },
  {
   "cell_type": "code",
   "execution_count": 22,
   "id": "cfcef1a2",
   "metadata": {
    "execution": {
     "iopub.execute_input": "2022-08-04T13:06:53.005986Z",
     "iopub.status.busy": "2022-08-04T13:06:53.005733Z",
     "iopub.status.idle": "2022-08-04T13:06:53.014892Z",
     "shell.execute_reply": "2022-08-04T13:06:53.014459Z"
    }
   },
   "outputs": [
    {
     "data": {
      "text/html": [
       "<div>\n",
       "<style scoped>\n",
       "    .dataframe tbody tr th:only-of-type {\n",
       "        vertical-align: middle;\n",
       "    }\n",
       "\n",
       "    .dataframe tbody tr th {\n",
       "        vertical-align: top;\n",
       "    }\n",
       "\n",
       "    .dataframe thead th {\n",
       "        text-align: right;\n",
       "    }\n",
       "</style>\n",
       "<table border=\"1\" class=\"dataframe\">\n",
       "  <thead>\n",
       "    <tr style=\"text-align: right;\">\n",
       "      <th></th>\n",
       "      <th>name</th>\n",
       "      <th>latest_commit_date</th>\n",
       "      <th>topics_count</th>\n",
       "      <th>days_latest_commit</th>\n",
       "      <th>views_by_day</th>\n",
       "    </tr>\n",
       "  </thead>\n",
       "  <tbody>\n",
       "    <tr>\n",
       "      <th>42</th>\n",
       "      <td>ml-github</td>\n",
       "      <td>2022-08-04</td>\n",
       "      <td>0</td>\n",
       "      <td>0</td>\n",
       "      <td>None</td>\n",
       "    </tr>\n",
       "    <tr>\n",
       "      <th>3</th>\n",
       "      <td>b0rr3g0-blog</td>\n",
       "      <td>2022-07-26</td>\n",
       "      <td>0</td>\n",
       "      <td>9</td>\n",
       "      <td>None</td>\n",
       "    </tr>\n",
       "    <tr>\n",
       "      <th>35</th>\n",
       "      <td>kops-aws</td>\n",
       "      <td>2022-07-26</td>\n",
       "      <td>0</td>\n",
       "      <td>9</td>\n",
       "      <td>None</td>\n",
       "    </tr>\n",
       "    <tr>\n",
       "      <th>48</th>\n",
       "      <td>ocp-monitoring-golang</td>\n",
       "      <td>2022-07-14</td>\n",
       "      <td>0</td>\n",
       "      <td>21</td>\n",
       "      <td>None</td>\n",
       "    </tr>\n",
       "    <tr>\n",
       "      <th>15</th>\n",
       "      <td>golang-k8s-helm-helloworld</td>\n",
       "      <td>2022-07-14</td>\n",
       "      <td>5</td>\n",
       "      <td>21</td>\n",
       "      <td>None</td>\n",
       "    </tr>\n",
       "    <tr>\n",
       "      <th>...</th>\n",
       "      <td>...</td>\n",
       "      <td>...</td>\n",
       "      <td>...</td>\n",
       "      <td>...</td>\n",
       "      <td>...</td>\n",
       "    </tr>\n",
       "    <tr>\n",
       "      <th>61</th>\n",
       "      <td>spring-cloud-ms2</td>\n",
       "      <td>2017-04-17</td>\n",
       "      <td>0</td>\n",
       "      <td>1935</td>\n",
       "      <td>None</td>\n",
       "    </tr>\n",
       "    <tr>\n",
       "      <th>45</th>\n",
       "      <td>ms-config-server</td>\n",
       "      <td>2017-03-15</td>\n",
       "      <td>0</td>\n",
       "      <td>1968</td>\n",
       "      <td>None</td>\n",
       "    </tr>\n",
       "    <tr>\n",
       "      <th>56</th>\n",
       "      <td>spring-boot-elk</td>\n",
       "      <td>2017-03-15</td>\n",
       "      <td>0</td>\n",
       "      <td>1968</td>\n",
       "      <td>None</td>\n",
       "    </tr>\n",
       "    <tr>\n",
       "      <th>62</th>\n",
       "      <td>spring-data-mongodb</td>\n",
       "      <td>2016-09-22</td>\n",
       "      <td>0</td>\n",
       "      <td>2142</td>\n",
       "      <td>None</td>\n",
       "    </tr>\n",
       "    <tr>\n",
       "      <th>54</th>\n",
       "      <td>REST-Services-MySQL</td>\n",
       "      <td>2015-05-30</td>\n",
       "      <td>0</td>\n",
       "      <td>2623</td>\n",
       "      <td>None</td>\n",
       "    </tr>\n",
       "  </tbody>\n",
       "</table>\n",
       "<p>74 rows × 5 columns</p>\n",
       "</div>"
      ],
      "text/plain": [
       "                          name latest_commit_date  topics_count  \\\n",
       "42                   ml-github         2022-08-04             0   \n",
       "3                 b0rr3g0-blog         2022-07-26             0   \n",
       "35                    kops-aws         2022-07-26             0   \n",
       "48       ocp-monitoring-golang         2022-07-14             0   \n",
       "15  golang-k8s-helm-helloworld         2022-07-14             5   \n",
       "..                         ...                ...           ...   \n",
       "61            spring-cloud-ms2         2017-04-17             0   \n",
       "45            ms-config-server         2017-03-15             0   \n",
       "56             spring-boot-elk         2017-03-15             0   \n",
       "62         spring-data-mongodb         2016-09-22             0   \n",
       "54         REST-Services-MySQL         2015-05-30             0   \n",
       "\n",
       "    days_latest_commit views_by_day  \n",
       "42                   0         None  \n",
       "3                    9         None  \n",
       "35                   9         None  \n",
       "48                  21         None  \n",
       "15                  21         None  \n",
       "..                 ...          ...  \n",
       "61                1935         None  \n",
       "45                1968         None  \n",
       "56                1968         None  \n",
       "62                2142         None  \n",
       "54                2623         None  \n",
       "\n",
       "[74 rows x 5 columns]"
      ]
     },
     "execution_count": 22,
     "metadata": {},
     "output_type": "execute_result"
    }
   ],
   "source": [
    "repos.sort_values(by=\"days_latest_commit\")"
   ]
  },
  {
   "cell_type": "code",
   "execution_count": 23,
   "id": "275284b6",
   "metadata": {
    "execution": {
     "iopub.execute_input": "2022-08-04T13:06:53.017139Z",
     "iopub.status.busy": "2022-08-04T13:06:53.016909Z",
     "iopub.status.idle": "2022-08-04T13:06:53.022723Z",
     "shell.execute_reply": "2022-08-04T13:06:53.022290Z"
    }
   },
   "outputs": [
    {
     "data": {
      "text/plain": [
       "['REST-Services-MySQL',\n",
       " 'amq-streams-workshop',\n",
       " 'asciidoc-base',\n",
       " 'dbgjerez',\n",
       " 'golang-azure-eventhub',\n",
       " 'golang-azure-eventhub-kafka',\n",
       " 'kafka-gitops',\n",
       " 'kubernetes-golang-operator',\n",
       " 'ocp-HTPasswd-file-provider',\n",
       " 'spring-cloud-config',\n",
       " 'spring-cloud-dataflow',\n",
       " 'spring-cloud-eureka',\n",
       " 'workshop-uca-aws-deploy']"
      ]
     },
     "execution_count": 23,
     "metadata": {},
     "output_type": "execute_result"
    }
   ],
   "source": [
    "df_red_zone = df_grouped[df_grouped[('stars_count', 'max')] <= worst_stars_percentile]\n",
    "df_red_zone = df_red_zone[df_red_zone[('clones_uniques', 'sum')] <= worst_clones_percentile]\n",
    "df_red_zone = df_red_zone[df_red_zone[('views_total', 'sum')] <= worst_views_percentile]\n",
    "df_red_zone.index.values.tolist()"
   ]
  },
  {
   "cell_type": "code",
   "execution_count": null,
   "id": "0fa02015",
   "metadata": {},
   "outputs": [],
   "source": []
  }
 ],
 "metadata": {
  "kernelspec": {
   "display_name": "Python 3 (ipykernel)",
   "language": "python",
   "name": "python3"
  },
  "language_info": {
   "codemirror_mode": {
    "name": "ipython",
    "version": 3
   },
   "file_extension": ".py",
   "mimetype": "text/x-python",
   "name": "python",
   "nbconvert_exporter": "python",
   "pygments_lexer": "ipython3",
   "version": "3.10.5"
  }
 },
 "nbformat": 4,
 "nbformat_minor": 5
}
