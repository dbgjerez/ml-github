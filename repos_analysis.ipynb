{
 "cells": [
  {
   "cell_type": "markdown",
   "id": "6b75f755",
   "metadata": {},
   "source": [
    "# GitHub repositories analysis"
   ]
  },
  {
   "cell_type": "code",
   "execution_count": 1,
   "id": "492000dc",
   "metadata": {
    "execution": {
     "iopub.execute_input": "2022-08-02T05:06:45.404755Z",
     "iopub.status.busy": "2022-08-02T05:06:45.403348Z",
     "iopub.status.idle": "2022-08-02T05:06:46.204915Z",
     "shell.execute_reply": "2022-08-02T05:06:46.204323Z"
    }
   },
   "outputs": [],
   "source": [
    "import matplotlib.pyplot as plt\n",
    "import pandas as pd\n",
    "import os\n",
    "import glob"
   ]
  },
  {
   "cell_type": "markdown",
   "id": "c6a74011",
   "metadata": {},
   "source": [
    "## Read the data"
   ]
  },
  {
   "cell_type": "code",
   "execution_count": 2,
   "id": "aea83b31",
   "metadata": {
    "execution": {
     "iopub.execute_input": "2022-08-02T05:06:46.208006Z",
     "iopub.status.busy": "2022-08-02T05:06:46.207740Z",
     "iopub.status.idle": "2022-08-02T05:06:46.212076Z",
     "shell.execute_reply": "2022-08-02T05:06:46.211537Z"
    }
   },
   "outputs": [
    {
     "name": "stdout",
     "output_type": "stream",
     "text": [
      "Encontrados 36 ficheros\n"
     ]
    }
   ],
   "source": [
    "files = glob.glob(\"./data/**/*.csv\", recursive=True)\n",
    "print(\"Encontrados\", len(files), \"ficheros\")"
   ]
  },
  {
   "cell_type": "code",
   "execution_count": 3,
   "id": "6f813113",
   "metadata": {
    "execution": {
     "iopub.execute_input": "2022-08-02T05:06:46.214411Z",
     "iopub.status.busy": "2022-08-02T05:06:46.214230Z",
     "iopub.status.idle": "2022-08-02T05:06:46.265416Z",
     "shell.execute_reply": "2022-08-02T05:06:46.264844Z"
    }
   },
   "outputs": [],
   "source": [
    "df = pd.concat((pd.read_csv(f) for f in files), ignore_index=True)"
   ]
  },
  {
   "cell_type": "code",
   "execution_count": 4,
   "id": "4c31fe83",
   "metadata": {
    "execution": {
     "iopub.execute_input": "2022-08-02T05:06:46.268229Z",
     "iopub.status.busy": "2022-08-02T05:06:46.267935Z",
     "iopub.status.idle": "2022-08-02T05:06:46.273166Z",
     "shell.execute_reply": "2022-08-02T05:06:46.272649Z"
    }
   },
   "outputs": [],
   "source": [
    "df[\"ts\"] = pd.to_datetime(df[\"ts\"], format='%Y-%m-%d')"
   ]
  },
  {
   "cell_type": "code",
   "execution_count": 5,
   "id": "f80824d2",
   "metadata": {
    "execution": {
     "iopub.execute_input": "2022-08-02T05:06:46.275724Z",
     "iopub.status.busy": "2022-08-02T05:06:46.275290Z",
     "iopub.status.idle": "2022-08-02T05:06:46.279433Z",
     "shell.execute_reply": "2022-08-02T05:06:46.278992Z"
    }
   },
   "outputs": [],
   "source": [
    "ts_max = df[\"ts\"].unique().max()\n",
    "today = df[df.ts==ts_max]\n",
    "head_total = 5 if today.ts.count()>5 else today.ts.count()"
   ]
  },
  {
   "cell_type": "code",
   "execution_count": 6,
   "id": "7d6ff7dc",
   "metadata": {
    "execution": {
     "iopub.execute_input": "2022-08-02T05:06:46.281946Z",
     "iopub.status.busy": "2022-08-02T05:06:46.281533Z",
     "iopub.status.idle": "2022-08-02T05:06:46.295375Z",
     "shell.execute_reply": "2022-08-02T05:06:46.294894Z"
    },
    "scrolled": true
   },
   "outputs": [
    {
     "data": {
      "text/html": [
       "<div>\n",
       "<style scoped>\n",
       "    .dataframe tbody tr th:only-of-type {\n",
       "        vertical-align: middle;\n",
       "    }\n",
       "\n",
       "    .dataframe tbody tr th {\n",
       "        vertical-align: top;\n",
       "    }\n",
       "\n",
       "    .dataframe thead th {\n",
       "        text-align: right;\n",
       "    }\n",
       "</style>\n",
       "<table border=\"1\" class=\"dataframe\">\n",
       "  <thead>\n",
       "    <tr style=\"text-align: right;\">\n",
       "      <th></th>\n",
       "      <th>name</th>\n",
       "      <th>views_total</th>\n",
       "      <th>views_uniques</th>\n",
       "      <th>clones_total</th>\n",
       "    </tr>\n",
       "  </thead>\n",
       "  <tbody>\n",
       "    <tr>\n",
       "      <th>228</th>\n",
       "      <td>influxdb-telegraf-grafana</td>\n",
       "      <td>2</td>\n",
       "      <td>2</td>\n",
       "      <td>0</td>\n",
       "    </tr>\n",
       "  </tbody>\n",
       "</table>\n",
       "</div>"
      ],
      "text/plain": [
       "                          name  views_total  views_uniques  clones_total\n",
       "228  influxdb-telegraf-grafana            2              2             0"
      ]
     },
     "execution_count": 6,
     "metadata": {},
     "output_type": "execute_result"
    }
   ],
   "source": [
    "columns=[\"name\",\"views_total\",\"views_uniques\",\"clones_total\"]\n",
    "today[columns].sort_values(by=[\"views_total\",\"views_uniques\"], ascending=False).head(head_total)"
   ]
  },
  {
   "cell_type": "code",
   "execution_count": 7,
   "id": "d956a7b6",
   "metadata": {
    "execution": {
     "iopub.execute_input": "2022-08-02T05:06:46.297810Z",
     "iopub.status.busy": "2022-08-02T05:06:46.297438Z",
     "iopub.status.idle": "2022-08-02T05:06:46.300324Z",
     "shell.execute_reply": "2022-08-02T05:06:46.299846Z"
    }
   },
   "outputs": [],
   "source": [
    "repos = df.name.unique().tolist()"
   ]
  },
  {
   "cell_type": "code",
   "execution_count": 8,
   "id": "d0fb52ef",
   "metadata": {
    "execution": {
     "iopub.execute_input": "2022-08-02T05:06:46.303300Z",
     "iopub.status.busy": "2022-08-02T05:06:46.302871Z",
     "iopub.status.idle": "2022-08-02T05:06:46.360906Z",
     "shell.execute_reply": "2022-08-02T05:06:46.360182Z"
    }
   },
   "outputs": [],
   "source": [
    "dict_df_repos = dict()\n",
    "for repo_name in repos:\n",
    "    dict_df_repos[repo_name] = df[df.name==repo_name]"
   ]
  },
  {
   "cell_type": "markdown",
   "id": "b7034071",
   "metadata": {},
   "source": [
    "## Data analysis"
   ]
  },
  {
   "cell_type": "code",
   "execution_count": 9,
   "id": "b33db4b7",
   "metadata": {
    "execution": {
     "iopub.execute_input": "2022-08-02T05:06:46.364013Z",
     "iopub.status.busy": "2022-08-02T05:06:46.363590Z",
     "iopub.status.idle": "2022-08-02T05:06:46.371681Z",
     "shell.execute_reply": "2022-08-02T05:06:46.371029Z"
    }
   },
   "outputs": [],
   "source": [
    "df_grouped = df.groupby(['name']).agg({\"stars_count\": [\"max\"],\"clones_uniques\": [\"sum\"],\"views_total\": [\"sum\", \"max\"]})"
   ]
  },
  {
   "cell_type": "markdown",
   "id": "d7c6f79d",
   "metadata": {},
   "source": [
    "### Views"
   ]
  },
  {
   "cell_type": "code",
   "execution_count": 10,
   "id": "8e7486fd",
   "metadata": {
    "execution": {
     "iopub.execute_input": "2022-08-02T05:06:46.374482Z",
     "iopub.status.busy": "2022-08-02T05:06:46.374216Z",
     "iopub.status.idle": "2022-08-02T05:06:46.381345Z",
     "shell.execute_reply": "2022-08-02T05:06:46.380862Z"
    }
   },
   "outputs": [
    {
     "name": "stdout",
     "output_type": "stream",
     "text": [
      "Best views over: 18.0\n",
      "Worst views under: 0.0\n"
     ]
    }
   ],
   "source": [
    "views_best_quantile = 0.75\n",
    "views_worst_quantile = 0.25\n",
    "best_views_percentile = df_grouped[('views_total', 'sum')].quantile(views_best_quantile)\n",
    "worst_views_percentile = df_grouped[('views_total', 'sum')].quantile(views_worst_quantile)\n",
    "print(\"Best views over:\", best_views_percentile)\n",
    "print(\"Worst views under:\", worst_views_percentile)"
   ]
  },
  {
   "cell_type": "code",
   "execution_count": 11,
   "id": "7958a4f1",
   "metadata": {
    "execution": {
     "iopub.execute_input": "2022-08-02T05:06:46.383867Z",
     "iopub.status.busy": "2022-08-02T05:06:46.383444Z",
     "iopub.status.idle": "2022-08-02T05:06:46.391268Z",
     "shell.execute_reply": "2022-08-02T05:06:46.390703Z"
    }
   },
   "outputs": [
    {
     "data": {
      "text/html": [
       "<div>\n",
       "<style scoped>\n",
       "    .dataframe tbody tr th:only-of-type {\n",
       "        vertical-align: middle;\n",
       "    }\n",
       "\n",
       "    .dataframe tbody tr th {\n",
       "        vertical-align: top;\n",
       "    }\n",
       "\n",
       "    .dataframe thead th {\n",
       "        text-align: right;\n",
       "    }\n",
       "</style>\n",
       "<table border=\"1\" class=\"dataframe\">\n",
       "  <thead>\n",
       "    <tr style=\"text-align: right;\">\n",
       "      <th></th>\n",
       "      <th>sum</th>\n",
       "      <th>max</th>\n",
       "    </tr>\n",
       "    <tr>\n",
       "      <th>name</th>\n",
       "      <th></th>\n",
       "      <th></th>\n",
       "    </tr>\n",
       "  </thead>\n",
       "  <tbody>\n",
       "    <tr>\n",
       "      <th>kotlin-ktor</th>\n",
       "      <td>217</td>\n",
       "      <td>41</td>\n",
       "    </tr>\n",
       "    <tr>\n",
       "      <th>quarkus-kotlin-example</th>\n",
       "      <td>193</td>\n",
       "      <td>46</td>\n",
       "    </tr>\n",
       "    <tr>\n",
       "      <th>ocp-monitoring-golang</th>\n",
       "      <td>169</td>\n",
       "      <td>133</td>\n",
       "    </tr>\n",
       "    <tr>\n",
       "      <th>ml-github</th>\n",
       "      <td>124</td>\n",
       "      <td>41</td>\n",
       "    </tr>\n",
       "    <tr>\n",
       "      <th>golang-rest-api-cassandra</th>\n",
       "      <td>79</td>\n",
       "      <td>27</td>\n",
       "    </tr>\n",
       "    <tr>\n",
       "      <th>istio-wasm-filter-golang</th>\n",
       "      <td>73</td>\n",
       "      <td>24</td>\n",
       "    </tr>\n",
       "    <tr>\n",
       "      <th>golang-k8s-helm-helloworld</th>\n",
       "      <td>62</td>\n",
       "      <td>42</td>\n",
       "    </tr>\n",
       "    <tr>\n",
       "      <th>kustomize-vs-helm</th>\n",
       "      <td>62</td>\n",
       "      <td>24</td>\n",
       "    </tr>\n",
       "    <tr>\n",
       "      <th>mqtt-golang-influxdb</th>\n",
       "      <td>50</td>\n",
       "      <td>25</td>\n",
       "    </tr>\n",
       "    <tr>\n",
       "      <th>kops-aws</th>\n",
       "      <td>27</td>\n",
       "      <td>20</td>\n",
       "    </tr>\n",
       "    <tr>\n",
       "      <th>spring-kotlin-crud</th>\n",
       "      <td>27</td>\n",
       "      <td>15</td>\n",
       "    </tr>\n",
       "    <tr>\n",
       "      <th>b0rr3g0-blog</th>\n",
       "      <td>20</td>\n",
       "      <td>16</td>\n",
       "    </tr>\n",
       "  </tbody>\n",
       "</table>\n",
       "</div>"
      ],
      "text/plain": [
       "                            sum  max\n",
       "name                                \n",
       "kotlin-ktor                 217   41\n",
       "quarkus-kotlin-example      193   46\n",
       "ocp-monitoring-golang       169  133\n",
       "ml-github                   124   41\n",
       "golang-rest-api-cassandra    79   27\n",
       "istio-wasm-filter-golang     73   24\n",
       "golang-k8s-helm-helloworld   62   42\n",
       "kustomize-vs-helm            62   24\n",
       "mqtt-golang-influxdb         50   25\n",
       "kops-aws                     27   20\n",
       "spring-kotlin-crud           27   15\n",
       "b0rr3g0-blog                 20   16"
      ]
     },
     "execution_count": 11,
     "metadata": {},
     "output_type": "execute_result"
    }
   ],
   "source": [
    "views=df_grouped[('views_total')]\n",
    "views_best = views[views['sum'] > best_views_percentile]\n",
    "views_best.sort_values(by='sum', ascending=False)"
   ]
  },
  {
   "cell_type": "markdown",
   "id": "942bcf96",
   "metadata": {},
   "source": [
    "#### Best views repositories"
   ]
  },
  {
   "cell_type": "code",
   "execution_count": 12,
   "id": "7c19e28e",
   "metadata": {
    "execution": {
     "iopub.execute_input": "2022-08-02T05:06:46.400251Z",
     "iopub.status.busy": "2022-08-02T05:06:46.399992Z",
     "iopub.status.idle": "2022-08-02T05:06:46.645356Z",
     "shell.execute_reply": "2022-08-02T05:06:46.644872Z"
    }
   },
   "outputs": [
    {
     "data": {
      "text/plain": [
       "<matplotlib.legend.Legend at 0x7f16de2f7ca0>"
      ]
     },
     "execution_count": 12,
     "metadata": {},
     "output_type": "execute_result"
    },
    {
     "data": {
      "image/png": "[encoded data removed]",
      "text/plain": [
       "<Figure size 1440x720 with 1 Axes>"
      ]
     },
     "metadata": {
      "needs_background": "light"
     },
     "output_type": "display_data"
    }
   ],
   "source": [
    "plt.figure(figsize=(20,10))\n",
    "for repo_name in views_best.index.tolist():\n",
    "    df_r = dict_df_repos[repo_name].sort_values(by=\"ts\")\n",
    "    x = df_r.ts\n",
    "    y = df_r.views_total\n",
    "    plt.plot(x, y, label=repo_name)\n",
    "    \n",
    "plt.legend(loc = \"upper left\")"
   ]
  },
  {
   "cell_type": "markdown",
   "id": "6e7aacde",
   "metadata": {},
   "source": [
    "#### Sum views total"
   ]
  },
  {
   "cell_type": "code",
   "execution_count": 13,
   "id": "c4004748",
   "metadata": {
    "execution": {
     "iopub.execute_input": "2022-08-02T05:06:46.648035Z",
     "iopub.status.busy": "2022-08-02T05:06:46.647606Z",
     "iopub.status.idle": "2022-08-02T05:06:46.653450Z",
     "shell.execute_reply": "2022-08-02T05:06:46.652700Z"
    }
   },
   "outputs": [],
   "source": [
    "df_total_views=df.groupby(['ts']).agg({\"views_total\": [\"sum\"]}).sort_values(by=\"ts\", ascending=True)"
   ]
  },
  {
   "cell_type": "code",
   "execution_count": 14,
   "id": "981ecf59",
   "metadata": {
    "execution": {
     "iopub.execute_input": "2022-08-02T05:06:46.656160Z",
     "iopub.status.busy": "2022-08-02T05:06:46.655916Z",
     "iopub.status.idle": "2022-08-02T05:06:46.807274Z",
     "shell.execute_reply": "2022-08-02T05:06:46.806623Z"
    }
   },
   "outputs": [
    {
     "data": {
      "text/plain": [
       "<matplotlib.legend.Legend at 0x7f169b36b730>"
      ]
     },
     "execution_count": 14,
     "metadata": {},
     "output_type": "execute_result"
    },
    {
     "data": {
      "image/png": "[encoded data removed]",
      "text/plain": [
       "<Figure size 1440x720 with 1 Axes>"
      ]
     },
     "metadata": {
      "needs_background": "light"
     },
     "output_type": "display_data"
    }
   ],
   "source": [
    "plt.figure(figsize=(20,10))\n",
    "x = df_total_views.index\n",
    "y = df_total_views[('views_total', 'sum')]\n",
    "plt.plot(x, y, label=\"total_views\")\n",
    "plt.legend(loc = \"upper left\")"
   ]
  },
  {
   "cell_type": "markdown",
   "id": "56d55a33",
   "metadata": {},
   "source": [
    "### Clones"
   ]
  },
  {
   "cell_type": "code",
   "execution_count": 15,
   "id": "4430fccd",
   "metadata": {
    "execution": {
     "iopub.execute_input": "2022-08-02T05:06:46.810039Z",
     "iopub.status.busy": "2022-08-02T05:06:46.809616Z",
     "iopub.status.idle": "2022-08-02T05:06:46.816589Z",
     "shell.execute_reply": "2022-08-02T05:06:46.816110Z"
    }
   },
   "outputs": [
    {
     "name": "stdout",
     "output_type": "stream",
     "text": [
      "Best clones over: 2.75\n",
      "Worst clones under: 1.0\n"
     ]
    }
   ],
   "source": [
    "# calculate the best 25% repositories\n",
    "best_clones_quantile = 0.75\n",
    "worst_clones_quantile = 0.25\n",
    "best_clones_percentile = df_grouped[('clones_uniques', 'sum')].quantile(best_clones_quantile)\n",
    "worst_clones_percentile = df_grouped[('clones_uniques', 'sum')].quantile(worst_clones_quantile)\n",
    "print(\"Best clones over:\", best_clones_percentile)\n",
    "print(\"Worst clones under:\", worst_clones_percentile)"
   ]
  },
  {
   "cell_type": "code",
   "execution_count": 16,
   "id": "9d6f5a3c",
   "metadata": {
    "execution": {
     "iopub.execute_input": "2022-08-02T05:06:46.819308Z",
     "iopub.status.busy": "2022-08-02T05:06:46.819015Z",
     "iopub.status.idle": "2022-08-02T05:06:46.826301Z",
     "shell.execute_reply": "2022-08-02T05:06:46.825827Z"
    }
   },
   "outputs": [
    {
     "data": {
      "text/html": [
       "<div>\n",
       "<style scoped>\n",
       "    .dataframe tbody tr th:only-of-type {\n",
       "        vertical-align: middle;\n",
       "    }\n",
       "\n",
       "    .dataframe tbody tr th {\n",
       "        vertical-align: top;\n",
       "    }\n",
       "\n",
       "    .dataframe thead th {\n",
       "        text-align: right;\n",
       "    }\n",
       "</style>\n",
       "<table border=\"1\" class=\"dataframe\">\n",
       "  <thead>\n",
       "    <tr style=\"text-align: right;\">\n",
       "      <th></th>\n",
       "      <th>sum</th>\n",
       "    </tr>\n",
       "    <tr>\n",
       "      <th>name</th>\n",
       "      <th></th>\n",
       "    </tr>\n",
       "  </thead>\n",
       "  <tbody>\n",
       "    <tr>\n",
       "      <th>golang-rest-api-cassandra</th>\n",
       "      <td>473</td>\n",
       "    </tr>\n",
       "    <tr>\n",
       "      <th>ta</th>\n",
       "      <td>301</td>\n",
       "    </tr>\n",
       "    <tr>\n",
       "      <th>iot-devices-crud</th>\n",
       "      <td>215</td>\n",
       "    </tr>\n",
       "    <tr>\n",
       "      <th>mqtt-golang-influxdb</th>\n",
       "      <td>171</td>\n",
       "    </tr>\n",
       "    <tr>\n",
       "      <th>ml-github</th>\n",
       "      <td>59</td>\n",
       "    </tr>\n",
       "    <tr>\n",
       "      <th>b0rr3g0-blog</th>\n",
       "      <td>16</td>\n",
       "    </tr>\n",
       "    <tr>\n",
       "      <th>DO180-apps</th>\n",
       "      <td>11</td>\n",
       "    </tr>\n",
       "    <tr>\n",
       "      <th>ocp-monitoring-golang</th>\n",
       "      <td>10</td>\n",
       "    </tr>\n",
       "    <tr>\n",
       "      <th>istio-wasm-filter-golang</th>\n",
       "      <td>4</td>\n",
       "    </tr>\n",
       "    <tr>\n",
       "      <th>kops-aws</th>\n",
       "      <td>4</td>\n",
       "    </tr>\n",
       "    <tr>\n",
       "      <th>pelorus-workshop</th>\n",
       "      <td>4</td>\n",
       "    </tr>\n",
       "    <tr>\n",
       "      <th>kustomize-vs-helm</th>\n",
       "      <td>3</td>\n",
       "    </tr>\n",
       "  </tbody>\n",
       "</table>\n",
       "</div>"
      ],
      "text/plain": [
       "                           sum\n",
       "name                          \n",
       "golang-rest-api-cassandra  473\n",
       "ta                         301\n",
       "iot-devices-crud           215\n",
       "mqtt-golang-influxdb       171\n",
       "ml-github                   59\n",
       "b0rr3g0-blog                16\n",
       "DO180-apps                  11\n",
       "ocp-monitoring-golang       10\n",
       "istio-wasm-filter-golang     4\n",
       "kops-aws                     4\n",
       "pelorus-workshop             4\n",
       "kustomize-vs-helm            3"
      ]
     },
     "execution_count": 16,
     "metadata": {},
     "output_type": "execute_result"
    }
   ],
   "source": [
    "clones=df_grouped[('clones_uniques')]\n",
    "clones_best = clones[clones['sum'] > best_clones_percentile]\n",
    "clones_best.sort_values(by='sum', ascending=False)"
   ]
  },
  {
   "cell_type": "markdown",
   "id": "157569fb",
   "metadata": {},
   "source": [
    "# Stars"
   ]
  },
  {
   "cell_type": "code",
   "execution_count": 17,
   "id": "6d5ba727",
   "metadata": {
    "execution": {
     "iopub.execute_input": "2022-08-02T05:06:46.828624Z",
     "iopub.status.busy": "2022-08-02T05:06:46.828441Z",
     "iopub.status.idle": "2022-08-02T05:06:46.835028Z",
     "shell.execute_reply": "2022-08-02T05:06:46.834480Z"
    }
   },
   "outputs": [
    {
     "name": "stdout",
     "output_type": "stream",
     "text": [
      "Best stars over: 1.0\n",
      "Worst stars under: 0.0\n"
     ]
    }
   ],
   "source": [
    "# calculate the best 50% repositories\n",
    "best_stars_quantile = 0.75\n",
    "worst_stars_quantile = 0.25\n",
    "best_stars_percentile = df_grouped[('stars_count', 'max')].quantile(best_stars_quantile)\n",
    "worst_stars_percentile = df_grouped[('stars_count', 'max')].quantile(worst_stars_quantile)\n",
    "print(\"Best stars over:\", best_stars_percentile)\n",
    "print(\"Worst stars under:\", worst_stars_percentile)"
   ]
  },
  {
   "cell_type": "code",
   "execution_count": 18,
   "id": "d5234152",
   "metadata": {
    "execution": {
     "iopub.execute_input": "2022-08-02T05:06:46.837974Z",
     "iopub.status.busy": "2022-08-02T05:06:46.837699Z",
     "iopub.status.idle": "2022-08-02T05:06:46.844602Z",
     "shell.execute_reply": "2022-08-02T05:06:46.844146Z"
    }
   },
   "outputs": [
    {
     "data": {
      "text/html": [
       "<div>\n",
       "<style scoped>\n",
       "    .dataframe tbody tr th:only-of-type {\n",
       "        vertical-align: middle;\n",
       "    }\n",
       "\n",
       "    .dataframe tbody tr th {\n",
       "        vertical-align: top;\n",
       "    }\n",
       "\n",
       "    .dataframe thead th {\n",
       "        text-align: right;\n",
       "    }\n",
       "</style>\n",
       "<table border=\"1\" class=\"dataframe\">\n",
       "  <thead>\n",
       "    <tr style=\"text-align: right;\">\n",
       "      <th></th>\n",
       "      <th>max</th>\n",
       "    </tr>\n",
       "    <tr>\n",
       "      <th>name</th>\n",
       "      <th></th>\n",
       "    </tr>\n",
       "  </thead>\n",
       "  <tbody>\n",
       "    <tr>\n",
       "      <th>mqtt-golang-influxdb</th>\n",
       "      <td>10</td>\n",
       "    </tr>\n",
       "    <tr>\n",
       "      <th>spring-kotlin-crud</th>\n",
       "      <td>6</td>\n",
       "    </tr>\n",
       "    <tr>\n",
       "      <th>kotlin-ktor</th>\n",
       "      <td>5</td>\n",
       "    </tr>\n",
       "    <tr>\n",
       "      <th>kops-aws</th>\n",
       "      <td>4</td>\n",
       "    </tr>\n",
       "    <tr>\n",
       "      <th>kustomize-vs-helm</th>\n",
       "      <td>3</td>\n",
       "    </tr>\n",
       "    <tr>\n",
       "      <th>ta</th>\n",
       "      <td>3</td>\n",
       "    </tr>\n",
       "    <tr>\n",
       "      <th>golang-k8s-helm-helloworld</th>\n",
       "      <td>2</td>\n",
       "    </tr>\n",
       "    <tr>\n",
       "      <th>golang-rest-api-cassandra</th>\n",
       "      <td>2</td>\n",
       "    </tr>\n",
       "    <tr>\n",
       "      <th>quarkus-kotlin-example</th>\n",
       "      <td>2</td>\n",
       "    </tr>\n",
       "  </tbody>\n",
       "</table>\n",
       "</div>"
      ],
      "text/plain": [
       "                            max\n",
       "name                           \n",
       "mqtt-golang-influxdb         10\n",
       "spring-kotlin-crud            6\n",
       "kotlin-ktor                   5\n",
       "kops-aws                      4\n",
       "kustomize-vs-helm             3\n",
       "ta                            3\n",
       "golang-k8s-helm-helloworld    2\n",
       "golang-rest-api-cassandra     2\n",
       "quarkus-kotlin-example        2"
      ]
     },
     "execution_count": 18,
     "metadata": {},
     "output_type": "execute_result"
    }
   ],
   "source": [
    "stars=df_grouped[('stars_count')]\n",
    "stars_best = stars[stars['max'] > best_stars_percentile]\n",
    "stars_best.sort_values(by=['max'], ascending=False)"
   ]
  },
  {
   "cell_type": "markdown",
   "id": "930ebe06",
   "metadata": {},
   "source": [
    "# Red zone"
   ]
  },
  {
   "cell_type": "code",
   "execution_count": 19,
   "id": "4b27fe45",
   "metadata": {
    "execution": {
     "iopub.execute_input": "2022-08-02T05:06:46.847231Z",
     "iopub.status.busy": "2022-08-02T05:06:46.846814Z",
     "iopub.status.idle": "2022-08-02T05:06:46.855133Z",
     "shell.execute_reply": "2022-08-02T05:06:46.854637Z"
    }
   },
   "outputs": [],
   "source": [
    "repos = pd.read_csv(\"./repos.csv\")\n",
    "\n",
    "# remove colum\n",
    "repos = repos.iloc[:,1:]\n",
    "# remove when not my user\n",
    "repos = repos.drop(repos[repos.owner!='dbgjerez'].index)\n",
    "# string to date\n",
    "repos[\"latest_commit_date\"] = pd.to_datetime(repos[\"latest_commit_date\"], format='%Y%m%d')\n",
    "# days until latest commit\n",
    "today = pd.to_datetime('today')\n",
    "repos[\"days_latest_commit\"] = (today - repos.latest_commit_date).dt.days"
   ]
  },
  {
   "cell_type": "code",
   "execution_count": 20,
   "id": "cfcef1a2",
   "metadata": {
    "execution": {
     "iopub.execute_input": "2022-08-02T05:06:46.857864Z",
     "iopub.status.busy": "2022-08-02T05:06:46.857468Z",
     "iopub.status.idle": "2022-08-02T05:06:46.867006Z",
     "shell.execute_reply": "2022-08-02T05:06:46.866543Z"
    }
   },
   "outputs": [
    {
     "data": {
      "text/html": [
       "<div>\n",
       "<style scoped>\n",
       "    .dataframe tbody tr th:only-of-type {\n",
       "        vertical-align: middle;\n",
       "    }\n",
       "\n",
       "    .dataframe tbody tr th {\n",
       "        vertical-align: top;\n",
       "    }\n",
       "\n",
       "    .dataframe thead th {\n",
       "        text-align: right;\n",
       "    }\n",
       "</style>\n",
       "<table border=\"1\" class=\"dataframe\">\n",
       "  <thead>\n",
       "    <tr style=\"text-align: right;\">\n",
       "      <th></th>\n",
       "      <th>name</th>\n",
       "      <th>topics</th>\n",
       "      <th>latest_commit_date</th>\n",
       "      <th>owner</th>\n",
       "      <th>days_latest_commit</th>\n",
       "    </tr>\n",
       "  </thead>\n",
       "  <tbody>\n",
       "    <tr>\n",
       "      <th>42</th>\n",
       "      <td>ml-github</td>\n",
       "      <td>[]</td>\n",
       "      <td>2022-08-02</td>\n",
       "      <td>dbgjerez</td>\n",
       "      <td>0</td>\n",
       "    </tr>\n",
       "    <tr>\n",
       "      <th>35</th>\n",
       "      <td>kops-aws</td>\n",
       "      <td>[]</td>\n",
       "      <td>2022-07-26</td>\n",
       "      <td>dbgjerez</td>\n",
       "      <td>7</td>\n",
       "    </tr>\n",
       "    <tr>\n",
       "      <th>3</th>\n",
       "      <td>b0rr3g0-blog</td>\n",
       "      <td>[]</td>\n",
       "      <td>2022-07-26</td>\n",
       "      <td>dbgjerez</td>\n",
       "      <td>7</td>\n",
       "    </tr>\n",
       "    <tr>\n",
       "      <th>48</th>\n",
       "      <td>ocp-monitoring-golang</td>\n",
       "      <td>[]</td>\n",
       "      <td>2022-07-14</td>\n",
       "      <td>dbgjerez</td>\n",
       "      <td>19</td>\n",
       "    </tr>\n",
       "    <tr>\n",
       "      <th>15</th>\n",
       "      <td>golang-k8s-helm-helloworld</td>\n",
       "      <td>['go', 'testing', 'golang', 'docker', 'kuberne...</td>\n",
       "      <td>2022-07-14</td>\n",
       "      <td>dbgjerez</td>\n",
       "      <td>19</td>\n",
       "    </tr>\n",
       "    <tr>\n",
       "      <th>...</th>\n",
       "      <td>...</td>\n",
       "      <td>...</td>\n",
       "      <td>...</td>\n",
       "      <td>...</td>\n",
       "      <td>...</td>\n",
       "    </tr>\n",
       "    <tr>\n",
       "      <th>60</th>\n",
       "      <td>spring-cloud-ms1</td>\n",
       "      <td>['spring', 'springcloud', 'java', 'java-8', 's...</td>\n",
       "      <td>2017-04-17</td>\n",
       "      <td>dbgjerez</td>\n",
       "      <td>1933</td>\n",
       "    </tr>\n",
       "    <tr>\n",
       "      <th>56</th>\n",
       "      <td>spring-boot-elk</td>\n",
       "      <td>[]</td>\n",
       "      <td>2017-03-15</td>\n",
       "      <td>dbgjerez</td>\n",
       "      <td>1966</td>\n",
       "    </tr>\n",
       "    <tr>\n",
       "      <th>45</th>\n",
       "      <td>ms-config-server</td>\n",
       "      <td>[]</td>\n",
       "      <td>2017-03-15</td>\n",
       "      <td>dbgjerez</td>\n",
       "      <td>1966</td>\n",
       "    </tr>\n",
       "    <tr>\n",
       "      <th>62</th>\n",
       "      <td>spring-data-mongodb</td>\n",
       "      <td>[]</td>\n",
       "      <td>2016-09-22</td>\n",
       "      <td>dbgjerez</td>\n",
       "      <td>2140</td>\n",
       "    </tr>\n",
       "    <tr>\n",
       "      <th>54</th>\n",
       "      <td>REST-Services-MySQL</td>\n",
       "      <td>[]</td>\n",
       "      <td>2015-05-30</td>\n",
       "      <td>dbgjerez</td>\n",
       "      <td>2621</td>\n",
       "    </tr>\n",
       "  </tbody>\n",
       "</table>\n",
       "<p>71 rows × 5 columns</p>\n",
       "</div>"
      ],
      "text/plain": [
       "                          name  \\\n",
       "42                   ml-github   \n",
       "35                    kops-aws   \n",
       "3                 b0rr3g0-blog   \n",
       "48       ocp-monitoring-golang   \n",
       "15  golang-k8s-helm-helloworld   \n",
       "..                         ...   \n",
       "60            spring-cloud-ms1   \n",
       "56             spring-boot-elk   \n",
       "45            ms-config-server   \n",
       "62         spring-data-mongodb   \n",
       "54         REST-Services-MySQL   \n",
       "\n",
       "                                               topics latest_commit_date  \\\n",
       "42                                                 []         2022-08-02   \n",
       "35                                                 []         2022-07-26   \n",
       "3                                                  []         2022-07-26   \n",
       "48                                                 []         2022-07-14   \n",
       "15  ['go', 'testing', 'golang', 'docker', 'kuberne...         2022-07-14   \n",
       "..                                                ...                ...   \n",
       "60  ['spring', 'springcloud', 'java', 'java-8', 's...         2017-04-17   \n",
       "56                                                 []         2017-03-15   \n",
       "45                                                 []         2017-03-15   \n",
       "62                                                 []         2016-09-22   \n",
       "54                                                 []         2015-05-30   \n",
       "\n",
       "       owner  days_latest_commit  \n",
       "42  dbgjerez                   0  \n",
       "35  dbgjerez                   7  \n",
       "3   dbgjerez                   7  \n",
       "48  dbgjerez                  19  \n",
       "15  dbgjerez                  19  \n",
       "..       ...                 ...  \n",
       "60  dbgjerez                1933  \n",
       "56  dbgjerez                1966  \n",
       "45  dbgjerez                1966  \n",
       "62  dbgjerez                2140  \n",
       "54  dbgjerez                2621  \n",
       "\n",
       "[71 rows x 5 columns]"
      ]
     },
     "execution_count": 20,
     "metadata": {},
     "output_type": "execute_result"
    }
   ],
   "source": [
    "repos.sort_values(by=\"days_latest_commit\")"
   ]
  },
  {
   "cell_type": "code",
   "execution_count": 21,
   "id": "275284b6",
   "metadata": {
    "execution": {
     "iopub.execute_input": "2022-08-02T05:06:46.869810Z",
     "iopub.status.busy": "2022-08-02T05:06:46.869534Z",
     "iopub.status.idle": "2022-08-02T05:06:46.876280Z",
     "shell.execute_reply": "2022-08-02T05:06:46.875655Z"
    }
   },
   "outputs": [
    {
     "data": {
      "text/plain": [
       "['REST-Services-MySQL',\n",
       " 'amq-streams-workshop',\n",
       " 'asciidoc-base',\n",
       " 'dbgjerez',\n",
       " 'golang-azure-eventhub',\n",
       " 'golang-azure-eventhub-kafka',\n",
       " 'iot-esp8266-dht11',\n",
       " 'iot-esp8266-relay-web-server',\n",
       " 'kubernetes-golang-operator',\n",
       " 'kubernetes-helm-operator',\n",
       " 'ml-learning',\n",
       " 'ocp-HTPasswd-file-provider',\n",
       " 'service-mesh-wasm-go',\n",
       " 'spring-cloud-config',\n",
       " 'spring-cloud-dataflow',\n",
       " 'spring-cloud-eureka',\n",
       " 'workshop-uca-aws-deploy']"
      ]
     },
     "execution_count": 21,
     "metadata": {},
     "output_type": "execute_result"
    }
   ],
   "source": [
    "df_red_zone = df_grouped[df_grouped[('stars_count', 'max')] <= worst_stars_percentile]\n",
    "df_red_zone = df_red_zone[df_red_zone[('clones_uniques', 'sum')] <= worst_clones_percentile]\n",
    "df_red_zone = df_red_zone[df_red_zone[('views_total', 'sum')] <= worst_views_percentile]\n",
    "df_red_zone.index.values.tolist()"
   ]
  },
  {
   "cell_type": "code",
   "execution_count": null,
   "id": "0fa02015",
   "metadata": {},
   "outputs": [],
   "source": []
  }
 ],
 "metadata": {
  "kernelspec": {
   "display_name": "Python 3 (ipykernel)",
   "language": "python",
   "name": "python3"
  },
  "language_info": {
   "codemirror_mode": {
    "name": "ipython",
    "version": 3
   },
   "file_extension": ".py",
   "mimetype": "text/x-python",
   "name": "python",
   "nbconvert_exporter": "python",
   "pygments_lexer": "ipython3",
   "version": "3.10.5"
  }
 },
 "nbformat": 4,
 "nbformat_minor": 5
}
