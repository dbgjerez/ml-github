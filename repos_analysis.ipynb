{
 "cells": [
  {
   "cell_type": "markdown",
   "id": "6b75f755",
   "metadata": {},
   "source": [
    "# GitHub repositories analysis"
   ]
  },
  {
   "cell_type": "code",
   "execution_count": 1,
   "id": "492000dc",
   "metadata": {
    "execution": {
     "iopub.execute_input": "2022-08-03T12:16:13.495869Z",
     "iopub.status.busy": "2022-08-03T12:16:13.493682Z",
     "iopub.status.idle": "2022-08-03T12:16:14.136008Z",
     "shell.execute_reply": "2022-08-03T12:16:14.135530Z"
    }
   },
   "outputs": [],
   "source": [
    "import matplotlib.pyplot as plt\n",
    "import pandas as pd\n",
    "import os\n",
    "import glob"
   ]
  },
  {
   "cell_type": "markdown",
   "id": "c6a74011",
   "metadata": {},
   "source": [
    "## Read the data"
   ]
  },
  {
   "cell_type": "code",
   "execution_count": 2,
   "id": "aea83b31",
   "metadata": {
    "execution": {
     "iopub.execute_input": "2022-08-03T12:16:14.138507Z",
     "iopub.status.busy": "2022-08-03T12:16:14.138300Z",
     "iopub.status.idle": "2022-08-03T12:16:14.141867Z",
     "shell.execute_reply": "2022-08-03T12:16:14.141436Z"
    }
   },
   "outputs": [
    {
     "name": "stdout",
     "output_type": "stream",
     "text": [
      "Encontrados 37 ficheros\n"
     ]
    }
   ],
   "source": [
    "files = glob.glob(\"./data/**/*.csv\", recursive=True)\n",
    "print(\"Encontrados\", len(files), \"ficheros\")"
   ]
  },
  {
   "cell_type": "code",
   "execution_count": 3,
   "id": "6f813113",
   "metadata": {
    "execution": {
     "iopub.execute_input": "2022-08-03T12:16:14.143834Z",
     "iopub.status.busy": "2022-08-03T12:16:14.143691Z",
     "iopub.status.idle": "2022-08-03T12:16:14.183652Z",
     "shell.execute_reply": "2022-08-03T12:16:14.183186Z"
    }
   },
   "outputs": [],
   "source": [
    "df = pd.concat((pd.read_csv(f) for f in files), ignore_index=True)"
   ]
  },
  {
   "cell_type": "code",
   "execution_count": 4,
   "id": "4c31fe83",
   "metadata": {
    "execution": {
     "iopub.execute_input": "2022-08-03T12:16:14.185752Z",
     "iopub.status.busy": "2022-08-03T12:16:14.185603Z",
     "iopub.status.idle": "2022-08-03T12:16:14.189488Z",
     "shell.execute_reply": "2022-08-03T12:16:14.189047Z"
    }
   },
   "outputs": [],
   "source": [
    "df[\"date\"] = pd.to_datetime(df[\"ts\"], format='%Y-%m-%d')"
   ]
  },
  {
   "cell_type": "code",
   "execution_count": 5,
   "id": "f80824d2",
   "metadata": {
    "execution": {
     "iopub.execute_input": "2022-08-03T12:16:14.191387Z",
     "iopub.status.busy": "2022-08-03T12:16:14.191240Z",
     "iopub.status.idle": "2022-08-03T12:16:14.194852Z",
     "shell.execute_reply": "2022-08-03T12:16:14.194417Z"
    }
   },
   "outputs": [],
   "source": [
    "ts_max = df[\"ts\"].unique().max()\n",
    "today = df[df.ts==ts_max]\n",
    "head_total = 5 if today.ts.count()>5 else today.ts.count()"
   ]
  },
  {
   "cell_type": "code",
   "execution_count": 6,
   "id": "7d6ff7dc",
   "metadata": {
    "execution": {
     "iopub.execute_input": "2022-08-03T12:16:14.196739Z",
     "iopub.status.busy": "2022-08-03T12:16:14.196596Z",
     "iopub.status.idle": "2022-08-03T12:16:14.208311Z",
     "shell.execute_reply": "2022-08-03T12:16:14.207852Z"
    },
    "scrolled": true
   },
   "outputs": [
    {
     "data": {
      "text/html": [
       "<div>\n",
       "<style scoped>\n",
       "    .dataframe tbody tr th:only-of-type {\n",
       "        vertical-align: middle;\n",
       "    }\n",
       "\n",
       "    .dataframe tbody tr th {\n",
       "        vertical-align: top;\n",
       "    }\n",
       "\n",
       "    .dataframe thead th {\n",
       "        text-align: right;\n",
       "    }\n",
       "</style>\n",
       "<table border=\"1\" class=\"dataframe\">\n",
       "  <thead>\n",
       "    <tr style=\"text-align: right;\">\n",
       "      <th></th>\n",
       "      <th>name</th>\n",
       "      <th>views_total</th>\n",
       "      <th>views_uniques</th>\n",
       "      <th>clones_total</th>\n",
       "    </tr>\n",
       "  </thead>\n",
       "  <tbody>\n",
       "    <tr>\n",
       "      <th>247</th>\n",
       "      <td>ml-github</td>\n",
       "      <td>8</td>\n",
       "      <td>1</td>\n",
       "      <td>2</td>\n",
       "    </tr>\n",
       "    <tr>\n",
       "      <th>245</th>\n",
       "      <td>istio-wasm-filter-golang</td>\n",
       "      <td>2</td>\n",
       "      <td>1</td>\n",
       "      <td>0</td>\n",
       "    </tr>\n",
       "    <tr>\n",
       "      <th>244</th>\n",
       "      <td>golang-rest-api-cassandra</td>\n",
       "      <td>0</td>\n",
       "      <td>0</td>\n",
       "      <td>11</td>\n",
       "    </tr>\n",
       "    <tr>\n",
       "      <th>246</th>\n",
       "      <td>kafka-gitops</td>\n",
       "      <td>0</td>\n",
       "      <td>0</td>\n",
       "      <td>1</td>\n",
       "    </tr>\n",
       "    <tr>\n",
       "      <th>248</th>\n",
       "      <td>ml-learning</td>\n",
       "      <td>0</td>\n",
       "      <td>0</td>\n",
       "      <td>1</td>\n",
       "    </tr>\n",
       "  </tbody>\n",
       "</table>\n",
       "</div>"
      ],
      "text/plain": [
       "                          name  views_total  views_uniques  clones_total\n",
       "247                  ml-github            8              1             2\n",
       "245   istio-wasm-filter-golang            2              1             0\n",
       "244  golang-rest-api-cassandra            0              0            11\n",
       "246               kafka-gitops            0              0             1\n",
       "248                ml-learning            0              0             1"
      ]
     },
     "execution_count": 6,
     "metadata": {},
     "output_type": "execute_result"
    }
   ],
   "source": [
    "columns=[\"name\",\"views_total\",\"views_uniques\",\"clones_total\"]\n",
    "today[columns].sort_values(by=[\"views_total\",\"views_uniques\"], ascending=False).head(head_total)"
   ]
  },
  {
   "cell_type": "code",
   "execution_count": 7,
   "id": "d956a7b6",
   "metadata": {
    "execution": {
     "iopub.execute_input": "2022-08-03T12:16:14.210400Z",
     "iopub.status.busy": "2022-08-03T12:16:14.210244Z",
     "iopub.status.idle": "2022-08-03T12:16:14.212966Z",
     "shell.execute_reply": "2022-08-03T12:16:14.212522Z"
    }
   },
   "outputs": [],
   "source": [
    "repos = df.name.unique().tolist()"
   ]
  },
  {
   "cell_type": "code",
   "execution_count": 8,
   "id": "d0fb52ef",
   "metadata": {
    "execution": {
     "iopub.execute_input": "2022-08-03T12:16:14.214893Z",
     "iopub.status.busy": "2022-08-03T12:16:14.214746Z",
     "iopub.status.idle": "2022-08-03T12:16:14.263673Z",
     "shell.execute_reply": "2022-08-03T12:16:14.263056Z"
    }
   },
   "outputs": [],
   "source": [
    "dict_df_repos = dict()\n",
    "for repo_name in repos:\n",
    "    dict_df_repos[repo_name] = df[df.name==repo_name]"
   ]
  },
  {
   "cell_type": "markdown",
   "id": "b7034071",
   "metadata": {},
   "source": [
    "## Data analysis"
   ]
  },
  {
   "cell_type": "code",
   "execution_count": 9,
   "id": "b33db4b7",
   "metadata": {
    "execution": {
     "iopub.execute_input": "2022-08-03T12:16:14.266354Z",
     "iopub.status.busy": "2022-08-03T12:16:14.266144Z",
     "iopub.status.idle": "2022-08-03T12:16:14.274509Z",
     "shell.execute_reply": "2022-08-03T12:16:14.273920Z"
    }
   },
   "outputs": [],
   "source": [
    "df_grouped = df.groupby(['name']).agg({\"date\": [\"min\"], \"stars_count\": [\"max\"],\"clones_uniques\": [\"sum\"],\"views_total\": [\"sum\", \"max\"]})"
   ]
  },
  {
   "cell_type": "markdown",
   "id": "d7c6f79d",
   "metadata": {},
   "source": [
    "### Views"
   ]
  },
  {
   "cell_type": "code",
   "execution_count": 10,
   "id": "8e7486fd",
   "metadata": {
    "execution": {
     "iopub.execute_input": "2022-08-03T12:16:14.276961Z",
     "iopub.status.busy": "2022-08-03T12:16:14.276772Z",
     "iopub.status.idle": "2022-08-03T12:16:14.283671Z",
     "shell.execute_reply": "2022-08-03T12:16:14.283201Z"
    }
   },
   "outputs": [
    {
     "name": "stdout",
     "output_type": "stream",
     "text": [
      "Best views over: 18.0\n",
      "Worst views under: 0.0\n"
     ]
    }
   ],
   "source": [
    "views_best_quantile = 0.75\n",
    "views_worst_quantile = 0.25\n",
    "best_views_percentile = df_grouped[('views_total', 'sum')].quantile(views_best_quantile)\n",
    "worst_views_percentile = df_grouped[('views_total', 'sum')].quantile(views_worst_quantile)\n",
    "print(\"Best views over:\", best_views_percentile)\n",
    "print(\"Worst views under:\", worst_views_percentile)"
   ]
  },
  {
   "cell_type": "code",
   "execution_count": 11,
   "id": "7958a4f1",
   "metadata": {
    "execution": {
     "iopub.execute_input": "2022-08-03T12:16:14.285840Z",
     "iopub.status.busy": "2022-08-03T12:16:14.285657Z",
     "iopub.status.idle": "2022-08-03T12:16:14.293115Z",
     "shell.execute_reply": "2022-08-03T12:16:14.292659Z"
    }
   },
   "outputs": [
    {
     "data": {
      "text/html": [
       "<div>\n",
       "<style scoped>\n",
       "    .dataframe tbody tr th:only-of-type {\n",
       "        vertical-align: middle;\n",
       "    }\n",
       "\n",
       "    .dataframe tbody tr th {\n",
       "        vertical-align: top;\n",
       "    }\n",
       "\n",
       "    .dataframe thead th {\n",
       "        text-align: right;\n",
       "    }\n",
       "</style>\n",
       "<table border=\"1\" class=\"dataframe\">\n",
       "  <thead>\n",
       "    <tr style=\"text-align: right;\">\n",
       "      <th></th>\n",
       "      <th>sum</th>\n",
       "      <th>max</th>\n",
       "    </tr>\n",
       "    <tr>\n",
       "      <th>name</th>\n",
       "      <th></th>\n",
       "      <th></th>\n",
       "    </tr>\n",
       "  </thead>\n",
       "  <tbody>\n",
       "    <tr>\n",
       "      <th>kotlin-ktor</th>\n",
       "      <td>242</td>\n",
       "      <td>41</td>\n",
       "    </tr>\n",
       "    <tr>\n",
       "      <th>quarkus-kotlin-example</th>\n",
       "      <td>176</td>\n",
       "      <td>46</td>\n",
       "    </tr>\n",
       "    <tr>\n",
       "      <th>ocp-monitoring-golang</th>\n",
       "      <td>169</td>\n",
       "      <td>133</td>\n",
       "    </tr>\n",
       "    <tr>\n",
       "      <th>ml-github</th>\n",
       "      <td>131</td>\n",
       "      <td>41</td>\n",
       "    </tr>\n",
       "    <tr>\n",
       "      <th>golang-rest-api-cassandra</th>\n",
       "      <td>75</td>\n",
       "      <td>27</td>\n",
       "    </tr>\n",
       "    <tr>\n",
       "      <th>istio-wasm-filter-golang</th>\n",
       "      <td>72</td>\n",
       "      <td>24</td>\n",
       "    </tr>\n",
       "    <tr>\n",
       "      <th>mqtt-golang-influxdb</th>\n",
       "      <td>69</td>\n",
       "      <td>25</td>\n",
       "    </tr>\n",
       "    <tr>\n",
       "      <th>golang-k8s-helm-helloworld</th>\n",
       "      <td>62</td>\n",
       "      <td>42</td>\n",
       "    </tr>\n",
       "    <tr>\n",
       "      <th>kustomize-vs-helm</th>\n",
       "      <td>42</td>\n",
       "      <td>24</td>\n",
       "    </tr>\n",
       "    <tr>\n",
       "      <th>kops-aws</th>\n",
       "      <td>27</td>\n",
       "      <td>20</td>\n",
       "    </tr>\n",
       "    <tr>\n",
       "      <th>spring-kotlin-crud</th>\n",
       "      <td>27</td>\n",
       "      <td>15</td>\n",
       "    </tr>\n",
       "    <tr>\n",
       "      <th>b0rr3g0-blog</th>\n",
       "      <td>19</td>\n",
       "      <td>16</td>\n",
       "    </tr>\n",
       "  </tbody>\n",
       "</table>\n",
       "</div>"
      ],
      "text/plain": [
       "                            sum  max\n",
       "name                                \n",
       "kotlin-ktor                 242   41\n",
       "quarkus-kotlin-example      176   46\n",
       "ocp-monitoring-golang       169  133\n",
       "ml-github                   131   41\n",
       "golang-rest-api-cassandra    75   27\n",
       "istio-wasm-filter-golang     72   24\n",
       "mqtt-golang-influxdb         69   25\n",
       "golang-k8s-helm-helloworld   62   42\n",
       "kustomize-vs-helm            42   24\n",
       "kops-aws                     27   20\n",
       "spring-kotlin-crud           27   15\n",
       "b0rr3g0-blog                 19   16"
      ]
     },
     "execution_count": 11,
     "metadata": {},
     "output_type": "execute_result"
    }
   ],
   "source": [
    "views=df_grouped[('views_total')]\n",
    "views_best = views[views['sum'] > best_views_percentile]\n",
    "views_best.sort_values(by='sum', ascending=False)"
   ]
  },
  {
   "cell_type": "markdown",
   "id": "942bcf96",
   "metadata": {},
   "source": [
    "#### Best views repositories"
   ]
  },
  {
   "cell_type": "code",
   "execution_count": 12,
   "id": "7c19e28e",
   "metadata": {
    "execution": {
     "iopub.execute_input": "2022-08-03T12:16:14.301267Z",
     "iopub.status.busy": "2022-08-03T12:16:14.301086Z",
     "iopub.status.idle": "2022-08-03T12:16:14.517806Z",
     "shell.execute_reply": "2022-08-03T12:16:14.517339Z"
    }
   },
   "outputs": [
    {
     "data": {
      "text/plain": [
       "<matplotlib.legend.Legend at 0x7fb536ceb4f0>"
      ]
     },
     "execution_count": 12,
     "metadata": {},
     "output_type": "execute_result"
    },
    {
     "data": {
      "image/png": "[encoded data removed]",
      "text/plain": [
       "<Figure size 1440x720 with 1 Axes>"
      ]
     },
     "metadata": {
      "needs_background": "light"
     },
     "output_type": "display_data"
    }
   ],
   "source": [
    "plt.figure(figsize=(20,10))\n",
    "for repo_name in views_best.index.tolist():\n",
    "    df_r = dict_df_repos[repo_name].sort_values(by=\"date\")\n",
    "    x = df_r.date\n",
    "    y = df_r.views_total\n",
    "    plt.plot(x, y, label=repo_name)\n",
    "    \n",
    "plt.legend(loc = \"upper left\")"
   ]
  },
  {
   "cell_type": "markdown",
   "id": "6e7aacde",
   "metadata": {},
   "source": [
    "#### Sum views total"
   ]
  },
  {
   "cell_type": "code",
   "execution_count": 13,
   "id": "c4004748",
   "metadata": {
    "execution": {
     "iopub.execute_input": "2022-08-03T12:16:14.519818Z",
     "iopub.status.busy": "2022-08-03T12:16:14.519666Z",
     "iopub.status.idle": "2022-08-03T12:16:14.524331Z",
     "shell.execute_reply": "2022-08-03T12:16:14.523907Z"
    }
   },
   "outputs": [],
   "source": [
    "df_total_views=df.groupby(['date']).agg({\"views_total\": [\"sum\"]}).sort_values(by=\"date\", ascending=True)"
   ]
  },
  {
   "cell_type": "code",
   "execution_count": 14,
   "id": "981ecf59",
   "metadata": {
    "execution": {
     "iopub.execute_input": "2022-08-03T12:16:14.526337Z",
     "iopub.status.busy": "2022-08-03T12:16:14.525990Z",
     "iopub.status.idle": "2022-08-03T12:16:14.649186Z",
     "shell.execute_reply": "2022-08-03T12:16:14.648719Z"
    }
   },
   "outputs": [
    {
     "data": {
      "text/plain": [
       "<matplotlib.legend.Legend at 0x7fb4f3d38070>"
      ]
     },
     "execution_count": 14,
     "metadata": {},
     "output_type": "execute_result"
    },
    {
     "data": {
      "image/png": "[encoded data removed]",
      "text/plain": [
       "<Figure size 1440x720 with 1 Axes>"
      ]
     },
     "metadata": {
      "needs_background": "light"
     },
     "output_type": "display_data"
    }
   ],
   "source": [
    "plt.figure(figsize=(20,10))\n",
    "x = df_total_views.index\n",
    "y = df_total_views[('views_total', 'sum')]\n",
    "plt.plot(x, y, label=\"total_views\")\n",
    "plt.legend(loc = \"upper left\")"
   ]
  },
  {
   "cell_type": "markdown",
   "id": "56d55a33",
   "metadata": {},
   "source": [
    "### Clones"
   ]
  },
  {
   "cell_type": "code",
   "execution_count": 15,
   "id": "4430fccd",
   "metadata": {
    "execution": {
     "iopub.execute_input": "2022-08-03T12:16:14.651199Z",
     "iopub.status.busy": "2022-08-03T12:16:14.651042Z",
     "iopub.status.idle": "2022-08-03T12:16:14.656803Z",
     "shell.execute_reply": "2022-08-03T12:16:14.656333Z"
    }
   },
   "outputs": [
    {
     "name": "stdout",
     "output_type": "stream",
     "text": [
      "Best clones over: 4.0\n",
      "Worst clones under: 1.0\n"
     ]
    }
   ],
   "source": [
    "# calculate the best 25% repositories\n",
    "best_clones_quantile = 0.75\n",
    "worst_clones_quantile = 0.25\n",
    "best_clones_percentile = df_grouped[('clones_uniques', 'sum')].quantile(best_clones_quantile)\n",
    "worst_clones_percentile = df_grouped[('clones_uniques', 'sum')].quantile(worst_clones_quantile)\n",
    "print(\"Best clones over:\", best_clones_percentile)\n",
    "print(\"Worst clones under:\", worst_clones_percentile)"
   ]
  },
  {
   "cell_type": "code",
   "execution_count": 16,
   "id": "9d6f5a3c",
   "metadata": {
    "execution": {
     "iopub.execute_input": "2022-08-03T12:16:14.658689Z",
     "iopub.status.busy": "2022-08-03T12:16:14.658372Z",
     "iopub.status.idle": "2022-08-03T12:16:14.664554Z",
     "shell.execute_reply": "2022-08-03T12:16:14.664163Z"
    }
   },
   "outputs": [
    {
     "data": {
      "text/html": [
       "<div>\n",
       "<style scoped>\n",
       "    .dataframe tbody tr th:only-of-type {\n",
       "        vertical-align: middle;\n",
       "    }\n",
       "\n",
       "    .dataframe tbody tr th {\n",
       "        vertical-align: top;\n",
       "    }\n",
       "\n",
       "    .dataframe thead th {\n",
       "        text-align: right;\n",
       "    }\n",
       "</style>\n",
       "<table border=\"1\" class=\"dataframe\">\n",
       "  <thead>\n",
       "    <tr style=\"text-align: right;\">\n",
       "      <th></th>\n",
       "      <th>sum</th>\n",
       "    </tr>\n",
       "    <tr>\n",
       "      <th>name</th>\n",
       "      <th></th>\n",
       "    </tr>\n",
       "  </thead>\n",
       "  <tbody>\n",
       "    <tr>\n",
       "      <th>golang-rest-api-cassandra</th>\n",
       "      <td>484</td>\n",
       "    </tr>\n",
       "    <tr>\n",
       "      <th>ta</th>\n",
       "      <td>302</td>\n",
       "    </tr>\n",
       "    <tr>\n",
       "      <th>iot-devices-crud</th>\n",
       "      <td>215</td>\n",
       "    </tr>\n",
       "    <tr>\n",
       "      <th>mqtt-golang-influxdb</th>\n",
       "      <td>172</td>\n",
       "    </tr>\n",
       "    <tr>\n",
       "      <th>ml-github</th>\n",
       "      <td>60</td>\n",
       "    </tr>\n",
       "    <tr>\n",
       "      <th>b0rr3g0-blog</th>\n",
       "      <td>15</td>\n",
       "    </tr>\n",
       "    <tr>\n",
       "      <th>DO180-apps</th>\n",
       "      <td>12</td>\n",
       "    </tr>\n",
       "    <tr>\n",
       "      <th>ocp-monitoring-golang</th>\n",
       "      <td>12</td>\n",
       "    </tr>\n",
       "    <tr>\n",
       "      <th>kustomize-vs-helm</th>\n",
       "      <td>5</td>\n",
       "    </tr>\n",
       "    <tr>\n",
       "      <th>pelorus-workshop</th>\n",
       "      <td>5</td>\n",
       "    </tr>\n",
       "  </tbody>\n",
       "</table>\n",
       "</div>"
      ],
      "text/plain": [
       "                           sum\n",
       "name                          \n",
       "golang-rest-api-cassandra  484\n",
       "ta                         302\n",
       "iot-devices-crud           215\n",
       "mqtt-golang-influxdb       172\n",
       "ml-github                   60\n",
       "b0rr3g0-blog                15\n",
       "DO180-apps                  12\n",
       "ocp-monitoring-golang       12\n",
       "kustomize-vs-helm            5\n",
       "pelorus-workshop             5"
      ]
     },
     "execution_count": 16,
     "metadata": {},
     "output_type": "execute_result"
    }
   ],
   "source": [
    "clones=df_grouped[('clones_uniques')]\n",
    "clones_best = clones[clones['sum'] > best_clones_percentile]\n",
    "clones_best.sort_values(by='sum', ascending=False)"
   ]
  },
  {
   "cell_type": "markdown",
   "id": "157569fb",
   "metadata": {},
   "source": [
    "# Stars"
   ]
  },
  {
   "cell_type": "code",
   "execution_count": 17,
   "id": "6d5ba727",
   "metadata": {
    "execution": {
     "iopub.execute_input": "2022-08-03T12:16:14.666505Z",
     "iopub.status.busy": "2022-08-03T12:16:14.666288Z",
     "iopub.status.idle": "2022-08-03T12:16:14.671541Z",
     "shell.execute_reply": "2022-08-03T12:16:14.671178Z"
    }
   },
   "outputs": [
    {
     "name": "stdout",
     "output_type": "stream",
     "text": [
      "Best stars over: 1.0\n",
      "Worst stars under: 0.0\n"
     ]
    }
   ],
   "source": [
    "# calculate the best 50% repositories\n",
    "best_stars_quantile = 0.75\n",
    "worst_stars_quantile = 0.25\n",
    "best_stars_percentile = df_grouped[('stars_count', 'max')].quantile(best_stars_quantile)\n",
    "worst_stars_percentile = df_grouped[('stars_count', 'max')].quantile(worst_stars_quantile)\n",
    "print(\"Best stars over:\", best_stars_percentile)\n",
    "print(\"Worst stars under:\", worst_stars_percentile)"
   ]
  },
  {
   "cell_type": "code",
   "execution_count": 18,
   "id": "d5234152",
   "metadata": {
    "execution": {
     "iopub.execute_input": "2022-08-03T12:16:14.673488Z",
     "iopub.status.busy": "2022-08-03T12:16:14.673132Z",
     "iopub.status.idle": "2022-08-03T12:16:14.678764Z",
     "shell.execute_reply": "2022-08-03T12:16:14.678390Z"
    }
   },
   "outputs": [
    {
     "data": {
      "text/html": [
       "<div>\n",
       "<style scoped>\n",
       "    .dataframe tbody tr th:only-of-type {\n",
       "        vertical-align: middle;\n",
       "    }\n",
       "\n",
       "    .dataframe tbody tr th {\n",
       "        vertical-align: top;\n",
       "    }\n",
       "\n",
       "    .dataframe thead th {\n",
       "        text-align: right;\n",
       "    }\n",
       "</style>\n",
       "<table border=\"1\" class=\"dataframe\">\n",
       "  <thead>\n",
       "    <tr style=\"text-align: right;\">\n",
       "      <th></th>\n",
       "      <th>max</th>\n",
       "    </tr>\n",
       "    <tr>\n",
       "      <th>name</th>\n",
       "      <th></th>\n",
       "    </tr>\n",
       "  </thead>\n",
       "  <tbody>\n",
       "    <tr>\n",
       "      <th>mqtt-golang-influxdb</th>\n",
       "      <td>10</td>\n",
       "    </tr>\n",
       "    <tr>\n",
       "      <th>spring-kotlin-crud</th>\n",
       "      <td>6</td>\n",
       "    </tr>\n",
       "    <tr>\n",
       "      <th>kotlin-ktor</th>\n",
       "      <td>5</td>\n",
       "    </tr>\n",
       "    <tr>\n",
       "      <th>kops-aws</th>\n",
       "      <td>4</td>\n",
       "    </tr>\n",
       "    <tr>\n",
       "      <th>kustomize-vs-helm</th>\n",
       "      <td>3</td>\n",
       "    </tr>\n",
       "    <tr>\n",
       "      <th>ta</th>\n",
       "      <td>3</td>\n",
       "    </tr>\n",
       "    <tr>\n",
       "      <th>golang-k8s-helm-helloworld</th>\n",
       "      <td>2</td>\n",
       "    </tr>\n",
       "    <tr>\n",
       "      <th>golang-rest-api-cassandra</th>\n",
       "      <td>2</td>\n",
       "    </tr>\n",
       "    <tr>\n",
       "      <th>quarkus-kotlin-example</th>\n",
       "      <td>2</td>\n",
       "    </tr>\n",
       "  </tbody>\n",
       "</table>\n",
       "</div>"
      ],
      "text/plain": [
       "                            max\n",
       "name                           \n",
       "mqtt-golang-influxdb         10\n",
       "spring-kotlin-crud            6\n",
       "kotlin-ktor                   5\n",
       "kops-aws                      4\n",
       "kustomize-vs-helm             3\n",
       "ta                            3\n",
       "golang-k8s-helm-helloworld    2\n",
       "golang-rest-api-cassandra     2\n",
       "quarkus-kotlin-example        2"
      ]
     },
     "execution_count": 18,
     "metadata": {},
     "output_type": "execute_result"
    }
   ],
   "source": [
    "stars=df_grouped[('stars_count')]\n",
    "stars_best = stars[stars['max'] > best_stars_percentile]\n",
    "stars_best.sort_values(by=['max'], ascending=False)"
   ]
  },
  {
   "cell_type": "markdown",
   "id": "930ebe06",
   "metadata": {},
   "source": [
    "# Red zone"
   ]
  },
  {
   "cell_type": "code",
   "execution_count": 19,
   "id": "4b27fe45",
   "metadata": {
    "execution": {
     "iopub.execute_input": "2022-08-03T12:16:14.680875Z",
     "iopub.status.busy": "2022-08-03T12:16:14.680547Z",
     "iopub.status.idle": "2022-08-03T12:16:14.689468Z",
     "shell.execute_reply": "2022-08-03T12:16:14.689053Z"
    }
   },
   "outputs": [],
   "source": [
    "repos = pd.read_csv(\"./repos.csv\")\n",
    "\n",
    "# remove colum\n",
    "repos = repos.iloc[:,1:]\n",
    "# remove owner\n",
    "repos = repos.drop(labels=\"owner\",axis=1)\n",
    "# add num topics\n",
    "#repos[\"num_topics\"] = len(repos.topics.str.split(','))\n",
    "def count_topics(topics):\n",
    "    return 0 if topics.count(',') == 0 else topics.count(',')+1\n",
    "repos[\"topics_count\"] = repos.apply(lambda row : count_topics(row.topics), axis=1)\n",
    "# remove topics\n",
    "repos = repos.drop(labels=\"topics\",axis=1)\n",
    "# format date\n",
    "repos[\"latest_commit_date\"] = pd.to_datetime(repos[\"latest_commit_date\"], format='%Y%m%d')\n",
    "# days until latest commit\n",
    "today = pd.to_datetime('today')\n",
    "repos[\"days_latest_commit\"] = (today - repos.latest_commit_date).dt.days"
   ]
  },
  {
   "cell_type": "code",
   "execution_count": 20,
   "id": "9f474b84",
   "metadata": {
    "execution": {
     "iopub.execute_input": "2022-08-03T12:16:14.691477Z",
     "iopub.status.busy": "2022-08-03T12:16:14.691321Z",
     "iopub.status.idle": "2022-08-03T12:16:14.694670Z",
     "shell.execute_reply": "2022-08-03T12:16:14.694311Z"
    }
   },
   "outputs": [
    {
     "data": {
      "text/plain": [
       "Timestamp('2022-07-16 00:00:00')"
      ]
     },
     "execution_count": 20,
     "metadata": {},
     "output_type": "execute_result"
    }
   ],
   "source": [
    "df_grouped.loc['golang-azure-eventhub'][('date', 'min')]"
   ]
  },
  {
   "cell_type": "code",
   "execution_count": 21,
   "id": "e427e76c",
   "metadata": {
    "execution": {
     "iopub.execute_input": "2022-08-03T12:16:14.696661Z",
     "iopub.status.busy": "2022-08-03T12:16:14.696316Z",
     "iopub.status.idle": "2022-08-03T12:16:14.699986Z",
     "shell.execute_reply": "2022-08-03T12:16:14.699621Z"
    }
   },
   "outputs": [],
   "source": [
    "def extract_views_by_day(row):\n",
    "    return \n",
    "repos[\"views_by_day\"] = repos.apply(lambda row: extract_views_by_day(row.name),axis=1)"
   ]
  },
  {
   "cell_type": "code",
   "execution_count": 22,
   "id": "cfcef1a2",
   "metadata": {
    "execution": {
     "iopub.execute_input": "2022-08-03T12:16:14.701948Z",
     "iopub.status.busy": "2022-08-03T12:16:14.701611Z",
     "iopub.status.idle": "2022-08-03T12:16:14.709195Z",
     "shell.execute_reply": "2022-08-03T12:16:14.708827Z"
    }
   },
   "outputs": [
    {
     "data": {
      "text/html": [
       "<div>\n",
       "<style scoped>\n",
       "    .dataframe tbody tr th:only-of-type {\n",
       "        vertical-align: middle;\n",
       "    }\n",
       "\n",
       "    .dataframe tbody tr th {\n",
       "        vertical-align: top;\n",
       "    }\n",
       "\n",
       "    .dataframe thead th {\n",
       "        text-align: right;\n",
       "    }\n",
       "</style>\n",
       "<table border=\"1\" class=\"dataframe\">\n",
       "  <thead>\n",
       "    <tr style=\"text-align: right;\">\n",
       "      <th></th>\n",
       "      <th>name</th>\n",
       "      <th>latest_commit_date</th>\n",
       "      <th>topics_count</th>\n",
       "      <th>days_latest_commit</th>\n",
       "      <th>views_by_day</th>\n",
       "    </tr>\n",
       "  </thead>\n",
       "  <tbody>\n",
       "    <tr>\n",
       "      <th>42</th>\n",
       "      <td>ml-github</td>\n",
       "      <td>2022-08-03</td>\n",
       "      <td>0</td>\n",
       "      <td>0</td>\n",
       "      <td>None</td>\n",
       "    </tr>\n",
       "    <tr>\n",
       "      <th>3</th>\n",
       "      <td>b0rr3g0-blog</td>\n",
       "      <td>2022-07-26</td>\n",
       "      <td>0</td>\n",
       "      <td>8</td>\n",
       "      <td>None</td>\n",
       "    </tr>\n",
       "    <tr>\n",
       "      <th>35</th>\n",
       "      <td>kops-aws</td>\n",
       "      <td>2022-07-26</td>\n",
       "      <td>0</td>\n",
       "      <td>8</td>\n",
       "      <td>None</td>\n",
       "    </tr>\n",
       "    <tr>\n",
       "      <th>48</th>\n",
       "      <td>ocp-monitoring-golang</td>\n",
       "      <td>2022-07-14</td>\n",
       "      <td>0</td>\n",
       "      <td>20</td>\n",
       "      <td>None</td>\n",
       "    </tr>\n",
       "    <tr>\n",
       "      <th>15</th>\n",
       "      <td>golang-k8s-helm-helloworld</td>\n",
       "      <td>2022-07-14</td>\n",
       "      <td>5</td>\n",
       "      <td>20</td>\n",
       "      <td>None</td>\n",
       "    </tr>\n",
       "    <tr>\n",
       "      <th>...</th>\n",
       "      <td>...</td>\n",
       "      <td>...</td>\n",
       "      <td>...</td>\n",
       "      <td>...</td>\n",
       "      <td>...</td>\n",
       "    </tr>\n",
       "    <tr>\n",
       "      <th>61</th>\n",
       "      <td>spring-cloud-ms2</td>\n",
       "      <td>2017-04-17</td>\n",
       "      <td>0</td>\n",
       "      <td>1934</td>\n",
       "      <td>None</td>\n",
       "    </tr>\n",
       "    <tr>\n",
       "      <th>45</th>\n",
       "      <td>ms-config-server</td>\n",
       "      <td>2017-03-15</td>\n",
       "      <td>0</td>\n",
       "      <td>1967</td>\n",
       "      <td>None</td>\n",
       "    </tr>\n",
       "    <tr>\n",
       "      <th>56</th>\n",
       "      <td>spring-boot-elk</td>\n",
       "      <td>2017-03-15</td>\n",
       "      <td>0</td>\n",
       "      <td>1967</td>\n",
       "      <td>None</td>\n",
       "    </tr>\n",
       "    <tr>\n",
       "      <th>62</th>\n",
       "      <td>spring-data-mongodb</td>\n",
       "      <td>2016-09-22</td>\n",
       "      <td>0</td>\n",
       "      <td>2141</td>\n",
       "      <td>None</td>\n",
       "    </tr>\n",
       "    <tr>\n",
       "      <th>54</th>\n",
       "      <td>REST-Services-MySQL</td>\n",
       "      <td>2015-05-30</td>\n",
       "      <td>0</td>\n",
       "      <td>2622</td>\n",
       "      <td>None</td>\n",
       "    </tr>\n",
       "  </tbody>\n",
       "</table>\n",
       "<p>74 rows × 5 columns</p>\n",
       "</div>"
      ],
      "text/plain": [
       "                          name latest_commit_date  topics_count  \\\n",
       "42                   ml-github         2022-08-03             0   \n",
       "3                 b0rr3g0-blog         2022-07-26             0   \n",
       "35                    kops-aws         2022-07-26             0   \n",
       "48       ocp-monitoring-golang         2022-07-14             0   \n",
       "15  golang-k8s-helm-helloworld         2022-07-14             5   \n",
       "..                         ...                ...           ...   \n",
       "61            spring-cloud-ms2         2017-04-17             0   \n",
       "45            ms-config-server         2017-03-15             0   \n",
       "56             spring-boot-elk         2017-03-15             0   \n",
       "62         spring-data-mongodb         2016-09-22             0   \n",
       "54         REST-Services-MySQL         2015-05-30             0   \n",
       "\n",
       "    days_latest_commit views_by_day  \n",
       "42                   0         None  \n",
       "3                    8         None  \n",
       "35                   8         None  \n",
       "48                  20         None  \n",
       "15                  20         None  \n",
       "..                 ...          ...  \n",
       "61                1934         None  \n",
       "45                1967         None  \n",
       "56                1967         None  \n",
       "62                2141         None  \n",
       "54                2622         None  \n",
       "\n",
       "[74 rows x 5 columns]"
      ]
     },
     "execution_count": 22,
     "metadata": {},
     "output_type": "execute_result"
    }
   ],
   "source": [
    "repos.sort_values(by=\"days_latest_commit\")"
   ]
  },
  {
   "cell_type": "code",
   "execution_count": 23,
   "id": "275284b6",
   "metadata": {
    "execution": {
     "iopub.execute_input": "2022-08-03T12:16:14.711009Z",
     "iopub.status.busy": "2022-08-03T12:16:14.710825Z",
     "iopub.status.idle": "2022-08-03T12:16:14.715760Z",
     "shell.execute_reply": "2022-08-03T12:16:14.715397Z"
    }
   },
   "outputs": [
    {
     "data": {
      "text/plain": [
       "['REST-Services-MySQL',\n",
       " 'amq-streams-workshop',\n",
       " 'asciidoc-base',\n",
       " 'dbgjerez',\n",
       " 'golang-azure-eventhub',\n",
       " 'golang-azure-eventhub-kafka',\n",
       " 'iot-esp8266-relay-web-server',\n",
       " 'kafka-gitops',\n",
       " 'kubernetes-golang-operator',\n",
       " 'kubernetes-helm-operator',\n",
       " 'ocp-HTPasswd-file-provider',\n",
       " 'spring-cloud-config',\n",
       " 'spring-cloud-dataflow',\n",
       " 'spring-cloud-eureka',\n",
       " 'workshop-uca-aws-deploy']"
      ]
     },
     "execution_count": 23,
     "metadata": {},
     "output_type": "execute_result"
    }
   ],
   "source": [
    "df_red_zone = df_grouped[df_grouped[('stars_count', 'max')] <= worst_stars_percentile]\n",
    "df_red_zone = df_red_zone[df_red_zone[('clones_uniques', 'sum')] <= worst_clones_percentile]\n",
    "df_red_zone = df_red_zone[df_red_zone[('views_total', 'sum')] <= worst_views_percentile]\n",
    "df_red_zone.index.values.tolist()"
   ]
  },
  {
   "cell_type": "code",
   "execution_count": null,
   "id": "0fa02015",
   "metadata": {},
   "outputs": [],
   "source": []
  }
 ],
 "metadata": {
  "kernelspec": {
   "display_name": "Python 3 (ipykernel)",
   "language": "python",
   "name": "python3"
  },
  "language_info": {
   "codemirror_mode": {
    "name": "ipython",
    "version": 3
   },
   "file_extension": ".py",
   "mimetype": "text/x-python",
   "name": "python",
   "nbconvert_exporter": "python",
   "pygments_lexer": "ipython3",
   "version": "3.10.5"
  }
 },
 "nbformat": 4,
 "nbformat_minor": 5
}
