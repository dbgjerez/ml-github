{
 "cells": [
  {
   "cell_type": "markdown",
   "id": "6b75f755",
   "metadata": {},
   "source": [
    "# GitHub repositories analysis"
   ]
  },
  {
   "cell_type": "code",
   "execution_count": 1,
   "id": "492000dc",
   "metadata": {
    "execution": {
     "iopub.execute_input": "2022-07-13T15:01:56.751746Z",
     "iopub.status.busy": "2022-07-13T15:01:56.745929Z",
     "iopub.status.idle": "2022-07-13T15:01:57.005081Z",
     "shell.execute_reply": "2022-07-13T15:01:57.004692Z"
    }
   },
   "outputs": [],
   "source": [
    "import pandas as pd\n",
    "import os\n",
    "import glob"
   ]
  },
  {
   "cell_type": "markdown",
   "id": "c6a74011",
   "metadata": {},
   "source": [
    "## Read the data"
   ]
  },
  {
   "cell_type": "code",
   "execution_count": 2,
   "id": "aea83b31",
   "metadata": {
    "execution": {
     "iopub.execute_input": "2022-07-13T15:01:57.008201Z",
     "iopub.status.busy": "2022-07-13T15:01:57.007733Z",
     "iopub.status.idle": "2022-07-13T15:01:57.010064Z",
     "shell.execute_reply": "2022-07-13T15:01:57.010362Z"
    }
   },
   "outputs": [
    {
     "name": "stdout",
     "output_type": "stream",
     "text": [
      "Encontrados 16 ficheros\n"
     ]
    }
   ],
   "source": [
    "files = glob.glob(\"./data/**/*.csv\", recursive=True)\n",
    "print(\"Encontrados\", len(files), \"ficheros\")"
   ]
  },
  {
   "cell_type": "code",
   "execution_count": 3,
   "id": "6f813113",
   "metadata": {
    "execution": {
     "iopub.execute_input": "2022-07-13T15:01:57.013670Z",
     "iopub.status.busy": "2022-07-13T15:01:57.013297Z",
     "iopub.status.idle": "2022-07-13T15:01:57.034139Z",
     "shell.execute_reply": "2022-07-13T15:01:57.033791Z"
    }
   },
   "outputs": [],
   "source": [
    "df = pd.concat((pd.read_csv(f) for f in files), ignore_index=True)"
   ]
  },
  {
   "cell_type": "code",
   "execution_count": 4,
   "id": "7d6ff7dc",
   "metadata": {
    "execution": {
     "iopub.execute_input": "2022-07-13T15:01:57.045527Z",
     "iopub.status.busy": "2022-07-13T15:01:57.037545Z",
     "iopub.status.idle": "2022-07-13T15:01:57.048376Z",
     "shell.execute_reply": "2022-07-13T15:01:57.047988Z"
    }
   },
   "outputs": [
    {
     "data": {
      "text/html": [
       "<div>\n",
       "<style scoped>\n",
       "    .dataframe tbody tr th:only-of-type {\n",
       "        vertical-align: middle;\n",
       "    }\n",
       "\n",
       "    .dataframe tbody tr th {\n",
       "        vertical-align: top;\n",
       "    }\n",
       "\n",
       "    .dataframe thead th {\n",
       "        text-align: right;\n",
       "    }\n",
       "</style>\n",
       "<table border=\"1\" class=\"dataframe\">\n",
       "  <thead>\n",
       "    <tr style=\"text-align: right;\">\n",
       "      <th></th>\n",
       "      <th>Unnamed: 0</th>\n",
       "      <th>name</th>\n",
       "      <th>ts</th>\n",
       "      <th>stars_count</th>\n",
       "      <th>views_total</th>\n",
       "      <th>views_uniques</th>\n",
       "      <th>clones_total</th>\n",
       "      <th>clones_uniques</th>\n",
       "    </tr>\n",
       "  </thead>\n",
       "  <tbody>\n",
       "    <tr>\n",
       "      <th>43</th>\n",
       "      <td>3</td>\n",
       "      <td>ml-github</td>\n",
       "      <td>2022-07-13</td>\n",
       "      <td>0</td>\n",
       "      <td>6</td>\n",
       "      <td>1</td>\n",
       "      <td>4</td>\n",
       "      <td>3</td>\n",
       "    </tr>\n",
       "    <tr>\n",
       "      <th>41</th>\n",
       "      <td>1</td>\n",
       "      <td>golang-rest-api-cassandra</td>\n",
       "      <td>2022-07-13</td>\n",
       "      <td>2</td>\n",
       "      <td>2</td>\n",
       "      <td>1</td>\n",
       "      <td>42</td>\n",
       "      <td>32</td>\n",
       "    </tr>\n",
       "    <tr>\n",
       "      <th>40</th>\n",
       "      <td>0</td>\n",
       "      <td>b0rr3g0-blog</td>\n",
       "      <td>2022-07-13</td>\n",
       "      <td>0</td>\n",
       "      <td>0</td>\n",
       "      <td>0</td>\n",
       "      <td>1</td>\n",
       "      <td>1</td>\n",
       "    </tr>\n",
       "  </tbody>\n",
       "</table>\n",
       "</div>"
      ],
      "text/plain": [
       "    Unnamed: 0                       name          ts  stars_count  \\\n",
       "43           3                  ml-github  2022-07-13            0   \n",
       "41           1  golang-rest-api-cassandra  2022-07-13            2   \n",
       "40           0               b0rr3g0-blog  2022-07-13            0   \n",
       "\n",
       "    views_total  views_uniques  clones_total  clones_uniques  \n",
       "43            6              1             4               3  \n",
       "41            2              1            42              32  \n",
       "40            0              0             1               1  "
      ]
     },
     "execution_count": 4,
     "metadata": {},
     "output_type": "execute_result"
    }
   ],
   "source": [
    "df.sort_values(by=[\"ts\", \"views_total\"], ascending=False).head(3)"
   ]
  },
  {
   "cell_type": "markdown",
   "id": "b7034071",
   "metadata": {},
   "source": [
    "## Data analysis"
   ]
  },
  {
   "cell_type": "code",
   "execution_count": 5,
   "id": "b33db4b7",
   "metadata": {
    "execution": {
     "iopub.execute_input": "2022-07-13T15:01:57.054589Z",
     "iopub.status.busy": "2022-07-13T15:01:57.054164Z",
     "iopub.status.idle": "2022-07-13T15:01:57.055755Z",
     "shell.execute_reply": "2022-07-13T15:01:57.056006Z"
    }
   },
   "outputs": [],
   "source": [
    "df_grouped = df.groupby(['name']).agg({\"stars_count\": [\"max\"],\"clones_uniques\": [\"sum\"],\"views_total\": [\"sum\", \"max\"]})"
   ]
  },
  {
   "cell_type": "markdown",
   "id": "d7c6f79d",
   "metadata": {},
   "source": [
    "### Views"
   ]
  },
  {
   "cell_type": "code",
   "execution_count": 6,
   "id": "8e7486fd",
   "metadata": {
    "execution": {
     "iopub.execute_input": "2022-07-13T15:01:57.061688Z",
     "iopub.status.busy": "2022-07-13T15:01:57.059854Z",
     "iopub.status.idle": "2022-07-13T15:01:57.064162Z",
     "shell.execute_reply": "2022-07-13T15:01:57.063467Z"
    }
   },
   "outputs": [
    {
     "name": "stdout",
     "output_type": "stream",
     "text": [
      "Best views over: 29.5\n",
      "Worst views under: 1.0\n"
     ]
    }
   ],
   "source": [
    "views_best_quantile = 0.75\n",
    "views_worst_quantile = 0.25\n",
    "best_views_percentile = df_grouped[('views_total', 'sum')].quantile(views_best_quantile)\n",
    "worst_views_percentile = df_grouped[('views_total', 'sum')].quantile(views_worst_quantile)\n",
    "print(\"Best views over:\", best_views_percentile)\n",
    "print(\"Worst views under:\", worst_views_percentile)"
   ]
  },
  {
   "cell_type": "code",
   "execution_count": 7,
   "id": "7958a4f1",
   "metadata": {
    "execution": {
     "iopub.execute_input": "2022-07-13T15:01:57.070070Z",
     "iopub.status.busy": "2022-07-13T15:01:57.069741Z",
     "iopub.status.idle": "2022-07-13T15:01:57.072043Z",
     "shell.execute_reply": "2022-07-13T15:01:57.071712Z"
    }
   },
   "outputs": [
    {
     "data": {
      "text/html": [
       "<div>\n",
       "<style scoped>\n",
       "    .dataframe tbody tr th:only-of-type {\n",
       "        vertical-align: middle;\n",
       "    }\n",
       "\n",
       "    .dataframe tbody tr th {\n",
       "        vertical-align: top;\n",
       "    }\n",
       "\n",
       "    .dataframe thead th {\n",
       "        text-align: right;\n",
       "    }\n",
       "</style>\n",
       "<table border=\"1\" class=\"dataframe\">\n",
       "  <thead>\n",
       "    <tr style=\"text-align: right;\">\n",
       "      <th></th>\n",
       "      <th>sum</th>\n",
       "      <th>max</th>\n",
       "    </tr>\n",
       "    <tr>\n",
       "      <th>name</th>\n",
       "      <th></th>\n",
       "      <th></th>\n",
       "    </tr>\n",
       "  </thead>\n",
       "  <tbody>\n",
       "    <tr>\n",
       "      <th>quarkus-kotlin-example</th>\n",
       "      <td>177</td>\n",
       "      <td>85</td>\n",
       "    </tr>\n",
       "    <tr>\n",
       "      <th>golang-rest-api-cassandra</th>\n",
       "      <td>91</td>\n",
       "      <td>32</td>\n",
       "    </tr>\n",
       "    <tr>\n",
       "      <th>kotlin-ktor</th>\n",
       "      <td>84</td>\n",
       "      <td>25</td>\n",
       "    </tr>\n",
       "    <tr>\n",
       "      <th>kustomize-vs-helm</th>\n",
       "      <td>43</td>\n",
       "      <td>24</td>\n",
       "    </tr>\n",
       "    <tr>\n",
       "      <th>ta</th>\n",
       "      <td>38</td>\n",
       "      <td>26</td>\n",
       "    </tr>\n",
       "    <tr>\n",
       "      <th>ml-github</th>\n",
       "      <td>35</td>\n",
       "      <td>13</td>\n",
       "    </tr>\n",
       "    <tr>\n",
       "      <th>pelorus-workshop</th>\n",
       "      <td>34</td>\n",
       "      <td>14</td>\n",
       "    </tr>\n",
       "  </tbody>\n",
       "</table>\n",
       "</div>"
      ],
      "text/plain": [
       "                           sum  max\n",
       "name                               \n",
       "quarkus-kotlin-example     177   85\n",
       "golang-rest-api-cassandra   91   32\n",
       "kotlin-ktor                 84   25\n",
       "kustomize-vs-helm           43   24\n",
       "ta                          38   26\n",
       "ml-github                   35   13\n",
       "pelorus-workshop            34   14"
      ]
     },
     "execution_count": 7,
     "metadata": {},
     "output_type": "execute_result"
    }
   ],
   "source": [
    "views=df_grouped[('views_total')]\n",
    "views_best = views[views['sum'] > best_views_percentile]\n",
    "views_best.sort_values(by='sum', ascending=False)"
   ]
  },
  {
   "cell_type": "markdown",
   "id": "56d55a33",
   "metadata": {},
   "source": [
    "### Clones"
   ]
  },
  {
   "cell_type": "code",
   "execution_count": 8,
   "id": "4430fccd",
   "metadata": {
    "execution": {
     "iopub.execute_input": "2022-07-13T15:01:57.077530Z",
     "iopub.status.busy": "2022-07-13T15:01:57.077145Z",
     "iopub.status.idle": "2022-07-13T15:01:57.079035Z",
     "shell.execute_reply": "2022-07-13T15:01:57.079314Z"
    }
   },
   "outputs": [
    {
     "name": "stdout",
     "output_type": "stream",
     "text": [
      "Best clones over: 6.25\n",
      "Worst clones under: 0.75\n"
     ]
    }
   ],
   "source": [
    "# calculate the best 25% repositories\n",
    "best_clones_quantile = 0.75\n",
    "worst_clones_quantile = 0.25\n",
    "best_clones_percentile = df_grouped[('clones_uniques', 'sum')].quantile(best_clones_quantile)\n",
    "worst_clones_percentile = df_grouped[('clones_uniques', 'sum')].quantile(worst_clones_quantile)\n",
    "print(\"Best clones over:\", best_clones_percentile)\n",
    "print(\"Worst clones under:\", worst_clones_percentile)"
   ]
  },
  {
   "cell_type": "code",
   "execution_count": 9,
   "id": "9d6f5a3c",
   "metadata": {
    "execution": {
     "iopub.execute_input": "2022-07-13T15:01:57.084599Z",
     "iopub.status.busy": "2022-07-13T15:01:57.084266Z",
     "iopub.status.idle": "2022-07-13T15:01:57.086891Z",
     "shell.execute_reply": "2022-07-13T15:01:57.086560Z"
    }
   },
   "outputs": [
    {
     "data": {
      "text/html": [
       "<div>\n",
       "<style scoped>\n",
       "    .dataframe tbody tr th:only-of-type {\n",
       "        vertical-align: middle;\n",
       "    }\n",
       "\n",
       "    .dataframe tbody tr th {\n",
       "        vertical-align: top;\n",
       "    }\n",
       "\n",
       "    .dataframe thead th {\n",
       "        text-align: right;\n",
       "    }\n",
       "</style>\n",
       "<table border=\"1\" class=\"dataframe\">\n",
       "  <thead>\n",
       "    <tr style=\"text-align: right;\">\n",
       "      <th></th>\n",
       "      <th>sum</th>\n",
       "    </tr>\n",
       "    <tr>\n",
       "      <th>name</th>\n",
       "      <th></th>\n",
       "    </tr>\n",
       "  </thead>\n",
       "  <tbody>\n",
       "    <tr>\n",
       "      <th>ta</th>\n",
       "      <td>320</td>\n",
       "    </tr>\n",
       "    <tr>\n",
       "      <th>golang-rest-api-cassandra</th>\n",
       "      <td>297</td>\n",
       "    </tr>\n",
       "    <tr>\n",
       "      <th>mqtt-golang-influxdb</th>\n",
       "      <td>149</td>\n",
       "    </tr>\n",
       "    <tr>\n",
       "      <th>iot-devices-crud</th>\n",
       "      <td>130</td>\n",
       "    </tr>\n",
       "    <tr>\n",
       "      <th>pelorus-workshop</th>\n",
       "      <td>14</td>\n",
       "    </tr>\n",
       "    <tr>\n",
       "      <th>ml-github</th>\n",
       "      <td>13</td>\n",
       "    </tr>\n",
       "    <tr>\n",
       "      <th>b0rr3g0-blog</th>\n",
       "      <td>10</td>\n",
       "    </tr>\n",
       "  </tbody>\n",
       "</table>\n",
       "</div>"
      ],
      "text/plain": [
       "                           sum\n",
       "name                          \n",
       "ta                         320\n",
       "golang-rest-api-cassandra  297\n",
       "mqtt-golang-influxdb       149\n",
       "iot-devices-crud           130\n",
       "pelorus-workshop            14\n",
       "ml-github                   13\n",
       "b0rr3g0-blog                10"
      ]
     },
     "execution_count": 9,
     "metadata": {},
     "output_type": "execute_result"
    }
   ],
   "source": [
    "clones=df_grouped[('clones_uniques')]\n",
    "clones_best = clones[clones['sum'] > best_clones_percentile]\n",
    "clones_best.sort_values(by='sum', ascending=False)"
   ]
  },
  {
   "cell_type": "markdown",
   "id": "157569fb",
   "metadata": {},
   "source": [
    "# Stars"
   ]
  },
  {
   "cell_type": "code",
   "execution_count": 10,
   "id": "6d5ba727",
   "metadata": {
    "execution": {
     "iopub.execute_input": "2022-07-13T15:01:57.092487Z",
     "iopub.status.busy": "2022-07-13T15:01:57.092108Z",
     "iopub.status.idle": "2022-07-13T15:01:57.093879Z",
     "shell.execute_reply": "2022-07-13T15:01:57.094132Z"
    }
   },
   "outputs": [
    {
     "name": "stdout",
     "output_type": "stream",
     "text": [
      "Best stars over: 2.0\n",
      "Worst stars under: 0.0\n"
     ]
    }
   ],
   "source": [
    "# calculate the best 50% repositories\n",
    "best_stars_quantile = 0.75\n",
    "worst_stars_quantile = 0.25\n",
    "best_stars_percentile = df_grouped[('stars_count', 'max')].quantile(best_stars_quantile)\n",
    "worst_stars_percentile = df_grouped[('stars_count', 'max')].quantile(worst_stars_quantile)\n",
    "print(\"Best stars over:\", best_stars_percentile)\n",
    "print(\"Worst stars under:\", worst_stars_percentile)"
   ]
  },
  {
   "cell_type": "code",
   "execution_count": 11,
   "id": "d5234152",
   "metadata": {
    "execution": {
     "iopub.execute_input": "2022-07-13T15:01:57.099630Z",
     "iopub.status.busy": "2022-07-13T15:01:57.099244Z",
     "iopub.status.idle": "2022-07-13T15:01:57.101681Z",
     "shell.execute_reply": "2022-07-13T15:01:57.101351Z"
    }
   },
   "outputs": [
    {
     "data": {
      "text/html": [
       "<div>\n",
       "<style scoped>\n",
       "    .dataframe tbody tr th:only-of-type {\n",
       "        vertical-align: middle;\n",
       "    }\n",
       "\n",
       "    .dataframe tbody tr th {\n",
       "        vertical-align: top;\n",
       "    }\n",
       "\n",
       "    .dataframe thead th {\n",
       "        text-align: right;\n",
       "    }\n",
       "</style>\n",
       "<table border=\"1\" class=\"dataframe\">\n",
       "  <thead>\n",
       "    <tr style=\"text-align: right;\">\n",
       "      <th></th>\n",
       "      <th>max</th>\n",
       "    </tr>\n",
       "    <tr>\n",
       "      <th>name</th>\n",
       "      <th></th>\n",
       "    </tr>\n",
       "  </thead>\n",
       "  <tbody>\n",
       "    <tr>\n",
       "      <th>mqtt-golang-influxdb</th>\n",
       "      <td>9</td>\n",
       "    </tr>\n",
       "    <tr>\n",
       "      <th>spring-kotlin-crud</th>\n",
       "      <td>6</td>\n",
       "    </tr>\n",
       "    <tr>\n",
       "      <th>kotlin-ktor</th>\n",
       "      <td>5</td>\n",
       "    </tr>\n",
       "    <tr>\n",
       "      <th>kops-aws</th>\n",
       "      <td>4</td>\n",
       "    </tr>\n",
       "    <tr>\n",
       "      <th>kustomize-vs-helm</th>\n",
       "      <td>3</td>\n",
       "    </tr>\n",
       "    <tr>\n",
       "      <th>ta</th>\n",
       "      <td>3</td>\n",
       "    </tr>\n",
       "  </tbody>\n",
       "</table>\n",
       "</div>"
      ],
      "text/plain": [
       "                      max\n",
       "name                     \n",
       "mqtt-golang-influxdb    9\n",
       "spring-kotlin-crud      6\n",
       "kotlin-ktor             5\n",
       "kops-aws                4\n",
       "kustomize-vs-helm       3\n",
       "ta                      3"
      ]
     },
     "execution_count": 11,
     "metadata": {},
     "output_type": "execute_result"
    }
   ],
   "source": [
    "stars=df_grouped[('stars_count')]\n",
    "stars_best = stars[stars['max'] > best_stars_percentile]\n",
    "stars_best.sort_values(by=['max'], ascending=False)"
   ]
  },
  {
   "cell_type": "markdown",
   "id": "930ebe06",
   "metadata": {},
   "source": [
    "# Red zone"
   ]
  },
  {
   "cell_type": "code",
   "execution_count": 12,
   "id": "275284b6",
   "metadata": {
    "execution": {
     "iopub.execute_input": "2022-07-13T15:01:57.106251Z",
     "iopub.status.busy": "2022-07-13T15:01:57.105896Z",
     "iopub.status.idle": "2022-07-13T15:01:57.108112Z",
     "shell.execute_reply": "2022-07-13T15:01:57.107783Z"
    }
   },
   "outputs": [
    {
     "data": {
      "text/plain": [
       "[]"
      ]
     },
     "execution_count": 12,
     "metadata": {},
     "output_type": "execute_result"
    }
   ],
   "source": [
    "df_red_zone = df_grouped[df_grouped[('stars_count', 'max')] <= worst_stars_percentile]\n",
    "df_red_zone = df_red_zone[df_red_zone[('clones_uniques', 'sum')] <= worst_clones_percentile]\n",
    "df_red_zone = df_red_zone[df_red_zone[('views_total', 'sum')] <= worst_views_percentile]\n",
    "df_red_zone.index.values.tolist()"
   ]
  },
  {
   "cell_type": "code",
   "execution_count": null,
   "id": "3b7614c7",
   "metadata": {},
   "outputs": [],
   "source": []
  }
 ],
 "metadata": {
  "kernelspec": {
   "display_name": "Python 3 (ipykernel)",
   "language": "python",
   "name": "python3"
  },
  "language_info": {
   "codemirror_mode": {
    "name": "ipython",
    "version": 3
   },
   "file_extension": ".py",
   "mimetype": "text/x-python",
   "name": "python",
   "nbconvert_exporter": "python",
   "pygments_lexer": "ipython3",
   "version": "3.9.7"
  }
 },
 "nbformat": 4,
 "nbformat_minor": 5
}
