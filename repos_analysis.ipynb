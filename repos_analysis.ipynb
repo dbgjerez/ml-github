{
 "cells": [
  {
   "cell_type": "markdown",
   "id": "6b75f755",
   "metadata": {},
   "source": [
    "# GitHub repositories analysis"
   ]
  },
  {
   "cell_type": "code",
   "execution_count": 1,
   "id": "492000dc",
   "metadata": {
    "execution": {
     "iopub.execute_input": "2022-08-05T09:33:24.842185Z",
     "iopub.status.busy": "2022-08-05T09:33:24.841732Z",
     "iopub.status.idle": "2022-08-05T09:33:25.615374Z",
     "shell.execute_reply": "2022-08-05T09:33:25.614690Z"
    }
   },
   "outputs": [],
   "source": [
    "import matplotlib.pyplot as plt\n",
    "import pandas as pd\n",
    "import os\n",
    "import glob"
   ]
  },
  {
   "cell_type": "markdown",
   "id": "c6a74011",
   "metadata": {},
   "source": [
    "## Read the data"
   ]
  },
  {
   "cell_type": "code",
   "execution_count": 2,
   "id": "aea83b31",
   "metadata": {
    "execution": {
     "iopub.execute_input": "2022-08-05T09:33:25.618784Z",
     "iopub.status.busy": "2022-08-05T09:33:25.618494Z",
     "iopub.status.idle": "2022-08-05T09:33:25.623085Z",
     "shell.execute_reply": "2022-08-05T09:33:25.622525Z"
    }
   },
   "outputs": [
    {
     "name": "stdout",
     "output_type": "stream",
     "text": [
      "Encontrados 39 ficheros\n"
     ]
    }
   ],
   "source": [
    "files = glob.glob(\"./data/**/*.csv\", recursive=True)\n",
    "print(\"Encontrados\", len(files), \"ficheros\")"
   ]
  },
  {
   "cell_type": "code",
   "execution_count": 3,
   "id": "6f813113",
   "metadata": {
    "execution": {
     "iopub.execute_input": "2022-08-05T09:33:25.625711Z",
     "iopub.status.busy": "2022-08-05T09:33:25.625447Z",
     "iopub.status.idle": "2022-08-05T09:33:25.683596Z",
     "shell.execute_reply": "2022-08-05T09:33:25.682942Z"
    }
   },
   "outputs": [],
   "source": [
    "df = pd.concat((pd.read_csv(f) for f in files), ignore_index=True)"
   ]
  },
  {
   "cell_type": "code",
   "execution_count": 4,
   "id": "4c31fe83",
   "metadata": {
    "execution": {
     "iopub.execute_input": "2022-08-05T09:33:25.686910Z",
     "iopub.status.busy": "2022-08-05T09:33:25.686331Z",
     "iopub.status.idle": "2022-08-05T09:33:25.691313Z",
     "shell.execute_reply": "2022-08-05T09:33:25.690795Z"
    }
   },
   "outputs": [],
   "source": [
    "df[\"date\"] = pd.to_datetime(df[\"ts\"], format='%Y-%m-%d')"
   ]
  },
  {
   "cell_type": "code",
   "execution_count": 5,
   "id": "f80824d2",
   "metadata": {
    "execution": {
     "iopub.execute_input": "2022-08-05T09:33:25.693797Z",
     "iopub.status.busy": "2022-08-05T09:33:25.693546Z",
     "iopub.status.idle": "2022-08-05T09:33:25.697911Z",
     "shell.execute_reply": "2022-08-05T09:33:25.697361Z"
    }
   },
   "outputs": [],
   "source": [
    "ts_max = df[\"ts\"].unique().max()\n",
    "today = df[df.ts==ts_max]\n",
    "head_total = 5 if today.ts.count()>5 else today.ts.count()"
   ]
  },
  {
   "cell_type": "code",
   "execution_count": 6,
   "id": "7d6ff7dc",
   "metadata": {
    "execution": {
     "iopub.execute_input": "2022-08-05T09:33:25.701179Z",
     "iopub.status.busy": "2022-08-05T09:33:25.700852Z",
     "iopub.status.idle": "2022-08-05T09:33:25.715736Z",
     "shell.execute_reply": "2022-08-05T09:33:25.715148Z"
    },
    "scrolled": true
   },
   "outputs": [
    {
     "data": {
      "text/html": [
       "<div>\n",
       "<style scoped>\n",
       "    .dataframe tbody tr th:only-of-type {\n",
       "        vertical-align: middle;\n",
       "    }\n",
       "\n",
       "    .dataframe tbody tr th {\n",
       "        vertical-align: top;\n",
       "    }\n",
       "\n",
       "    .dataframe thead th {\n",
       "        text-align: right;\n",
       "    }\n",
       "</style>\n",
       "<table border=\"1\" class=\"dataframe\">\n",
       "  <thead>\n",
       "    <tr style=\"text-align: right;\">\n",
       "      <th></th>\n",
       "      <th>name</th>\n",
       "      <th>views_total</th>\n",
       "      <th>views_uniques</th>\n",
       "      <th>clones_total</th>\n",
       "    </tr>\n",
       "  </thead>\n",
       "  <tbody>\n",
       "    <tr>\n",
       "      <th>242</th>\n",
       "      <td>quarkus-kotlin-example</td>\n",
       "      <td>10</td>\n",
       "      <td>1</td>\n",
       "      <td>0</td>\n",
       "    </tr>\n",
       "    <tr>\n",
       "      <th>239</th>\n",
       "      <td>istio-wasm-filter-golang</td>\n",
       "      <td>3</td>\n",
       "      <td>2</td>\n",
       "      <td>0</td>\n",
       "    </tr>\n",
       "    <tr>\n",
       "      <th>234</th>\n",
       "      <td>amq-streams-workshop</td>\n",
       "      <td>0</td>\n",
       "      <td>0</td>\n",
       "      <td>1</td>\n",
       "    </tr>\n",
       "    <tr>\n",
       "      <th>235</th>\n",
       "      <td>asciidoc-base</td>\n",
       "      <td>0</td>\n",
       "      <td>0</td>\n",
       "      <td>1</td>\n",
       "    </tr>\n",
       "    <tr>\n",
       "      <th>236</th>\n",
       "      <td>dbgjerez</td>\n",
       "      <td>0</td>\n",
       "      <td>0</td>\n",
       "      <td>1</td>\n",
       "    </tr>\n",
       "  </tbody>\n",
       "</table>\n",
       "</div>"
      ],
      "text/plain": [
       "                         name  views_total  views_uniques  clones_total\n",
       "242    quarkus-kotlin-example           10              1             0\n",
       "239  istio-wasm-filter-golang            3              2             0\n",
       "234      amq-streams-workshop            0              0             1\n",
       "235             asciidoc-base            0              0             1\n",
       "236                  dbgjerez            0              0             1"
      ]
     },
     "execution_count": 6,
     "metadata": {},
     "output_type": "execute_result"
    }
   ],
   "source": [
    "columns=[\"name\",\"views_total\",\"views_uniques\",\"clones_total\"]\n",
    "today[columns].sort_values(by=[\"views_total\",\"views_uniques\"], ascending=False).head(head_total)"
   ]
  },
  {
   "cell_type": "code",
   "execution_count": 7,
   "id": "d956a7b6",
   "metadata": {
    "execution": {
     "iopub.execute_input": "2022-08-05T09:33:25.718685Z",
     "iopub.status.busy": "2022-08-05T09:33:25.718199Z",
     "iopub.status.idle": "2022-08-05T09:33:25.721374Z",
     "shell.execute_reply": "2022-08-05T09:33:25.720806Z"
    }
   },
   "outputs": [],
   "source": [
    "repos = df.name.unique().tolist()"
   ]
  },
  {
   "cell_type": "code",
   "execution_count": 8,
   "id": "d0fb52ef",
   "metadata": {
    "execution": {
     "iopub.execute_input": "2022-08-05T09:33:25.723989Z",
     "iopub.status.busy": "2022-08-05T09:33:25.723711Z",
     "iopub.status.idle": "2022-08-05T09:33:25.784036Z",
     "shell.execute_reply": "2022-08-05T09:33:25.783245Z"
    }
   },
   "outputs": [],
   "source": [
    "dict_df_repos = dict()\n",
    "for repo_name in repos:\n",
    "    dict_df_repos[repo_name] = df[df.name==repo_name]"
   ]
  },
  {
   "cell_type": "markdown",
   "id": "b7034071",
   "metadata": {},
   "source": [
    "## Data analysis"
   ]
  },
  {
   "cell_type": "code",
   "execution_count": 9,
   "id": "b33db4b7",
   "metadata": {
    "execution": {
     "iopub.execute_input": "2022-08-05T09:33:25.787504Z",
     "iopub.status.busy": "2022-08-05T09:33:25.787211Z",
     "iopub.status.idle": "2022-08-05T09:33:25.796736Z",
     "shell.execute_reply": "2022-08-05T09:33:25.796059Z"
    }
   },
   "outputs": [],
   "source": [
    "df_grouped = df.groupby(['name']).agg({\"date\": [\"min\"], \"stars_count\": [\"max\"],\"clones_uniques\": [\"sum\"],\"views_total\": [\"sum\", \"max\"]})"
   ]
  },
  {
   "cell_type": "markdown",
   "id": "d7c6f79d",
   "metadata": {},
   "source": [
    "### Views"
   ]
  },
  {
   "cell_type": "code",
   "execution_count": 10,
   "id": "8e7486fd",
   "metadata": {
    "execution": {
     "iopub.execute_input": "2022-08-05T09:33:25.800049Z",
     "iopub.status.busy": "2022-08-05T09:33:25.799611Z",
     "iopub.status.idle": "2022-08-05T09:33:25.808410Z",
     "shell.execute_reply": "2022-08-05T09:33:25.807485Z"
    }
   },
   "outputs": [
    {
     "name": "stdout",
     "output_type": "stream",
     "text": [
      "Best views over: 16.0\n",
      "Worst views under: 0.0\n"
     ]
    }
   ],
   "source": [
    "views_best_quantile = 0.75\n",
    "views_worst_quantile = 0.25\n",
    "best_views_percentile = df_grouped[('views_total', 'sum')].quantile(views_best_quantile)\n",
    "worst_views_percentile = df_grouped[('views_total', 'sum')].quantile(views_worst_quantile)\n",
    "print(\"Best views over:\", best_views_percentile)\n",
    "print(\"Worst views under:\", worst_views_percentile)"
   ]
  },
  {
   "cell_type": "code",
   "execution_count": 11,
   "id": "7958a4f1",
   "metadata": {
    "execution": {
     "iopub.execute_input": "2022-08-05T09:33:25.811814Z",
     "iopub.status.busy": "2022-08-05T09:33:25.811197Z",
     "iopub.status.idle": "2022-08-05T09:33:25.823294Z",
     "shell.execute_reply": "2022-08-05T09:33:25.822586Z"
    }
   },
   "outputs": [
    {
     "data": {
      "text/html": [
       "<div>\n",
       "<style scoped>\n",
       "    .dataframe tbody tr th:only-of-type {\n",
       "        vertical-align: middle;\n",
       "    }\n",
       "\n",
       "    .dataframe tbody tr th {\n",
       "        vertical-align: top;\n",
       "    }\n",
       "\n",
       "    .dataframe thead th {\n",
       "        text-align: right;\n",
       "    }\n",
       "</style>\n",
       "<table border=\"1\" class=\"dataframe\">\n",
       "  <thead>\n",
       "    <tr style=\"text-align: right;\">\n",
       "      <th></th>\n",
       "      <th>sum</th>\n",
       "      <th>max</th>\n",
       "    </tr>\n",
       "    <tr>\n",
       "      <th>name</th>\n",
       "      <th></th>\n",
       "      <th></th>\n",
       "    </tr>\n",
       "  </thead>\n",
       "  <tbody>\n",
       "    <tr>\n",
       "      <th>kotlin-ktor</th>\n",
       "      <td>251</td>\n",
       "      <td>41</td>\n",
       "    </tr>\n",
       "    <tr>\n",
       "      <th>ocp-monitoring-golang</th>\n",
       "      <td>172</td>\n",
       "      <td>133</td>\n",
       "    </tr>\n",
       "    <tr>\n",
       "      <th>quarkus-kotlin-example</th>\n",
       "      <td>158</td>\n",
       "      <td>46</td>\n",
       "    </tr>\n",
       "    <tr>\n",
       "      <th>ml-github</th>\n",
       "      <td>127</td>\n",
       "      <td>41</td>\n",
       "    </tr>\n",
       "    <tr>\n",
       "      <th>golang-rest-api-cassandra</th>\n",
       "      <td>81</td>\n",
       "      <td>27</td>\n",
       "    </tr>\n",
       "    <tr>\n",
       "      <th>mqtt-golang-influxdb</th>\n",
       "      <td>70</td>\n",
       "      <td>25</td>\n",
       "    </tr>\n",
       "    <tr>\n",
       "      <th>golang-k8s-helm-helloworld</th>\n",
       "      <td>62</td>\n",
       "      <td>42</td>\n",
       "    </tr>\n",
       "    <tr>\n",
       "      <th>istio-wasm-filter-golang</th>\n",
       "      <td>53</td>\n",
       "      <td>8</td>\n",
       "    </tr>\n",
       "    <tr>\n",
       "      <th>kustomize-vs-helm</th>\n",
       "      <td>42</td>\n",
       "      <td>24</td>\n",
       "    </tr>\n",
       "    <tr>\n",
       "      <th>ta</th>\n",
       "      <td>33</td>\n",
       "      <td>21</td>\n",
       "    </tr>\n",
       "    <tr>\n",
       "      <th>kops-aws</th>\n",
       "      <td>27</td>\n",
       "      <td>20</td>\n",
       "    </tr>\n",
       "  </tbody>\n",
       "</table>\n",
       "</div>"
      ],
      "text/plain": [
       "                            sum  max\n",
       "name                                \n",
       "kotlin-ktor                 251   41\n",
       "ocp-monitoring-golang       172  133\n",
       "quarkus-kotlin-example      158   46\n",
       "ml-github                   127   41\n",
       "golang-rest-api-cassandra    81   27\n",
       "mqtt-golang-influxdb         70   25\n",
       "golang-k8s-helm-helloworld   62   42\n",
       "istio-wasm-filter-golang     53    8\n",
       "kustomize-vs-helm            42   24\n",
       "ta                           33   21\n",
       "kops-aws                     27   20"
      ]
     },
     "execution_count": 11,
     "metadata": {},
     "output_type": "execute_result"
    }
   ],
   "source": [
    "views=df_grouped[('views_total')]\n",
    "views_best = views[views['sum'] > best_views_percentile]\n",
    "views_best.sort_values(by='sum', ascending=False)"
   ]
  },
  {
   "cell_type": "markdown",
   "id": "942bcf96",
   "metadata": {},
   "source": [
    "#### Best views repositories"
   ]
  },
  {
   "cell_type": "code",
   "execution_count": 12,
   "id": "7c19e28e",
   "metadata": {
    "execution": {
     "iopub.execute_input": "2022-08-05T09:33:25.835977Z",
     "iopub.status.busy": "2022-08-05T09:33:25.835702Z",
     "iopub.status.idle": "2022-08-05T09:33:26.056665Z",
     "shell.execute_reply": "2022-08-05T09:33:26.055959Z"
    }
   },
   "outputs": [
    {
     "data": {
      "text/plain": [
       "<matplotlib.legend.Legend at 0x7f26fc4fdcc0>"
      ]
     },
     "execution_count": 12,
     "metadata": {},
     "output_type": "execute_result"
    },
    {
     "data": {
      "image/png": "[encoded data removed]",
      "text/plain": [
       "<Figure size 1440x720 with 1 Axes>"
      ]
     },
     "metadata": {
      "needs_background": "light"
     },
     "output_type": "display_data"
    }
   ],
   "source": [
    "plt.figure(figsize=(20,10))\n",
    "for repo_name in views_best.index.tolist():\n",
    "    df_r = dict_df_repos[repo_name].sort_values(by=\"date\")\n",
    "    x = df_r.date\n",
    "    y = df_r.views_total\n",
    "    plt.plot(x, y, label=repo_name)\n",
    "    \n",
    "plt.legend(loc = \"upper left\")"
   ]
  },
  {
   "cell_type": "markdown",
   "id": "6e7aacde",
   "metadata": {},
   "source": [
    "#### Sum views total"
   ]
  },
  {
   "cell_type": "code",
   "execution_count": 13,
   "id": "c4004748",
   "metadata": {
    "execution": {
     "iopub.execute_input": "2022-08-05T09:33:26.059193Z",
     "iopub.status.busy": "2022-08-05T09:33:26.058949Z",
     "iopub.status.idle": "2022-08-05T09:33:26.064286Z",
     "shell.execute_reply": "2022-08-05T09:33:26.063756Z"
    }
   },
   "outputs": [],
   "source": [
    "df_total_views=df.groupby(['date']).agg({\"views_total\": [\"sum\"]}).sort_values(by=\"date\", ascending=True)"
   ]
  },
  {
   "cell_type": "code",
   "execution_count": 14,
   "id": "981ecf59",
   "metadata": {
    "execution": {
     "iopub.execute_input": "2022-08-05T09:33:26.067213Z",
     "iopub.status.busy": "2022-08-05T09:33:26.066897Z",
     "iopub.status.idle": "2022-08-05T09:33:26.209071Z",
     "shell.execute_reply": "2022-08-05T09:33:26.208420Z"
    }
   },
   "outputs": [
    {
     "data": {
      "text/plain": [
       "<matplotlib.legend.Legend at 0x7f26bde8dab0>"
      ]
     },
     "execution_count": 14,
     "metadata": {},
     "output_type": "execute_result"
    },
    {
     "data": {
      "image/png": "[encoded data removed]",
      "text/plain": [
       "<Figure size 1440x720 with 1 Axes>"
      ]
     },
     "metadata": {
      "needs_background": "light"
     },
     "output_type": "display_data"
    }
   ],
   "source": [
    "plt.figure(figsize=(20,10))\n",
    "x = df_total_views.index\n",
    "y = df_total_views[('views_total', 'sum')]\n",
    "plt.plot(x, y, label=\"total_views\")\n",
    "plt.legend(loc = \"upper left\")"
   ]
  },
  {
   "cell_type": "markdown",
   "id": "56d55a33",
   "metadata": {},
   "source": [
    "### Clones"
   ]
  },
  {
   "cell_type": "code",
   "execution_count": 15,
   "id": "4430fccd",
   "metadata": {
    "execution": {
     "iopub.execute_input": "2022-08-05T09:33:26.211865Z",
     "iopub.status.busy": "2022-08-05T09:33:26.211646Z",
     "iopub.status.idle": "2022-08-05T09:33:26.219643Z",
     "shell.execute_reply": "2022-08-05T09:33:26.219059Z"
    }
   },
   "outputs": [
    {
     "name": "stdout",
     "output_type": "stream",
     "text": [
      "Best clones over: 4.0\n",
      "Worst clones under: 1.0\n"
     ]
    }
   ],
   "source": [
    "# calculate the best 25% repositories\n",
    "best_clones_quantile = 0.75\n",
    "worst_clones_quantile = 0.25\n",
    "best_clones_percentile = df_grouped[('clones_uniques', 'sum')].quantile(best_clones_quantile)\n",
    "worst_clones_percentile = df_grouped[('clones_uniques', 'sum')].quantile(worst_clones_quantile)\n",
    "print(\"Best clones over:\", best_clones_percentile)\n",
    "print(\"Worst clones under:\", worst_clones_percentile)"
   ]
  },
  {
   "cell_type": "code",
   "execution_count": 16,
   "id": "9d6f5a3c",
   "metadata": {
    "execution": {
     "iopub.execute_input": "2022-08-05T09:33:26.222123Z",
     "iopub.status.busy": "2022-08-05T09:33:26.221857Z",
     "iopub.status.idle": "2022-08-05T09:33:26.229648Z",
     "shell.execute_reply": "2022-08-05T09:33:26.229166Z"
    }
   },
   "outputs": [
    {
     "data": {
      "text/html": [
       "<div>\n",
       "<style scoped>\n",
       "    .dataframe tbody tr th:only-of-type {\n",
       "        vertical-align: middle;\n",
       "    }\n",
       "\n",
       "    .dataframe tbody tr th {\n",
       "        vertical-align: top;\n",
       "    }\n",
       "\n",
       "    .dataframe thead th {\n",
       "        text-align: right;\n",
       "    }\n",
       "</style>\n",
       "<table border=\"1\" class=\"dataframe\">\n",
       "  <thead>\n",
       "    <tr style=\"text-align: right;\">\n",
       "      <th></th>\n",
       "      <th>sum</th>\n",
       "    </tr>\n",
       "    <tr>\n",
       "      <th>name</th>\n",
       "      <th></th>\n",
       "    </tr>\n",
       "  </thead>\n",
       "  <tbody>\n",
       "    <tr>\n",
       "      <th>golang-rest-api-cassandra</th>\n",
       "      <td>530</td>\n",
       "    </tr>\n",
       "    <tr>\n",
       "      <th>ta</th>\n",
       "      <td>340</td>\n",
       "    </tr>\n",
       "    <tr>\n",
       "      <th>iot-devices-crud</th>\n",
       "      <td>244</td>\n",
       "    </tr>\n",
       "    <tr>\n",
       "      <th>mqtt-golang-influxdb</th>\n",
       "      <td>204</td>\n",
       "    </tr>\n",
       "    <tr>\n",
       "      <th>ml-github</th>\n",
       "      <td>63</td>\n",
       "    </tr>\n",
       "    <tr>\n",
       "      <th>ocp-monitoring-golang</th>\n",
       "      <td>11</td>\n",
       "    </tr>\n",
       "    <tr>\n",
       "      <th>DO180-apps</th>\n",
       "      <td>10</td>\n",
       "    </tr>\n",
       "    <tr>\n",
       "      <th>b0rr3g0-blog</th>\n",
       "      <td>10</td>\n",
       "    </tr>\n",
       "    <tr>\n",
       "      <th>pelorus-workshop</th>\n",
       "      <td>6</td>\n",
       "    </tr>\n",
       "    <tr>\n",
       "      <th>kops-aws</th>\n",
       "      <td>5</td>\n",
       "    </tr>\n",
       "    <tr>\n",
       "      <th>kustomize-vs-helm</th>\n",
       "      <td>5</td>\n",
       "    </tr>\n",
       "  </tbody>\n",
       "</table>\n",
       "</div>"
      ],
      "text/plain": [
       "                           sum\n",
       "name                          \n",
       "golang-rest-api-cassandra  530\n",
       "ta                         340\n",
       "iot-devices-crud           244\n",
       "mqtt-golang-influxdb       204\n",
       "ml-github                   63\n",
       "ocp-monitoring-golang       11\n",
       "DO180-apps                  10\n",
       "b0rr3g0-blog                10\n",
       "pelorus-workshop             6\n",
       "kops-aws                     5\n",
       "kustomize-vs-helm            5"
      ]
     },
     "execution_count": 16,
     "metadata": {},
     "output_type": "execute_result"
    }
   ],
   "source": [
    "clones=df_grouped[('clones_uniques')]\n",
    "clones_best = clones[clones['sum'] > best_clones_percentile]\n",
    "clones_best.sort_values(by='sum', ascending=False)"
   ]
  },
  {
   "cell_type": "markdown",
   "id": "157569fb",
   "metadata": {},
   "source": [
    "# Stars"
   ]
  },
  {
   "cell_type": "code",
   "execution_count": 17,
   "id": "6d5ba727",
   "metadata": {
    "execution": {
     "iopub.execute_input": "2022-08-05T09:33:26.232538Z",
     "iopub.status.busy": "2022-08-05T09:33:26.232295Z",
     "iopub.status.idle": "2022-08-05T09:33:26.239259Z",
     "shell.execute_reply": "2022-08-05T09:33:26.238683Z"
    }
   },
   "outputs": [
    {
     "name": "stdout",
     "output_type": "stream",
     "text": [
      "Best stars over: 1.0\n",
      "Worst stars under: 0.0\n"
     ]
    }
   ],
   "source": [
    "# calculate the best 50% repositories\n",
    "best_stars_quantile = 0.75\n",
    "worst_stars_quantile = 0.25\n",
    "best_stars_percentile = df_grouped[('stars_count', 'max')].quantile(best_stars_quantile)\n",
    "worst_stars_percentile = df_grouped[('stars_count', 'max')].quantile(worst_stars_quantile)\n",
    "print(\"Best stars over:\", best_stars_percentile)\n",
    "print(\"Worst stars under:\", worst_stars_percentile)"
   ]
  },
  {
   "cell_type": "code",
   "execution_count": 18,
   "id": "d5234152",
   "metadata": {
    "execution": {
     "iopub.execute_input": "2022-08-05T09:33:26.241925Z",
     "iopub.status.busy": "2022-08-05T09:33:26.241650Z",
     "iopub.status.idle": "2022-08-05T09:33:26.249681Z",
     "shell.execute_reply": "2022-08-05T09:33:26.248927Z"
    }
   },
   "outputs": [
    {
     "data": {
      "text/html": [
       "<div>\n",
       "<style scoped>\n",
       "    .dataframe tbody tr th:only-of-type {\n",
       "        vertical-align: middle;\n",
       "    }\n",
       "\n",
       "    .dataframe tbody tr th {\n",
       "        vertical-align: top;\n",
       "    }\n",
       "\n",
       "    .dataframe thead th {\n",
       "        text-align: right;\n",
       "    }\n",
       "</style>\n",
       "<table border=\"1\" class=\"dataframe\">\n",
       "  <thead>\n",
       "    <tr style=\"text-align: right;\">\n",
       "      <th></th>\n",
       "      <th>max</th>\n",
       "    </tr>\n",
       "    <tr>\n",
       "      <th>name</th>\n",
       "      <th></th>\n",
       "    </tr>\n",
       "  </thead>\n",
       "  <tbody>\n",
       "    <tr>\n",
       "      <th>mqtt-golang-influxdb</th>\n",
       "      <td>10</td>\n",
       "    </tr>\n",
       "    <tr>\n",
       "      <th>spring-kotlin-crud</th>\n",
       "      <td>6</td>\n",
       "    </tr>\n",
       "    <tr>\n",
       "      <th>kotlin-ktor</th>\n",
       "      <td>5</td>\n",
       "    </tr>\n",
       "    <tr>\n",
       "      <th>kops-aws</th>\n",
       "      <td>4</td>\n",
       "    </tr>\n",
       "    <tr>\n",
       "      <th>kustomize-vs-helm</th>\n",
       "      <td>3</td>\n",
       "    </tr>\n",
       "    <tr>\n",
       "      <th>ta</th>\n",
       "      <td>3</td>\n",
       "    </tr>\n",
       "    <tr>\n",
       "      <th>golang-k8s-helm-helloworld</th>\n",
       "      <td>2</td>\n",
       "    </tr>\n",
       "    <tr>\n",
       "      <th>golang-rest-api-cassandra</th>\n",
       "      <td>2</td>\n",
       "    </tr>\n",
       "    <tr>\n",
       "      <th>quarkus-kotlin-example</th>\n",
       "      <td>2</td>\n",
       "    </tr>\n",
       "  </tbody>\n",
       "</table>\n",
       "</div>"
      ],
      "text/plain": [
       "                            max\n",
       "name                           \n",
       "mqtt-golang-influxdb         10\n",
       "spring-kotlin-crud            6\n",
       "kotlin-ktor                   5\n",
       "kops-aws                      4\n",
       "kustomize-vs-helm             3\n",
       "ta                            3\n",
       "golang-k8s-helm-helloworld    2\n",
       "golang-rest-api-cassandra     2\n",
       "quarkus-kotlin-example        2"
      ]
     },
     "execution_count": 18,
     "metadata": {},
     "output_type": "execute_result"
    }
   ],
   "source": [
    "stars=df_grouped[('stars_count')]\n",
    "stars_best = stars[stars['max'] > best_stars_percentile]\n",
    "stars_best.sort_values(by=['max'], ascending=False)"
   ]
  },
  {
   "cell_type": "markdown",
   "id": "930ebe06",
   "metadata": {},
   "source": [
    "# Red zone"
   ]
  },
  {
   "cell_type": "code",
   "execution_count": 19,
   "id": "4b27fe45",
   "metadata": {
    "execution": {
     "iopub.execute_input": "2022-08-05T09:33:26.252641Z",
     "iopub.status.busy": "2022-08-05T09:33:26.252382Z",
     "iopub.status.idle": "2022-08-05T09:33:26.264001Z",
     "shell.execute_reply": "2022-08-05T09:33:26.263462Z"
    }
   },
   "outputs": [],
   "source": [
    "repos = pd.read_csv(\"./repos.csv\")\n",
    "\n",
    "# remove colum\n",
    "repos = repos.iloc[:,1:]\n",
    "# remove owner\n",
    "repos = repos.drop(labels=\"owner\",axis=1)\n",
    "# add num topics\n",
    "#repos[\"num_topics\"] = len(repos.topics.str.split(','))\n",
    "def count_topics(topics):\n",
    "    return 0 if topics.count(',') == 0 else topics.count(',')+1\n",
    "repos[\"topics_count\"] = repos.apply(lambda row : count_topics(row.topics), axis=1)\n",
    "# remove topics\n",
    "repos = repos.drop(labels=\"topics\",axis=1)\n",
    "# format date\n",
    "repos[\"latest_commit_date\"] = pd.to_datetime(repos[\"latest_commit_date\"], format='%Y%m%d')\n",
    "# days until latest commit\n",
    "today = pd.to_datetime('today')\n",
    "repos[\"days_latest_commit\"] = (today - repos.latest_commit_date).dt.days"
   ]
  },
  {
   "cell_type": "code",
   "execution_count": 20,
   "id": "9f474b84",
   "metadata": {
    "execution": {
     "iopub.execute_input": "2022-08-05T09:33:26.267185Z",
     "iopub.status.busy": "2022-08-05T09:33:26.266881Z",
     "iopub.status.idle": "2022-08-05T09:33:26.271412Z",
     "shell.execute_reply": "2022-08-05T09:33:26.270894Z"
    }
   },
   "outputs": [
    {
     "data": {
      "text/plain": [
       "Timestamp('2022-07-16 00:00:00')"
      ]
     },
     "execution_count": 20,
     "metadata": {},
     "output_type": "execute_result"
    }
   ],
   "source": [
    "df_grouped.loc['golang-azure-eventhub'][('date', 'min')]"
   ]
  },
  {
   "cell_type": "code",
   "execution_count": 21,
   "id": "e427e76c",
   "metadata": {
    "execution": {
     "iopub.execute_input": "2022-08-05T09:33:26.273949Z",
     "iopub.status.busy": "2022-08-05T09:33:26.273727Z",
     "iopub.status.idle": "2022-08-05T09:33:26.278545Z",
     "shell.execute_reply": "2022-08-05T09:33:26.278058Z"
    }
   },
   "outputs": [],
   "source": [
    "def extract_views_by_day(row):\n",
    "    return \n",
    "repos[\"views_by_day\"] = repos.apply(lambda row: extract_views_by_day(row.name),axis=1)"
   ]
  },
  {
   "cell_type": "code",
   "execution_count": 22,
   "id": "cea9f540",
   "metadata": {
    "execution": {
     "iopub.execute_input": "2022-08-05T09:33:26.280941Z",
     "iopub.status.busy": "2022-08-05T09:33:26.280677Z",
     "iopub.status.idle": "2022-08-05T09:33:26.287883Z",
     "shell.execute_reply": "2022-08-05T09:33:26.287357Z"
    }
   },
   "outputs": [],
   "source": [
    "# Scores by labels\n",
    "cut_labels = ['S','A', 'B', 'C']\n",
    "cut_bins = [0, 7, 30, 365, 99999]\n",
    "repos['score_commits'] = pd.cut(repos['days_latest_commit'], bins=cut_bins, labels=cut_labels)\n",
    "\n",
    "cut_labels = [False,True]\n",
    "cut_bins = [-1, 0, 99999]\n",
    "repos['score_topics'] = pd.cut(repos['topics_count'], bins=cut_bins, labels=cut_labels)"
   ]
  },
  {
   "cell_type": "code",
   "execution_count": 23,
   "id": "cfcef1a2",
   "metadata": {
    "execution": {
     "iopub.execute_input": "2022-08-05T09:33:26.290425Z",
     "iopub.status.busy": "2022-08-05T09:33:26.290213Z",
     "iopub.status.idle": "2022-08-05T09:33:26.299983Z",
     "shell.execute_reply": "2022-08-05T09:33:26.299376Z"
    }
   },
   "outputs": [
    {
     "data": {
      "text/html": [
       "<div>\n",
       "<style scoped>\n",
       "    .dataframe tbody tr th:only-of-type {\n",
       "        vertical-align: middle;\n",
       "    }\n",
       "\n",
       "    .dataframe tbody tr th {\n",
       "        vertical-align: top;\n",
       "    }\n",
       "\n",
       "    .dataframe thead th {\n",
       "        text-align: right;\n",
       "    }\n",
       "</style>\n",
       "<table border=\"1\" class=\"dataframe\">\n",
       "  <thead>\n",
       "    <tr style=\"text-align: right;\">\n",
       "      <th></th>\n",
       "      <th>name</th>\n",
       "      <th>latest_commit_date</th>\n",
       "      <th>topics_count</th>\n",
       "      <th>days_latest_commit</th>\n",
       "      <th>views_by_day</th>\n",
       "      <th>score_commits</th>\n",
       "      <th>score_topics</th>\n",
       "    </tr>\n",
       "  </thead>\n",
       "  <tbody>\n",
       "    <tr>\n",
       "      <th>42</th>\n",
       "      <td>ml-github</td>\n",
       "      <td>2022-08-05</td>\n",
       "      <td>0</td>\n",
       "      <td>0</td>\n",
       "      <td>None</td>\n",
       "      <td>NaN</td>\n",
       "      <td>False</td>\n",
       "    </tr>\n",
       "    <tr>\n",
       "      <th>3</th>\n",
       "      <td>b0rr3g0-blog</td>\n",
       "      <td>2022-07-26</td>\n",
       "      <td>0</td>\n",
       "      <td>10</td>\n",
       "      <td>None</td>\n",
       "      <td>A</td>\n",
       "      <td>False</td>\n",
       "    </tr>\n",
       "    <tr>\n",
       "      <th>35</th>\n",
       "      <td>kops-aws</td>\n",
       "      <td>2022-07-26</td>\n",
       "      <td>0</td>\n",
       "      <td>10</td>\n",
       "      <td>None</td>\n",
       "      <td>A</td>\n",
       "      <td>False</td>\n",
       "    </tr>\n",
       "    <tr>\n",
       "      <th>48</th>\n",
       "      <td>ocp-monitoring-golang</td>\n",
       "      <td>2022-07-14</td>\n",
       "      <td>0</td>\n",
       "      <td>22</td>\n",
       "      <td>None</td>\n",
       "      <td>A</td>\n",
       "      <td>False</td>\n",
       "    </tr>\n",
       "    <tr>\n",
       "      <th>15</th>\n",
       "      <td>golang-k8s-helm-helloworld</td>\n",
       "      <td>2022-07-14</td>\n",
       "      <td>5</td>\n",
       "      <td>22</td>\n",
       "      <td>None</td>\n",
       "      <td>A</td>\n",
       "      <td>True</td>\n",
       "    </tr>\n",
       "  </tbody>\n",
       "</table>\n",
       "</div>"
      ],
      "text/plain": [
       "                          name latest_commit_date  topics_count  \\\n",
       "42                   ml-github         2022-08-05             0   \n",
       "3                 b0rr3g0-blog         2022-07-26             0   \n",
       "35                    kops-aws         2022-07-26             0   \n",
       "48       ocp-monitoring-golang         2022-07-14             0   \n",
       "15  golang-k8s-helm-helloworld         2022-07-14             5   \n",
       "\n",
       "    days_latest_commit views_by_day score_commits score_topics  \n",
       "42                   0         None           NaN        False  \n",
       "3                   10         None             A        False  \n",
       "35                  10         None             A        False  \n",
       "48                  22         None             A        False  \n",
       "15                  22         None             A         True  "
      ]
     },
     "execution_count": 23,
     "metadata": {},
     "output_type": "execute_result"
    }
   ],
   "source": [
    "repos.sort_values(by=\"days_latest_commit\").head(5)"
   ]
  },
  {
   "cell_type": "code",
   "execution_count": 24,
   "id": "d084cc22",
   "metadata": {
    "execution": {
     "iopub.execute_input": "2022-08-05T09:33:26.302803Z",
     "iopub.status.busy": "2022-08-05T09:33:26.302372Z",
     "iopub.status.idle": "2022-08-05T09:33:26.362146Z",
     "shell.execute_reply": "2022-08-05T09:33:26.361553Z"
    }
   },
   "outputs": [
    {
     "data": {
      "text/html": [
       "<style type=\"text/css\">\n",
       "#T_8890b .A {\n",
       "  background-color: #e6ffe6;\n",
       "}\n",
       "#T_8890b .B {\n",
       "  background-color: #ffe6e6;\n",
       "}\n",
       "#T_8890b .False {\n",
       "  background-color: #ffe6e6;\n",
       "}\n",
       "#T_8890b .True {\n",
       "  background-color: #e6ffe6;\n",
       "}\n",
       "</style>\n",
       "<table id=\"T_8890b\">\n",
       "  <thead>\n",
       "    <tr>\n",
       "      <th class=\"blank level0\" >&nbsp;</th>\n",
       "      <th id=\"T_8890b_level0_col0\" class=\"col_heading level0 col0\" >name</th>\n",
       "      <th id=\"T_8890b_level0_col1\" class=\"col_heading level0 col1\" >score_commits</th>\n",
       "      <th id=\"T_8890b_level0_col2\" class=\"col_heading level0 col2\" >score_topics</th>\n",
       "    </tr>\n",
       "  </thead>\n",
       "  <tbody>\n",
       "    <tr>\n",
       "      <th id=\"T_8890b_level0_row0\" class=\"row_heading level0 row0\" >0</th>\n",
       "      <td id=\"T_8890b_row0_col0\" class=\"data row0 col0 amq-streams-workshop\" >amq-streams-workshop</td>\n",
       "      <td id=\"T_8890b_row0_col1\" class=\"data row0 col1 B\" >B</td>\n",
       "      <td id=\"T_8890b_row0_col2\" class=\"data row0 col2 False\" >False</td>\n",
       "    </tr>\n",
       "    <tr>\n",
       "      <th id=\"T_8890b_level0_row1\" class=\"row_heading level0 row1\" >1</th>\n",
       "      <td id=\"T_8890b_row1_col0\" class=\"data row1 col0 ansible-base\" >ansible-base</td>\n",
       "      <td id=\"T_8890b_row1_col1\" class=\"data row1 col1 B\" >B</td>\n",
       "      <td id=\"T_8890b_row1_col2\" class=\"data row1 col2 False\" >False</td>\n",
       "    </tr>\n",
       "    <tr>\n",
       "      <th id=\"T_8890b_level0_row2\" class=\"row_heading level0 row2\" >2</th>\n",
       "      <td id=\"T_8890b_row2_col0\" class=\"data row2 col0 asciidoc-base\" >asciidoc-base</td>\n",
       "      <td id=\"T_8890b_row2_col1\" class=\"data row2 col1 B\" >B</td>\n",
       "      <td id=\"T_8890b_row2_col2\" class=\"data row2 col2 False\" >False</td>\n",
       "    </tr>\n",
       "    <tr>\n",
       "      <th id=\"T_8890b_level0_row3\" class=\"row_heading level0 row3\" >3</th>\n",
       "      <td id=\"T_8890b_row3_col0\" class=\"data row3 col0 b0rr3g0-blog\" >b0rr3g0-blog</td>\n",
       "      <td id=\"T_8890b_row3_col1\" class=\"data row3 col1 A\" >A</td>\n",
       "      <td id=\"T_8890b_row3_col2\" class=\"data row3 col2 False\" >False</td>\n",
       "    </tr>\n",
       "    <tr>\n",
       "      <th id=\"T_8890b_level0_row4\" class=\"row_heading level0 row4\" >4</th>\n",
       "      <td id=\"T_8890b_row4_col0\" class=\"data row4 col0 beautifulhugo\" >beautifulhugo</td>\n",
       "      <td id=\"T_8890b_row4_col1\" class=\"data row4 col1 B\" >B</td>\n",
       "      <td id=\"T_8890b_row4_col2\" class=\"data row4 col2 False\" >False</td>\n",
       "    </tr>\n",
       "    <tr>\n",
       "      <th id=\"T_8890b_level0_row5\" class=\"row_heading level0 row5\" >5</th>\n",
       "      <td id=\"T_8890b_row5_col0\" class=\"data row5 col0 cd-travis-app\" >cd-travis-app</td>\n",
       "      <td id=\"T_8890b_row5_col1\" class=\"data row5 col1 C\" >C</td>\n",
       "      <td id=\"T_8890b_row5_col2\" class=\"data row5 col2 False\" >False</td>\n",
       "    </tr>\n",
       "    <tr>\n",
       "      <th id=\"T_8890b_level0_row6\" class=\"row_heading level0 row6\" >6</th>\n",
       "      <td id=\"T_8890b_row6_col0\" class=\"data row6 col0 clover\" >clover</td>\n",
       "      <td id=\"T_8890b_row6_col1\" class=\"data row6 col1 B\" >B</td>\n",
       "      <td id=\"T_8890b_row6_col2\" class=\"data row6 col2 False\" >False</td>\n",
       "    </tr>\n",
       "    <tr>\n",
       "      <th id=\"T_8890b_level0_row7\" class=\"row_heading level0 row7\" >7</th>\n",
       "      <td id=\"T_8890b_row7_col0\" class=\"data row7 col0 dbgjerez\" >dbgjerez</td>\n",
       "      <td id=\"T_8890b_row7_col1\" class=\"data row7 col1 B\" >B</td>\n",
       "      <td id=\"T_8890b_row7_col2\" class=\"data row7 col2 False\" >False</td>\n",
       "    </tr>\n",
       "    <tr>\n",
       "      <th id=\"T_8890b_level0_row8\" class=\"row_heading level0 row8\" >8</th>\n",
       "      <td id=\"T_8890b_row8_col0\" class=\"data row8 col0 DO180-apps\" >DO180-apps</td>\n",
       "      <td id=\"T_8890b_row8_col1\" class=\"data row8 col1 C\" >C</td>\n",
       "      <td id=\"T_8890b_row8_col2\" class=\"data row8 col2 False\" >False</td>\n",
       "    </tr>\n",
       "    <tr>\n",
       "      <th id=\"T_8890b_level0_row9\" class=\"row_heading level0 row9\" >9</th>\n",
       "      <td id=\"T_8890b_row9_col0\" class=\"data row9 col0 docker-elk\" >docker-elk</td>\n",
       "      <td id=\"T_8890b_row9_col1\" class=\"data row9 col1 C\" >C</td>\n",
       "      <td id=\"T_8890b_row9_col2\" class=\"data row9 col2 False\" >False</td>\n",
       "    </tr>\n",
       "    <tr>\n",
       "      <th id=\"T_8890b_level0_row10\" class=\"row_heading level0 row10\" >10</th>\n",
       "      <td id=\"T_8890b_row10_col0\" class=\"data row10 col0 git-changelog-maven-plugin\" >git-changelog-maven-plugin</td>\n",
       "      <td id=\"T_8890b_row10_col1\" class=\"data row10 col1 C\" >C</td>\n",
       "      <td id=\"T_8890b_row10_col2\" class=\"data row10 col2 False\" >False</td>\n",
       "    </tr>\n",
       "    <tr>\n",
       "      <th id=\"T_8890b_level0_row11\" class=\"row_heading level0 row11\" >11</th>\n",
       "      <td id=\"T_8890b_row11_col0\" class=\"data row11 col0 github-traffic\" >github-traffic</td>\n",
       "      <td id=\"T_8890b_row11_col1\" class=\"data row11 col1 B\" >B</td>\n",
       "      <td id=\"T_8890b_row11_col2\" class=\"data row11 col2 False\" >False</td>\n",
       "    </tr>\n",
       "    <tr>\n",
       "      <th id=\"T_8890b_level0_row12\" class=\"row_heading level0 row12\" >12</th>\n",
       "      <td id=\"T_8890b_row12_col0\" class=\"data row12 col0 golang-azure-eventhub\" >golang-azure-eventhub</td>\n",
       "      <td id=\"T_8890b_row12_col1\" class=\"data row12 col1 C\" >C</td>\n",
       "      <td id=\"T_8890b_row12_col2\" class=\"data row12 col2 False\" >False</td>\n",
       "    </tr>\n",
       "    <tr>\n",
       "      <th id=\"T_8890b_level0_row13\" class=\"row_heading level0 row13\" >13</th>\n",
       "      <td id=\"T_8890b_row13_col0\" class=\"data row13 col0 golang-azure-eventhub-kafka\" >golang-azure-eventhub-kafka</td>\n",
       "      <td id=\"T_8890b_row13_col1\" class=\"data row13 col1 C\" >C</td>\n",
       "      <td id=\"T_8890b_row13_col2\" class=\"data row13 col2 False\" >False</td>\n",
       "    </tr>\n",
       "    <tr>\n",
       "      <th id=\"T_8890b_level0_row14\" class=\"row_heading level0 row14\" >14</th>\n",
       "      <td id=\"T_8890b_row14_col0\" class=\"data row14 col0 golang-gin-gonic\" >golang-gin-gonic</td>\n",
       "      <td id=\"T_8890b_row14_col1\" class=\"data row14 col1 C\" >C</td>\n",
       "      <td id=\"T_8890b_row14_col2\" class=\"data row14 col2 True\" >True</td>\n",
       "    </tr>\n",
       "    <tr>\n",
       "      <th id=\"T_8890b_level0_row15\" class=\"row_heading level0 row15\" >15</th>\n",
       "      <td id=\"T_8890b_row15_col0\" class=\"data row15 col0 golang-k8s-helm-helloworld\" >golang-k8s-helm-helloworld</td>\n",
       "      <td id=\"T_8890b_row15_col1\" class=\"data row15 col1 A\" >A</td>\n",
       "      <td id=\"T_8890b_row15_col2\" class=\"data row15 col2 True\" >True</td>\n",
       "    </tr>\n",
       "    <tr>\n",
       "      <th id=\"T_8890b_level0_row16\" class=\"row_heading level0 row16\" >16</th>\n",
       "      <td id=\"T_8890b_row16_col0\" class=\"data row16 col0 golang-rest-api-cassandra\" >golang-rest-api-cassandra</td>\n",
       "      <td id=\"T_8890b_row16_col1\" class=\"data row16 col1 B\" >B</td>\n",
       "      <td id=\"T_8890b_row16_col2\" class=\"data row16 col2 True\" >True</td>\n",
       "    </tr>\n",
       "    <tr>\n",
       "      <th id=\"T_8890b_level0_row17\" class=\"row_heading level0 row17\" >17</th>\n",
       "      <td id=\"T_8890b_row17_col0\" class=\"data row17 col0 helm-spring-boot-chart\" >helm-spring-boot-chart</td>\n",
       "      <td id=\"T_8890b_row17_col1\" class=\"data row17 col1 C\" >C</td>\n",
       "      <td id=\"T_8890b_row17_col2\" class=\"data row17 col2 True\" >True</td>\n",
       "    </tr>\n",
       "    <tr>\n",
       "      <th id=\"T_8890b_level0_row18\" class=\"row_heading level0 row18\" >18</th>\n",
       "      <td id=\"T_8890b_row18_col0\" class=\"data row18 col0 ic-gradle\" >ic-gradle</td>\n",
       "      <td id=\"T_8890b_row18_col1\" class=\"data row18 col1 C\" >C</td>\n",
       "      <td id=\"T_8890b_row18_col2\" class=\"data row18 col2 False\" >False</td>\n",
       "    </tr>\n",
       "    <tr>\n",
       "      <th id=\"T_8890b_level0_row19\" class=\"row_heading level0 row19\" >19</th>\n",
       "      <td id=\"T_8890b_row19_col0\" class=\"data row19 col0 icepie\" >icepie</td>\n",
       "      <td id=\"T_8890b_row19_col1\" class=\"data row19 col1 C\" >C</td>\n",
       "      <td id=\"T_8890b_row19_col2\" class=\"data row19 col2 False\" >False</td>\n",
       "    </tr>\n",
       "    <tr>\n",
       "      <th id=\"T_8890b_level0_row20\" class=\"row_heading level0 row20\" >20</th>\n",
       "      <td id=\"T_8890b_row20_col0\" class=\"data row20 col0 influx-telegraf-chronograf\" >influx-telegraf-chronograf</td>\n",
       "      <td id=\"T_8890b_row20_col1\" class=\"data row20 col1 C\" >C</td>\n",
       "      <td id=\"T_8890b_row20_col2\" class=\"data row20 col2 False\" >False</td>\n",
       "    </tr>\n",
       "    <tr>\n",
       "      <th id=\"T_8890b_level0_row21\" class=\"row_heading level0 row21\" >21</th>\n",
       "      <td id=\"T_8890b_row21_col0\" class=\"data row21 col0 influxdb-telegraf-grafana\" >influxdb-telegraf-grafana</td>\n",
       "      <td id=\"T_8890b_row21_col1\" class=\"data row21 col1 C\" >C</td>\n",
       "      <td id=\"T_8890b_row21_col2\" class=\"data row21 col2 False\" >False</td>\n",
       "    </tr>\n",
       "    <tr>\n",
       "      <th id=\"T_8890b_level0_row22\" class=\"row_heading level0 row22\" >22</th>\n",
       "      <td id=\"T_8890b_row22_col0\" class=\"data row22 col0 iot-air-quality\" >iot-air-quality</td>\n",
       "      <td id=\"T_8890b_row22_col1\" class=\"data row22 col1 C\" >C</td>\n",
       "      <td id=\"T_8890b_row22_col2\" class=\"data row22 col2 False\" >False</td>\n",
       "    </tr>\n",
       "    <tr>\n",
       "      <th id=\"T_8890b_level0_row23\" class=\"row_heading level0 row23\" >23</th>\n",
       "      <td id=\"T_8890b_row23_col0\" class=\"data row23 col0 iot-devices-crud\" >iot-devices-crud</td>\n",
       "      <td id=\"T_8890b_row23_col1\" class=\"data row23 col1 B\" >B</td>\n",
       "      <td id=\"T_8890b_row23_col2\" class=\"data row23 col2 True\" >True</td>\n",
       "    </tr>\n",
       "    <tr>\n",
       "      <th id=\"T_8890b_level0_row24\" class=\"row_heading level0 row24\" >24</th>\n",
       "      <td id=\"T_8890b_row24_col0\" class=\"data row24 col0 iot-esp8266-dht11\" >iot-esp8266-dht11</td>\n",
       "      <td id=\"T_8890b_row24_col1\" class=\"data row24 col1 C\" >C</td>\n",
       "      <td id=\"T_8890b_row24_col2\" class=\"data row24 col2 True\" >True</td>\n",
       "    </tr>\n",
       "    <tr>\n",
       "      <th id=\"T_8890b_level0_row25\" class=\"row_heading level0 row25\" >25</th>\n",
       "      <td id=\"T_8890b_row25_col0\" class=\"data row25 col0 iot-esp8266-irrigation-system\" >iot-esp8266-irrigation-system</td>\n",
       "      <td id=\"T_8890b_row25_col1\" class=\"data row25 col1 C\" >C</td>\n",
       "      <td id=\"T_8890b_row25_col2\" class=\"data row25 col2 True\" >True</td>\n",
       "    </tr>\n",
       "    <tr>\n",
       "      <th id=\"T_8890b_level0_row26\" class=\"row_heading level0 row26\" >26</th>\n",
       "      <td id=\"T_8890b_row26_col0\" class=\"data row26 col0 iot-esp8266-relay-web-server\" >iot-esp8266-relay-web-server</td>\n",
       "      <td id=\"T_8890b_row26_col1\" class=\"data row26 col1 C\" >C</td>\n",
       "      <td id=\"T_8890b_row26_col2\" class=\"data row26 col2 False\" >False</td>\n",
       "    </tr>\n",
       "    <tr>\n",
       "      <th id=\"T_8890b_level0_row27\" class=\"row_heading level0 row27\" >27</th>\n",
       "      <td id=\"T_8890b_row27_col0\" class=\"data row27 col0 iot-k8s-stack\" >iot-k8s-stack</td>\n",
       "      <td id=\"T_8890b_row27_col1\" class=\"data row27 col1 C\" >C</td>\n",
       "      <td id=\"T_8890b_row27_col2\" class=\"data row27 col2 False\" >False</td>\n",
       "    </tr>\n",
       "    <tr>\n",
       "      <th id=\"T_8890b_level0_row28\" class=\"row_heading level0 row28\" >28</th>\n",
       "      <td id=\"T_8890b_row28_col0\" class=\"data row28 col0 istio\" >istio</td>\n",
       "      <td id=\"T_8890b_row28_col1\" class=\"data row28 col1 B\" >B</td>\n",
       "      <td id=\"T_8890b_row28_col2\" class=\"data row28 col2 False\" >False</td>\n",
       "    </tr>\n",
       "    <tr>\n",
       "      <th id=\"T_8890b_level0_row29\" class=\"row_heading level0 row29\" >29</th>\n",
       "      <td id=\"T_8890b_row29_col0\" class=\"data row29 col0 istio-wasm-filter-golang\" >istio-wasm-filter-golang</td>\n",
       "      <td id=\"T_8890b_row29_col1\" class=\"data row29 col1 B\" >B</td>\n",
       "      <td id=\"T_8890b_row29_col2\" class=\"data row29 col2 True\" >True</td>\n",
       "    </tr>\n",
       "    <tr>\n",
       "      <th id=\"T_8890b_level0_row30\" class=\"row_heading level0 row30\" >30</th>\n",
       "      <td id=\"T_8890b_row30_col0\" class=\"data row30 col0 java8-tutorial\" >java8-tutorial</td>\n",
       "      <td id=\"T_8890b_row30_col1\" class=\"data row30 col1 C\" >C</td>\n",
       "      <td id=\"T_8890b_row30_col2\" class=\"data row30 col2 False\" >False</td>\n",
       "    </tr>\n",
       "    <tr>\n",
       "      <th id=\"T_8890b_level0_row31\" class=\"row_heading level0 row31\" >31</th>\n",
       "      <td id=\"T_8890b_row31_col0\" class=\"data row31 col0 jenkins-ci\" >jenkins-ci</td>\n",
       "      <td id=\"T_8890b_row31_col1\" class=\"data row31 col1 C\" >C</td>\n",
       "      <td id=\"T_8890b_row31_col2\" class=\"data row31 col2 True\" >True</td>\n",
       "    </tr>\n",
       "    <tr>\n",
       "      <th id=\"T_8890b_level0_row32\" class=\"row_heading level0 row32\" >32</th>\n",
       "      <td id=\"T_8890b_row32_col0\" class=\"data row32 col0 jenkins-pipeline\" >jenkins-pipeline</td>\n",
       "      <td id=\"T_8890b_row32_col1\" class=\"data row32 col1 C\" >C</td>\n",
       "      <td id=\"T_8890b_row32_col2\" class=\"data row32 col2 False\" >False</td>\n",
       "    </tr>\n",
       "    <tr>\n",
       "      <th id=\"T_8890b_level0_row33\" class=\"row_heading level0 row33\" >33</th>\n",
       "      <td id=\"T_8890b_row33_col0\" class=\"data row33 col0 jwt\" >jwt</td>\n",
       "      <td id=\"T_8890b_row33_col1\" class=\"data row33 col1 C\" >C</td>\n",
       "      <td id=\"T_8890b_row33_col2\" class=\"data row33 col2 True\" >True</td>\n",
       "    </tr>\n",
       "    <tr>\n",
       "      <th id=\"T_8890b_level0_row34\" class=\"row_heading level0 row34\" >34</th>\n",
       "      <td id=\"T_8890b_row34_col0\" class=\"data row34 col0 kafka-gitops\" >kafka-gitops</td>\n",
       "      <td id=\"T_8890b_row34_col1\" class=\"data row34 col1 B\" >B</td>\n",
       "      <td id=\"T_8890b_row34_col2\" class=\"data row34 col2 False\" >False</td>\n",
       "    </tr>\n",
       "    <tr>\n",
       "      <th id=\"T_8890b_level0_row35\" class=\"row_heading level0 row35\" >35</th>\n",
       "      <td id=\"T_8890b_row35_col0\" class=\"data row35 col0 kops-aws\" >kops-aws</td>\n",
       "      <td id=\"T_8890b_row35_col1\" class=\"data row35 col1 A\" >A</td>\n",
       "      <td id=\"T_8890b_row35_col2\" class=\"data row35 col2 False\" >False</td>\n",
       "    </tr>\n",
       "    <tr>\n",
       "      <th id=\"T_8890b_level0_row36\" class=\"row_heading level0 row36\" >36</th>\n",
       "      <td id=\"T_8890b_row36_col0\" class=\"data row36 col0 kotlin-ktor\" >kotlin-ktor</td>\n",
       "      <td id=\"T_8890b_row36_col1\" class=\"data row36 col1 C\" >C</td>\n",
       "      <td id=\"T_8890b_row36_col2\" class=\"data row36 col2 True\" >True</td>\n",
       "    </tr>\n",
       "    <tr>\n",
       "      <th id=\"T_8890b_level0_row37\" class=\"row_heading level0 row37\" >37</th>\n",
       "      <td id=\"T_8890b_row37_col0\" class=\"data row37 col0 kubernetes-golang-operator\" >kubernetes-golang-operator</td>\n",
       "      <td id=\"T_8890b_row37_col1\" class=\"data row37 col1 B\" >B</td>\n",
       "      <td id=\"T_8890b_row37_col2\" class=\"data row37 col2 False\" >False</td>\n",
       "    </tr>\n",
       "    <tr>\n",
       "      <th id=\"T_8890b_level0_row38\" class=\"row_heading level0 row38\" >38</th>\n",
       "      <td id=\"T_8890b_row38_col0\" class=\"data row38 col0 kubernetes-helm-operator\" >kubernetes-helm-operator</td>\n",
       "      <td id=\"T_8890b_row38_col1\" class=\"data row38 col1 B\" >B</td>\n",
       "      <td id=\"T_8890b_row38_col2\" class=\"data row38 col2 False\" >False</td>\n",
       "    </tr>\n",
       "    <tr>\n",
       "      <th id=\"T_8890b_level0_row39\" class=\"row_heading level0 row39\" >39</th>\n",
       "      <td id=\"T_8890b_row39_col0\" class=\"data row39 col0 kubernetes-pipeline-plugin\" >kubernetes-pipeline-plugin</td>\n",
       "      <td id=\"T_8890b_row39_col1\" class=\"data row39 col1 C\" >C</td>\n",
       "      <td id=\"T_8890b_row39_col2\" class=\"data row39 col2 False\" >False</td>\n",
       "    </tr>\n",
       "    <tr>\n",
       "      <th id=\"T_8890b_level0_row40\" class=\"row_heading level0 row40\" >40</th>\n",
       "      <td id=\"T_8890b_row40_col0\" class=\"data row40 col0 kustomize-vs-helm\" >kustomize-vs-helm</td>\n",
       "      <td id=\"T_8890b_row40_col1\" class=\"data row40 col1 A\" >A</td>\n",
       "      <td id=\"T_8890b_row40_col2\" class=\"data row40 col2 False\" >False</td>\n",
       "    </tr>\n",
       "    <tr>\n",
       "      <th id=\"T_8890b_level0_row41\" class=\"row_heading level0 row41\" >41</th>\n",
       "      <td id=\"T_8890b_row41_col0\" class=\"data row41 col0 library\" >library</td>\n",
       "      <td id=\"T_8890b_row41_col1\" class=\"data row41 col1 C\" >C</td>\n",
       "      <td id=\"T_8890b_row41_col2\" class=\"data row41 col2 False\" >False</td>\n",
       "    </tr>\n",
       "    <tr>\n",
       "      <th id=\"T_8890b_level0_row42\" class=\"row_heading level0 row42\" >42</th>\n",
       "      <td id=\"T_8890b_row42_col0\" class=\"data row42 col0 ml-github\" >ml-github</td>\n",
       "      <td id=\"T_8890b_row42_col1\" class=\"data row42 col1\" >nan</td>\n",
       "      <td id=\"T_8890b_row42_col2\" class=\"data row42 col2 False\" >False</td>\n",
       "    </tr>\n",
       "    <tr>\n",
       "      <th id=\"T_8890b_level0_row43\" class=\"row_heading level0 row43\" >43</th>\n",
       "      <td id=\"T_8890b_row43_col0\" class=\"data row43 col0 ml-learning\" >ml-learning</td>\n",
       "      <td id=\"T_8890b_row43_col1\" class=\"data row43 col1 B\" >B</td>\n",
       "      <td id=\"T_8890b_row43_col2\" class=\"data row43 col2 False\" >False</td>\n",
       "    </tr>\n",
       "    <tr>\n",
       "      <th id=\"T_8890b_level0_row44\" class=\"row_heading level0 row44\" >44</th>\n",
       "      <td id=\"T_8890b_row44_col0\" class=\"data row44 col0 mqtt-golang-influxdb\" >mqtt-golang-influxdb</td>\n",
       "      <td id=\"T_8890b_row44_col1\" class=\"data row44 col1 C\" >C</td>\n",
       "      <td id=\"T_8890b_row44_col2\" class=\"data row44 col2 True\" >True</td>\n",
       "    </tr>\n",
       "    <tr>\n",
       "      <th id=\"T_8890b_level0_row45\" class=\"row_heading level0 row45\" >45</th>\n",
       "      <td id=\"T_8890b_row45_col0\" class=\"data row45 col0 ms-config-server\" >ms-config-server</td>\n",
       "      <td id=\"T_8890b_row45_col1\" class=\"data row45 col1 C\" >C</td>\n",
       "      <td id=\"T_8890b_row45_col2\" class=\"data row45 col2 False\" >False</td>\n",
       "    </tr>\n",
       "    <tr>\n",
       "      <th id=\"T_8890b_level0_row46\" class=\"row_heading level0 row46\" >46</th>\n",
       "      <td id=\"T_8890b_row46_col0\" class=\"data row46 col0 ms-helm-chart\" >ms-helm-chart</td>\n",
       "      <td id=\"T_8890b_row46_col1\" class=\"data row46 col1 C\" >C</td>\n",
       "      <td id=\"T_8890b_row46_col2\" class=\"data row46 col2 False\" >False</td>\n",
       "    </tr>\n",
       "    <tr>\n",
       "      <th id=\"T_8890b_level0_row47\" class=\"row_heading level0 row47\" >47</th>\n",
       "      <td id=\"T_8890b_row47_col0\" class=\"data row47 col0 ocp-HTPasswd-file-provider\" >ocp-HTPasswd-file-provider</td>\n",
       "      <td id=\"T_8890b_row47_col1\" class=\"data row47 col1 B\" >B</td>\n",
       "      <td id=\"T_8890b_row47_col2\" class=\"data row47 col2 False\" >False</td>\n",
       "    </tr>\n",
       "    <tr>\n",
       "      <th id=\"T_8890b_level0_row48\" class=\"row_heading level0 row48\" >48</th>\n",
       "      <td id=\"T_8890b_row48_col0\" class=\"data row48 col0 ocp-monitoring-golang\" >ocp-monitoring-golang</td>\n",
       "      <td id=\"T_8890b_row48_col1\" class=\"data row48 col1 A\" >A</td>\n",
       "      <td id=\"T_8890b_row48_col2\" class=\"data row48 col2 False\" >False</td>\n",
       "    </tr>\n",
       "    <tr>\n",
       "      <th id=\"T_8890b_level0_row49\" class=\"row_heading level0 row49\" >49</th>\n",
       "      <td id=\"T_8890b_row49_col0\" class=\"data row49 col0 pelorus-workshop\" >pelorus-workshop</td>\n",
       "      <td id=\"T_8890b_row49_col1\" class=\"data row49 col1 A\" >A</td>\n",
       "      <td id=\"T_8890b_row49_col2\" class=\"data row49 col2 False\" >False</td>\n",
       "    </tr>\n",
       "    <tr>\n",
       "      <th id=\"T_8890b_level0_row50\" class=\"row_heading level0 row50\" >50</th>\n",
       "      <td id=\"T_8890b_row50_col0\" class=\"data row50 col0 petclinic-config\" >petclinic-config</td>\n",
       "      <td id=\"T_8890b_row50_col1\" class=\"data row50 col1 C\" >C</td>\n",
       "      <td id=\"T_8890b_row50_col2\" class=\"data row50 col2 False\" >False</td>\n",
       "    </tr>\n",
       "    <tr>\n",
       "      <th id=\"T_8890b_level0_row51\" class=\"row_heading level0 row51\" >51</th>\n",
       "      <td id=\"T_8890b_row51_col0\" class=\"data row51 col0 poc-k8s-ambassador\" >poc-k8s-ambassador</td>\n",
       "      <td id=\"T_8890b_row51_col1\" class=\"data row51 col1 C\" >C</td>\n",
       "      <td id=\"T_8890b_row51_col2\" class=\"data row51 col2 False\" >False</td>\n",
       "    </tr>\n",
       "    <tr>\n",
       "      <th id=\"T_8890b_level0_row52\" class=\"row_heading level0 row52\" >52</th>\n",
       "      <td id=\"T_8890b_row52_col0\" class=\"data row52 col0 quarkus-kafka\" >quarkus-kafka</td>\n",
       "      <td id=\"T_8890b_row52_col1\" class=\"data row52 col1 B\" >B</td>\n",
       "      <td id=\"T_8890b_row52_col2\" class=\"data row52 col2 False\" >False</td>\n",
       "    </tr>\n",
       "    <tr>\n",
       "      <th id=\"T_8890b_level0_row53\" class=\"row_heading level0 row53\" >53</th>\n",
       "      <td id=\"T_8890b_row53_col0\" class=\"data row53 col0 quarkus-kotlin-example\" >quarkus-kotlin-example</td>\n",
       "      <td id=\"T_8890b_row53_col1\" class=\"data row53 col1 C\" >C</td>\n",
       "      <td id=\"T_8890b_row53_col2\" class=\"data row53 col2 False\" >False</td>\n",
       "    </tr>\n",
       "    <tr>\n",
       "      <th id=\"T_8890b_level0_row54\" class=\"row_heading level0 row54\" >54</th>\n",
       "      <td id=\"T_8890b_row54_col0\" class=\"data row54 col0 REST-Services-MySQL\" >REST-Services-MySQL</td>\n",
       "      <td id=\"T_8890b_row54_col1\" class=\"data row54 col1 C\" >C</td>\n",
       "      <td id=\"T_8890b_row54_col2\" class=\"data row54 col2 False\" >False</td>\n",
       "    </tr>\n",
       "    <tr>\n",
       "      <th id=\"T_8890b_level0_row55\" class=\"row_heading level0 row55\" >55</th>\n",
       "      <td id=\"T_8890b_row55_col0\" class=\"data row55 col0 service-mesh-wasm-go\" >service-mesh-wasm-go</td>\n",
       "      <td id=\"T_8890b_row55_col1\" class=\"data row55 col1 B\" >B</td>\n",
       "      <td id=\"T_8890b_row55_col2\" class=\"data row55 col2 False\" >False</td>\n",
       "    </tr>\n",
       "    <tr>\n",
       "      <th id=\"T_8890b_level0_row56\" class=\"row_heading level0 row56\" >56</th>\n",
       "      <td id=\"T_8890b_row56_col0\" class=\"data row56 col0 spring-boot-elk\" >spring-boot-elk</td>\n",
       "      <td id=\"T_8890b_row56_col1\" class=\"data row56 col1 C\" >C</td>\n",
       "      <td id=\"T_8890b_row56_col2\" class=\"data row56 col2 False\" >False</td>\n",
       "    </tr>\n",
       "    <tr>\n",
       "      <th id=\"T_8890b_level0_row57\" class=\"row_heading level0 row57\" >57</th>\n",
       "      <td id=\"T_8890b_row57_col0\" class=\"data row57 col0 spring-boot-grafana\" >spring-boot-grafana</td>\n",
       "      <td id=\"T_8890b_row57_col1\" class=\"data row57 col1 C\" >C</td>\n",
       "      <td id=\"T_8890b_row57_col2\" class=\"data row57 col2 False\" >False</td>\n",
       "    </tr>\n",
       "    <tr>\n",
       "      <th id=\"T_8890b_level0_row58\" class=\"row_heading level0 row58\" >58</th>\n",
       "      <td id=\"T_8890b_row58_col0\" class=\"data row58 col0 spring-cloud-dataflow\" >spring-cloud-dataflow</td>\n",
       "      <td id=\"T_8890b_row58_col1\" class=\"data row58 col1 C\" >C</td>\n",
       "      <td id=\"T_8890b_row58_col2\" class=\"data row58 col2 False\" >False</td>\n",
       "    </tr>\n",
       "    <tr>\n",
       "      <th id=\"T_8890b_level0_row59\" class=\"row_heading level0 row59\" >59</th>\n",
       "      <td id=\"T_8890b_row59_col0\" class=\"data row59 col0 spring-cloud-eureka\" >spring-cloud-eureka</td>\n",
       "      <td id=\"T_8890b_row59_col1\" class=\"data row59 col1 C\" >C</td>\n",
       "      <td id=\"T_8890b_row59_col2\" class=\"data row59 col2 False\" >False</td>\n",
       "    </tr>\n",
       "    <tr>\n",
       "      <th id=\"T_8890b_level0_row60\" class=\"row_heading level0 row60\" >60</th>\n",
       "      <td id=\"T_8890b_row60_col0\" class=\"data row60 col0 spring-cloud-ms1\" >spring-cloud-ms1</td>\n",
       "      <td id=\"T_8890b_row60_col1\" class=\"data row60 col1 C\" >C</td>\n",
       "      <td id=\"T_8890b_row60_col2\" class=\"data row60 col2 True\" >True</td>\n",
       "    </tr>\n",
       "    <tr>\n",
       "      <th id=\"T_8890b_level0_row61\" class=\"row_heading level0 row61\" >61</th>\n",
       "      <td id=\"T_8890b_row61_col0\" class=\"data row61 col0 spring-cloud-ms2\" >spring-cloud-ms2</td>\n",
       "      <td id=\"T_8890b_row61_col1\" class=\"data row61 col1 C\" >C</td>\n",
       "      <td id=\"T_8890b_row61_col2\" class=\"data row61 col2 False\" >False</td>\n",
       "    </tr>\n",
       "    <tr>\n",
       "      <th id=\"T_8890b_level0_row62\" class=\"row_heading level0 row62\" >62</th>\n",
       "      <td id=\"T_8890b_row62_col0\" class=\"data row62 col0 spring-data-mongodb\" >spring-data-mongodb</td>\n",
       "      <td id=\"T_8890b_row62_col1\" class=\"data row62 col1 C\" >C</td>\n",
       "      <td id=\"T_8890b_row62_col2\" class=\"data row62 col2 False\" >False</td>\n",
       "    </tr>\n",
       "    <tr>\n",
       "      <th id=\"T_8890b_level0_row63\" class=\"row_heading level0 row63\" >63</th>\n",
       "      <td id=\"T_8890b_row63_col0\" class=\"data row63 col0 spring-kotlin-crud\" >spring-kotlin-crud</td>\n",
       "      <td id=\"T_8890b_row63_col1\" class=\"data row63 col1 C\" >C</td>\n",
       "      <td id=\"T_8890b_row63_col2\" class=\"data row63 col2 True\" >True</td>\n",
       "    </tr>\n",
       "    <tr>\n",
       "      <th id=\"T_8890b_level0_row64\" class=\"row_heading level0 row64\" >64</th>\n",
       "      <td id=\"T_8890b_row64_col0\" class=\"data row64 col0 ta\" >ta</td>\n",
       "      <td id=\"T_8890b_row64_col1\" class=\"data row64 col1 B\" >B</td>\n",
       "      <td id=\"T_8890b_row64_col2\" class=\"data row64 col2 False\" >False</td>\n",
       "    </tr>\n",
       "    <tr>\n",
       "      <th id=\"T_8890b_level0_row65\" class=\"row_heading level0 row65\" >65</th>\n",
       "      <td id=\"T_8890b_row65_col0\" class=\"data row65 col0 terraform-ansible-aws\" >terraform-ansible-aws</td>\n",
       "      <td id=\"T_8890b_row65_col1\" class=\"data row65 col1 C\" >C</td>\n",
       "      <td id=\"T_8890b_row65_col2\" class=\"data row65 col2 False\" >False</td>\n",
       "    </tr>\n",
       "    <tr>\n",
       "      <th id=\"T_8890b_level0_row66\" class=\"row_heading level0 row66\" >66</th>\n",
       "      <td id=\"T_8890b_row66_col0\" class=\"data row66 col0 terraform-aws-demo\" >terraform-aws-demo</td>\n",
       "      <td id=\"T_8890b_row66_col1\" class=\"data row66 col1 C\" >C</td>\n",
       "      <td id=\"T_8890b_row66_col2\" class=\"data row66 col2 False\" >False</td>\n",
       "    </tr>\n",
       "    <tr>\n",
       "      <th id=\"T_8890b_level0_row67\" class=\"row_heading level0 row67\" >67</th>\n",
       "      <td id=\"T_8890b_row67_col0\" class=\"data row67 col0 tinygo-site\" >tinygo-site</td>\n",
       "      <td id=\"T_8890b_row67_col1\" class=\"data row67 col1 B\" >B</td>\n",
       "      <td id=\"T_8890b_row67_col2\" class=\"data row67 col2 False\" >False</td>\n",
       "    </tr>\n",
       "    <tr>\n",
       "      <th id=\"T_8890b_level0_row68\" class=\"row_heading level0 row68\" >68</th>\n",
       "      <td id=\"T_8890b_row68_col0\" class=\"data row68 col0 uca-workshop-docker\" >uca-workshop-docker</td>\n",
       "      <td id=\"T_8890b_row68_col1\" class=\"data row68 col1 C\" >C</td>\n",
       "      <td id=\"T_8890b_row68_col2\" class=\"data row68 col2 False\" >False</td>\n",
       "    </tr>\n",
       "    <tr>\n",
       "      <th id=\"T_8890b_level0_row69\" class=\"row_heading level0 row69\" >69</th>\n",
       "      <td id=\"T_8890b_row69_col0\" class=\"data row69 col0 vagrant-php-boxes\" >vagrant-php-boxes</td>\n",
       "      <td id=\"T_8890b_row69_col1\" class=\"data row69 col1 C\" >C</td>\n",
       "      <td id=\"T_8890b_row69_col2\" class=\"data row69 col2 False\" >False</td>\n",
       "    </tr>\n",
       "    <tr>\n",
       "      <th id=\"T_8890b_level0_row70\" class=\"row_heading level0 row70\" >70</th>\n",
       "      <td id=\"T_8890b_row70_col0\" class=\"data row70 col0 workshop-uca-aws-deploy\" >workshop-uca-aws-deploy</td>\n",
       "      <td id=\"T_8890b_row70_col1\" class=\"data row70 col1 B\" >B</td>\n",
       "      <td id=\"T_8890b_row70_col2\" class=\"data row70 col2 False\" >False</td>\n",
       "    </tr>\n",
       "    <tr>\n",
       "      <th id=\"T_8890b_level0_row71\" class=\"row_heading level0 row71\" >71</th>\n",
       "      <td id=\"T_8890b_row71_col0\" class=\"data row71 col0 spring-cloud\" >spring-cloud</td>\n",
       "      <td id=\"T_8890b_row71_col1\" class=\"data row71 col1 C\" >C</td>\n",
       "      <td id=\"T_8890b_row71_col2\" class=\"data row71 col2 False\" >False</td>\n",
       "    </tr>\n",
       "    <tr>\n",
       "      <th id=\"T_8890b_level0_row72\" class=\"row_heading level0 row72\" >72</th>\n",
       "      <td id=\"T_8890b_row72_col0\" class=\"data row72 col0 spring-cloud-config\" >spring-cloud-config</td>\n",
       "      <td id=\"T_8890b_row72_col1\" class=\"data row72 col1 C\" >C</td>\n",
       "      <td id=\"T_8890b_row72_col2\" class=\"data row72 col2 False\" >False</td>\n",
       "    </tr>\n",
       "    <tr>\n",
       "      <th id=\"T_8890b_level0_row73\" class=\"row_heading level0 row73\" >73</th>\n",
       "      <td id=\"T_8890b_row73_col0\" class=\"data row73 col0 ProyectoEncuesta\" >ProyectoEncuesta</td>\n",
       "      <td id=\"T_8890b_row73_col1\" class=\"data row73 col1 C\" >C</td>\n",
       "      <td id=\"T_8890b_row73_col2\" class=\"data row73 col2 False\" >False</td>\n",
       "    </tr>\n",
       "  </tbody>\n",
       "</table>\n"
      ],
      "text/plain": [
       "<pandas.io.formats.style.Styler at 0x7f26bded6410>"
      ]
     },
     "execution_count": 24,
     "metadata": {},
     "output_type": "execute_result"
    }
   ],
   "source": [
    "table_columns = ['name', 'score_commits', 'score_topics']\n",
    "table = repos[table_columns]\n",
    "style = table.style.set_table_styles([  \n",
    "    {'selector': '.A', 'props': 'background-color: #e6ffe6;'},\n",
    "    {'selector': '.B', 'props': 'background-color: #ffe6e6;'},\n",
    "    {'selector': '.False', 'props': 'background-color: #ffe6e6;'},\n",
    "    {'selector': '.True', 'props': 'background-color: #e6ffe6;'},\n",
    "], overwrite=False)\n",
    "\n",
    "cell_color = pd.DataFrame(table[table_columns],\n",
    "                          index=repos.index)\n",
    "\n",
    "style.set_td_classes(cell_color)\n"
   ]
  },
  {
   "cell_type": "code",
   "execution_count": 25,
   "id": "275284b6",
   "metadata": {
    "execution": {
     "iopub.execute_input": "2022-08-05T09:33:26.364763Z",
     "iopub.status.busy": "2022-08-05T09:33:26.364401Z",
     "iopub.status.idle": "2022-08-05T09:33:26.371976Z",
     "shell.execute_reply": "2022-08-05T09:33:26.371427Z"
    }
   },
   "outputs": [
    {
     "data": {
      "text/plain": [
       "['golang-azure-eventhub',\n",
       " 'golang-azure-eventhub-kafka',\n",
       " 'kafka-gitops',\n",
       " 'kubernetes-golang-operator',\n",
       " 'ocp-HTPasswd-file-provider',\n",
       " 'spring-cloud-config',\n",
       " 'spring-cloud-dataflow',\n",
       " 'spring-cloud-eureka']"
      ]
     },
     "execution_count": 25,
     "metadata": {},
     "output_type": "execute_result"
    }
   ],
   "source": [
    "df_red_zone = df_grouped[df_grouped[('stars_count', 'max')] <= worst_stars_percentile]\n",
    "df_red_zone = df_red_zone[df_red_zone[('clones_uniques', 'sum')] <= worst_clones_percentile]\n",
    "df_red_zone = df_red_zone[df_red_zone[('views_total', 'sum')] <= worst_views_percentile]\n",
    "df_red_zone.index.values.tolist()"
   ]
  },
  {
   "cell_type": "code",
   "execution_count": null,
   "id": "0fa02015",
   "metadata": {},
   "outputs": [],
   "source": []
  }
 ],
 "metadata": {
  "kernelspec": {
   "display_name": "Python 3 (ipykernel)",
   "language": "python",
   "name": "python3"
  },
  "language_info": {
   "codemirror_mode": {
    "name": "ipython",
    "version": 3
   },
   "file_extension": ".py",
   "mimetype": "text/x-python",
   "name": "python",
   "nbconvert_exporter": "python",
   "pygments_lexer": "ipython3",
   "version": "3.10.5"
  }
 },
 "nbformat": 4,
 "nbformat_minor": 5
}
