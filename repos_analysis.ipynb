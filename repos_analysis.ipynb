{
 "cells": [
  {
   "cell_type": "markdown",
   "id": "6b75f755",
   "metadata": {},
   "source": [
    "# GitHub repositories analysis"
   ]
  },
  {
   "cell_type": "code",
   "execution_count": 223,
   "id": "492000dc",
   "metadata": {
    "execution": {
     "iopub.execute_input": "2022-08-02T11:30:34.239221Z",
     "iopub.status.busy": "2022-08-02T11:30:34.238149Z",
     "iopub.status.idle": "2022-08-02T11:30:34.939150Z",
     "shell.execute_reply": "2022-08-02T11:30:34.938802Z"
    }
   },
   "outputs": [],
   "source": [
    "import matplotlib.pyplot as plt\n",
    "import pandas as pd\n",
    "import os\n",
    "import glob"
   ]
  },
  {
   "cell_type": "markdown",
   "id": "c6a74011",
   "metadata": {},
   "source": [
    "## Read the data"
   ]
  },
  {
   "cell_type": "code",
   "execution_count": 224,
   "id": "aea83b31",
   "metadata": {
    "execution": {
     "iopub.execute_input": "2022-08-02T11:30:34.941634Z",
     "iopub.status.busy": "2022-08-02T11:30:34.941298Z",
     "iopub.status.idle": "2022-08-02T11:30:34.944693Z",
     "shell.execute_reply": "2022-08-02T11:30:34.944010Z"
    }
   },
   "outputs": [
    {
     "name": "stdout",
     "output_type": "stream",
     "text": [
      "Encontrados 36 ficheros\n"
     ]
    }
   ],
   "source": [
    "files = glob.glob(\"./data/**/*.csv\", recursive=True)\n",
    "print(\"Encontrados\", len(files), \"ficheros\")"
   ]
  },
  {
   "cell_type": "code",
   "execution_count": 225,
   "id": "6f813113",
   "metadata": {
    "execution": {
     "iopub.execute_input": "2022-08-02T11:30:34.951653Z",
     "iopub.status.busy": "2022-08-02T11:30:34.951295Z",
     "iopub.status.idle": "2022-08-02T11:30:35.003199Z",
     "shell.execute_reply": "2022-08-02T11:30:35.002735Z"
    }
   },
   "outputs": [],
   "source": [
    "df = pd.concat((pd.read_csv(f) for f in files), ignore_index=True)"
   ]
  },
  {
   "cell_type": "code",
   "execution_count": 226,
   "id": "4c31fe83",
   "metadata": {
    "execution": {
     "iopub.execute_input": "2022-08-02T11:30:35.010499Z",
     "iopub.status.busy": "2022-08-02T11:30:35.010124Z",
     "iopub.status.idle": "2022-08-02T11:30:35.012056Z",
     "shell.execute_reply": "2022-08-02T11:30:35.012327Z"
    }
   },
   "outputs": [],
   "source": [
    "df[\"date\"] = pd.to_datetime(df[\"ts\"], format='%Y-%m-%d')"
   ]
  },
  {
   "cell_type": "code",
   "execution_count": 229,
   "id": "f80824d2",
   "metadata": {
    "execution": {
     "iopub.execute_input": "2022-08-02T11:30:35.016964Z",
     "iopub.status.busy": "2022-08-02T11:30:35.016608Z",
     "iopub.status.idle": "2022-08-02T11:30:35.018091Z",
     "shell.execute_reply": "2022-08-02T11:30:35.018343Z"
    }
   },
   "outputs": [],
   "source": [
    "ts_max = df[\"ts\"].unique().max()\n",
    "today = df[df.ts==ts_max]\n",
    "head_total = 5 if today.ts.count()>5 else today.ts.count()"
   ]
  },
  {
   "cell_type": "code",
   "execution_count": 230,
   "id": "7d6ff7dc",
   "metadata": {
    "execution": {
     "iopub.execute_input": "2022-08-02T11:30:35.028287Z",
     "iopub.status.busy": "2022-08-02T11:30:35.026464Z",
     "iopub.status.idle": "2022-08-02T11:30:35.032651Z",
     "shell.execute_reply": "2022-08-02T11:30:35.032308Z"
    },
    "scrolled": true
   },
   "outputs": [
    {
     "data": {
      "text/html": [
       "<div>\n",
       "<style scoped>\n",
       "    .dataframe tbody tr th:only-of-type {\n",
       "        vertical-align: middle;\n",
       "    }\n",
       "\n",
       "    .dataframe tbody tr th {\n",
       "        vertical-align: top;\n",
       "    }\n",
       "\n",
       "    .dataframe thead th {\n",
       "        text-align: right;\n",
       "    }\n",
       "</style>\n",
       "<table border=\"1\" class=\"dataframe\">\n",
       "  <thead>\n",
       "    <tr style=\"text-align: right;\">\n",
       "      <th></th>\n",
       "      <th>name</th>\n",
       "      <th>views_total</th>\n",
       "      <th>views_uniques</th>\n",
       "      <th>clones_total</th>\n",
       "    </tr>\n",
       "  </thead>\n",
       "  <tbody>\n",
       "    <tr>\n",
       "      <th>230</th>\n",
       "      <td>ml-github</td>\n",
       "      <td>4</td>\n",
       "      <td>1</td>\n",
       "      <td>6</td>\n",
       "    </tr>\n",
       "    <tr>\n",
       "      <th>231</th>\n",
       "      <td>ms-helm-chart</td>\n",
       "      <td>3</td>\n",
       "      <td>1</td>\n",
       "      <td>0</td>\n",
       "    </tr>\n",
       "    <tr>\n",
       "      <th>228</th>\n",
       "      <td>influxdb-telegraf-grafana</td>\n",
       "      <td>2</td>\n",
       "      <td>2</td>\n",
       "      <td>0</td>\n",
       "    </tr>\n",
       "    <tr>\n",
       "      <th>227</th>\n",
       "      <td>golang-rest-api-cassandra</td>\n",
       "      <td>1</td>\n",
       "      <td>1</td>\n",
       "      <td>0</td>\n",
       "    </tr>\n",
       "    <tr>\n",
       "      <th>225</th>\n",
       "      <td>DO180-apps</td>\n",
       "      <td>0</td>\n",
       "      <td>0</td>\n",
       "      <td>2</td>\n",
       "    </tr>\n",
       "  </tbody>\n",
       "</table>\n",
       "</div>"
      ],
      "text/plain": [
       "                          name  views_total  views_uniques  clones_total\n",
       "230                  ml-github            4              1             6\n",
       "231              ms-helm-chart            3              1             0\n",
       "228  influxdb-telegraf-grafana            2              2             0\n",
       "227  golang-rest-api-cassandra            1              1             0\n",
       "225                 DO180-apps            0              0             2"
      ]
     },
     "execution_count": 230,
     "metadata": {},
     "output_type": "execute_result"
    }
   ],
   "source": [
    "columns=[\"name\",\"views_total\",\"views_uniques\",\"clones_total\"]\n",
    "today[columns].sort_values(by=[\"views_total\",\"views_uniques\"], ascending=False).head(head_total)"
   ]
  },
  {
   "cell_type": "code",
   "execution_count": 231,
   "id": "d956a7b6",
   "metadata": {
    "execution": {
     "iopub.execute_input": "2022-08-02T11:30:35.035299Z",
     "iopub.status.busy": "2022-08-02T11:30:35.034966Z",
     "iopub.status.idle": "2022-08-02T11:30:35.036816Z",
     "shell.execute_reply": "2022-08-02T11:30:35.036512Z"
    }
   },
   "outputs": [],
   "source": [
    "repos = df.name.unique().tolist()"
   ]
  },
  {
   "cell_type": "code",
   "execution_count": 233,
   "id": "d0fb52ef",
   "metadata": {
    "execution": {
     "iopub.execute_input": "2022-08-02T11:30:35.055669Z",
     "iopub.status.busy": "2022-08-02T11:30:35.047240Z",
     "iopub.status.idle": "2022-08-02T11:30:35.059328Z",
     "shell.execute_reply": "2022-08-02T11:30:35.058915Z"
    }
   },
   "outputs": [],
   "source": [
    "dict_df_repos = dict()\n",
    "for repo_name in repos:\n",
    "    dict_df_repos[repo_name] = df[df.name==repo_name]"
   ]
  },
  {
   "cell_type": "markdown",
   "id": "b7034071",
   "metadata": {},
   "source": [
    "## Data analysis"
   ]
  },
  {
   "cell_type": "code",
   "execution_count": 234,
   "id": "b33db4b7",
   "metadata": {
    "execution": {
     "iopub.execute_input": "2022-08-02T11:30:35.067359Z",
     "iopub.status.busy": "2022-08-02T11:30:35.067015Z",
     "iopub.status.idle": "2022-08-02T11:30:35.068238Z",
     "shell.execute_reply": "2022-08-02T11:30:35.068490Z"
    }
   },
   "outputs": [],
   "source": [
    "df_grouped = df.groupby(['name']).agg({\"date\": [\"min\"], \"stars_count\": [\"max\"],\"clones_uniques\": [\"sum\"],\"views_total\": [\"sum\", \"max\"]})"
   ]
  },
  {
   "cell_type": "markdown",
   "id": "d7c6f79d",
   "metadata": {},
   "source": [
    "### Views"
   ]
  },
  {
   "cell_type": "code",
   "execution_count": 235,
   "id": "8e7486fd",
   "metadata": {
    "execution": {
     "iopub.execute_input": "2022-08-02T11:30:35.074283Z",
     "iopub.status.busy": "2022-08-02T11:30:35.073155Z",
     "iopub.status.idle": "2022-08-02T11:30:35.076768Z",
     "shell.execute_reply": "2022-08-02T11:30:35.076485Z"
    }
   },
   "outputs": [
    {
     "name": "stdout",
     "output_type": "stream",
     "text": [
      "Best views over: 18.0\n",
      "Worst views under: 0.0\n"
     ]
    }
   ],
   "source": [
    "views_best_quantile = 0.75\n",
    "views_worst_quantile = 0.25\n",
    "best_views_percentile = df_grouped[('views_total', 'sum')].quantile(views_best_quantile)\n",
    "worst_views_percentile = df_grouped[('views_total', 'sum')].quantile(views_worst_quantile)\n",
    "print(\"Best views over:\", best_views_percentile)\n",
    "print(\"Worst views under:\", worst_views_percentile)"
   ]
  },
  {
   "cell_type": "code",
   "execution_count": 236,
   "id": "7958a4f1",
   "metadata": {
    "execution": {
     "iopub.execute_input": "2022-08-02T11:30:35.079688Z",
     "iopub.status.busy": "2022-08-02T11:30:35.079357Z",
     "iopub.status.idle": "2022-08-02T11:30:35.087503Z",
     "shell.execute_reply": "2022-08-02T11:30:35.087119Z"
    }
   },
   "outputs": [
    {
     "data": {
      "text/html": [
       "<div>\n",
       "<style scoped>\n",
       "    .dataframe tbody tr th:only-of-type {\n",
       "        vertical-align: middle;\n",
       "    }\n",
       "\n",
       "    .dataframe tbody tr th {\n",
       "        vertical-align: top;\n",
       "    }\n",
       "\n",
       "    .dataframe thead th {\n",
       "        text-align: right;\n",
       "    }\n",
       "</style>\n",
       "<table border=\"1\" class=\"dataframe\">\n",
       "  <thead>\n",
       "    <tr style=\"text-align: right;\">\n",
       "      <th></th>\n",
       "      <th>sum</th>\n",
       "      <th>max</th>\n",
       "    </tr>\n",
       "    <tr>\n",
       "      <th>name</th>\n",
       "      <th></th>\n",
       "      <th></th>\n",
       "    </tr>\n",
       "  </thead>\n",
       "  <tbody>\n",
       "    <tr>\n",
       "      <th>kotlin-ktor</th>\n",
       "      <td>217</td>\n",
       "      <td>41</td>\n",
       "    </tr>\n",
       "    <tr>\n",
       "      <th>quarkus-kotlin-example</th>\n",
       "      <td>178</td>\n",
       "      <td>46</td>\n",
       "    </tr>\n",
       "    <tr>\n",
       "      <th>ocp-monitoring-golang</th>\n",
       "      <td>169</td>\n",
       "      <td>133</td>\n",
       "    </tr>\n",
       "    <tr>\n",
       "      <th>ml-github</th>\n",
       "      <td>126</td>\n",
       "      <td>41</td>\n",
       "    </tr>\n",
       "    <tr>\n",
       "      <th>golang-rest-api-cassandra</th>\n",
       "      <td>80</td>\n",
       "      <td>27</td>\n",
       "    </tr>\n",
       "    <tr>\n",
       "      <th>istio-wasm-filter-golang</th>\n",
       "      <td>73</td>\n",
       "      <td>24</td>\n",
       "    </tr>\n",
       "    <tr>\n",
       "      <th>golang-k8s-helm-helloworld</th>\n",
       "      <td>62</td>\n",
       "      <td>42</td>\n",
       "    </tr>\n",
       "    <tr>\n",
       "      <th>mqtt-golang-influxdb</th>\n",
       "      <td>50</td>\n",
       "      <td>25</td>\n",
       "    </tr>\n",
       "    <tr>\n",
       "      <th>kustomize-vs-helm</th>\n",
       "      <td>42</td>\n",
       "      <td>24</td>\n",
       "    </tr>\n",
       "    <tr>\n",
       "      <th>kops-aws</th>\n",
       "      <td>27</td>\n",
       "      <td>20</td>\n",
       "    </tr>\n",
       "    <tr>\n",
       "      <th>spring-kotlin-crud</th>\n",
       "      <td>27</td>\n",
       "      <td>15</td>\n",
       "    </tr>\n",
       "    <tr>\n",
       "      <th>b0rr3g0-blog</th>\n",
       "      <td>20</td>\n",
       "      <td>16</td>\n",
       "    </tr>\n",
       "  </tbody>\n",
       "</table>\n",
       "</div>"
      ],
      "text/plain": [
       "                            sum  max\n",
       "name                                \n",
       "kotlin-ktor                 217   41\n",
       "quarkus-kotlin-example      178   46\n",
       "ocp-monitoring-golang       169  133\n",
       "ml-github                   126   41\n",
       "golang-rest-api-cassandra    80   27\n",
       "istio-wasm-filter-golang     73   24\n",
       "golang-k8s-helm-helloworld   62   42\n",
       "mqtt-golang-influxdb         50   25\n",
       "kustomize-vs-helm            42   24\n",
       "kops-aws                     27   20\n",
       "spring-kotlin-crud           27   15\n",
       "b0rr3g0-blog                 20   16"
      ]
     },
     "execution_count": 236,
     "metadata": {},
     "output_type": "execute_result"
    }
   ],
   "source": [
    "views=df_grouped[('views_total')]\n",
    "views_best = views[views['sum'] > best_views_percentile]\n",
    "views_best.sort_values(by='sum', ascending=False)"
   ]
  },
  {
   "cell_type": "markdown",
   "id": "942bcf96",
   "metadata": {},
   "source": [
    "#### Best views repositories"
   ]
  },
  {
   "cell_type": "code",
   "execution_count": 239,
   "id": "7c19e28e",
   "metadata": {
    "execution": {
     "iopub.execute_input": "2022-08-02T11:30:35.095968Z",
     "iopub.status.busy": "2022-08-02T11:30:35.095381Z",
     "iopub.status.idle": "2022-08-02T11:30:35.334384Z",
     "shell.execute_reply": "2022-08-02T11:30:35.334683Z"
    }
   },
   "outputs": [
    {
     "data": {
      "text/plain": [
       "<matplotlib.legend.Legend at 0x7fdf93dcca60>"
      ]
     },
     "execution_count": 239,
     "metadata": {},
     "output_type": "execute_result"
    },
    {
     "data": {
      "image/png": "[encoded data removed]",
      "text/plain": [
       "<Figure size 1440x720 with 1 Axes>"
      ]
     },
     "metadata": {
      "needs_background": "light"
     },
     "output_type": "display_data"
    }
   ],
   "source": [
    "plt.figure(figsize=(20,10))\n",
    "for repo_name in views_best.index.tolist():\n",
    "    df_r = dict_df_repos[repo_name].sort_values(by=\"date\")\n",
    "    x = df_r.date\n",
    "    y = df_r.views_total\n",
    "    plt.plot(x, y, label=repo_name)\n",
    "    \n",
    "plt.legend(loc = \"upper left\")"
   ]
  },
  {
   "cell_type": "markdown",
   "id": "6e7aacde",
   "metadata": {},
   "source": [
    "#### Sum views total"
   ]
  },
  {
   "cell_type": "code",
   "execution_count": 243,
   "id": "c4004748",
   "metadata": {
    "execution": {
     "iopub.execute_input": "2022-08-02T11:30:35.340145Z",
     "iopub.status.busy": "2022-08-02T11:30:35.339799Z",
     "iopub.status.idle": "2022-08-02T11:30:35.341291Z",
     "shell.execute_reply": "2022-08-02T11:30:35.341551Z"
    }
   },
   "outputs": [],
   "source": [
    "df_total_views=df.groupby(['date']).agg({\"views_total\": [\"sum\"]}).sort_values(by=\"date\", ascending=True)"
   ]
  },
  {
   "cell_type": "code",
   "execution_count": 244,
   "id": "981ecf59",
   "metadata": {
    "execution": {
     "iopub.execute_input": "2022-08-02T11:30:35.360008Z",
     "iopub.status.busy": "2022-08-02T11:30:35.354621Z",
     "iopub.status.idle": "2022-08-02T11:30:35.519024Z",
     "shell.execute_reply": "2022-08-02T11:30:35.518666Z"
    }
   },
   "outputs": [
    {
     "data": {
      "text/plain": [
       "<matplotlib.legend.Legend at 0x7fdf9321f070>"
      ]
     },
     "execution_count": 244,
     "metadata": {},
     "output_type": "execute_result"
    },
    {
     "data": {
      "image/png": "[encoded data removed]",
      "text/plain": [
       "<Figure size 1440x720 with 1 Axes>"
      ]
     },
     "metadata": {
      "needs_background": "light"
     },
     "output_type": "display_data"
    }
   ],
   "source": [
    "plt.figure(figsize=(20,10))\n",
    "x = df_total_views.index\n",
    "y = df_total_views[('views_total', 'sum')]\n",
    "plt.plot(x, y, label=\"total_views\")\n",
    "plt.legend(loc = \"upper left\")"
   ]
  },
  {
   "cell_type": "markdown",
   "id": "56d55a33",
   "metadata": {},
   "source": [
    "### Clones"
   ]
  },
  {
   "cell_type": "code",
   "execution_count": 245,
   "id": "4430fccd",
   "metadata": {
    "execution": {
     "iopub.execute_input": "2022-08-02T11:30:35.530095Z",
     "iopub.status.busy": "2022-08-02T11:30:35.529715Z",
     "iopub.status.idle": "2022-08-02T11:30:35.532182Z",
     "shell.execute_reply": "2022-08-02T11:30:35.531838Z"
    }
   },
   "outputs": [
    {
     "name": "stdout",
     "output_type": "stream",
     "text": [
      "Best clones over: 3.75\n",
      "Worst clones under: 1.0\n"
     ]
    }
   ],
   "source": [
    "# calculate the best 25% repositories\n",
    "best_clones_quantile = 0.75\n",
    "worst_clones_quantile = 0.25\n",
    "best_clones_percentile = df_grouped[('clones_uniques', 'sum')].quantile(best_clones_quantile)\n",
    "worst_clones_percentile = df_grouped[('clones_uniques', 'sum')].quantile(worst_clones_quantile)\n",
    "print(\"Best clones over:\", best_clones_percentile)\n",
    "print(\"Worst clones under:\", worst_clones_percentile)"
   ]
  },
  {
   "cell_type": "code",
   "execution_count": 246,
   "id": "9d6f5a3c",
   "metadata": {
    "execution": {
     "iopub.execute_input": "2022-08-02T11:30:35.538065Z",
     "iopub.status.busy": "2022-08-02T11:30:35.537537Z",
     "iopub.status.idle": "2022-08-02T11:30:35.540110Z",
     "shell.execute_reply": "2022-08-02T11:30:35.539716Z"
    }
   },
   "outputs": [
    {
     "data": {
      "text/html": [
       "<div>\n",
       "<style scoped>\n",
       "    .dataframe tbody tr th:only-of-type {\n",
       "        vertical-align: middle;\n",
       "    }\n",
       "\n",
       "    .dataframe tbody tr th {\n",
       "        vertical-align: top;\n",
       "    }\n",
       "\n",
       "    .dataframe thead th {\n",
       "        text-align: right;\n",
       "    }\n",
       "</style>\n",
       "<table border=\"1\" class=\"dataframe\">\n",
       "  <thead>\n",
       "    <tr style=\"text-align: right;\">\n",
       "      <th></th>\n",
       "      <th>sum</th>\n",
       "    </tr>\n",
       "    <tr>\n",
       "      <th>name</th>\n",
       "      <th></th>\n",
       "    </tr>\n",
       "  </thead>\n",
       "  <tbody>\n",
       "    <tr>\n",
       "      <th>golang-rest-api-cassandra</th>\n",
       "      <td>473</td>\n",
       "    </tr>\n",
       "    <tr>\n",
       "      <th>ta</th>\n",
       "      <td>301</td>\n",
       "    </tr>\n",
       "    <tr>\n",
       "      <th>iot-devices-crud</th>\n",
       "      <td>215</td>\n",
       "    </tr>\n",
       "    <tr>\n",
       "      <th>mqtt-golang-influxdb</th>\n",
       "      <td>171</td>\n",
       "    </tr>\n",
       "    <tr>\n",
       "      <th>ml-github</th>\n",
       "      <td>60</td>\n",
       "    </tr>\n",
       "    <tr>\n",
       "      <th>b0rr3g0-blog</th>\n",
       "      <td>16</td>\n",
       "    </tr>\n",
       "    <tr>\n",
       "      <th>DO180-apps</th>\n",
       "      <td>12</td>\n",
       "    </tr>\n",
       "    <tr>\n",
       "      <th>ocp-monitoring-golang</th>\n",
       "      <td>10</td>\n",
       "    </tr>\n",
       "    <tr>\n",
       "      <th>istio-wasm-filter-golang</th>\n",
       "      <td>4</td>\n",
       "    </tr>\n",
       "    <tr>\n",
       "      <th>kops-aws</th>\n",
       "      <td>4</td>\n",
       "    </tr>\n",
       "    <tr>\n",
       "      <th>kustomize-vs-helm</th>\n",
       "      <td>4</td>\n",
       "    </tr>\n",
       "    <tr>\n",
       "      <th>pelorus-workshop</th>\n",
       "      <td>4</td>\n",
       "    </tr>\n",
       "  </tbody>\n",
       "</table>\n",
       "</div>"
      ],
      "text/plain": [
       "                           sum\n",
       "name                          \n",
       "golang-rest-api-cassandra  473\n",
       "ta                         301\n",
       "iot-devices-crud           215\n",
       "mqtt-golang-influxdb       171\n",
       "ml-github                   60\n",
       "b0rr3g0-blog                16\n",
       "DO180-apps                  12\n",
       "ocp-monitoring-golang       10\n",
       "istio-wasm-filter-golang     4\n",
       "kops-aws                     4\n",
       "kustomize-vs-helm            4\n",
       "pelorus-workshop             4"
      ]
     },
     "execution_count": 246,
     "metadata": {},
     "output_type": "execute_result"
    }
   ],
   "source": [
    "clones=df_grouped[('clones_uniques')]\n",
    "clones_best = clones[clones['sum'] > best_clones_percentile]\n",
    "clones_best.sort_values(by='sum', ascending=False)"
   ]
  },
  {
   "cell_type": "markdown",
   "id": "157569fb",
   "metadata": {},
   "source": [
    "# Stars"
   ]
  },
  {
   "cell_type": "code",
   "execution_count": 247,
   "id": "6d5ba727",
   "metadata": {
    "execution": {
     "iopub.execute_input": "2022-08-02T11:30:35.547399Z",
     "iopub.status.busy": "2022-08-02T11:30:35.546812Z",
     "iopub.status.idle": "2022-08-02T11:30:35.549362Z",
     "shell.execute_reply": "2022-08-02T11:30:35.549024Z"
    }
   },
   "outputs": [
    {
     "name": "stdout",
     "output_type": "stream",
     "text": [
      "Best stars over: 1.0\n",
      "Worst stars under: 0.0\n"
     ]
    }
   ],
   "source": [
    "# calculate the best 50% repositories\n",
    "best_stars_quantile = 0.75\n",
    "worst_stars_quantile = 0.25\n",
    "best_stars_percentile = df_grouped[('stars_count', 'max')].quantile(best_stars_quantile)\n",
    "worst_stars_percentile = df_grouped[('stars_count', 'max')].quantile(worst_stars_quantile)\n",
    "print(\"Best stars over:\", best_stars_percentile)\n",
    "print(\"Worst stars under:\", worst_stars_percentile)"
   ]
  },
  {
   "cell_type": "code",
   "execution_count": 248,
   "id": "d5234152",
   "metadata": {
    "execution": {
     "iopub.execute_input": "2022-08-02T11:30:35.555478Z",
     "iopub.status.busy": "2022-08-02T11:30:35.555030Z",
     "iopub.status.idle": "2022-08-02T11:30:35.557942Z",
     "shell.execute_reply": "2022-08-02T11:30:35.557513Z"
    }
   },
   "outputs": [
    {
     "data": {
      "text/html": [
       "<div>\n",
       "<style scoped>\n",
       "    .dataframe tbody tr th:only-of-type {\n",
       "        vertical-align: middle;\n",
       "    }\n",
       "\n",
       "    .dataframe tbody tr th {\n",
       "        vertical-align: top;\n",
       "    }\n",
       "\n",
       "    .dataframe thead th {\n",
       "        text-align: right;\n",
       "    }\n",
       "</style>\n",
       "<table border=\"1\" class=\"dataframe\">\n",
       "  <thead>\n",
       "    <tr style=\"text-align: right;\">\n",
       "      <th></th>\n",
       "      <th>max</th>\n",
       "    </tr>\n",
       "    <tr>\n",
       "      <th>name</th>\n",
       "      <th></th>\n",
       "    </tr>\n",
       "  </thead>\n",
       "  <tbody>\n",
       "    <tr>\n",
       "      <th>mqtt-golang-influxdb</th>\n",
       "      <td>10</td>\n",
       "    </tr>\n",
       "    <tr>\n",
       "      <th>spring-kotlin-crud</th>\n",
       "      <td>6</td>\n",
       "    </tr>\n",
       "    <tr>\n",
       "      <th>kotlin-ktor</th>\n",
       "      <td>5</td>\n",
       "    </tr>\n",
       "    <tr>\n",
       "      <th>kops-aws</th>\n",
       "      <td>4</td>\n",
       "    </tr>\n",
       "    <tr>\n",
       "      <th>kustomize-vs-helm</th>\n",
       "      <td>3</td>\n",
       "    </tr>\n",
       "    <tr>\n",
       "      <th>ta</th>\n",
       "      <td>3</td>\n",
       "    </tr>\n",
       "    <tr>\n",
       "      <th>golang-k8s-helm-helloworld</th>\n",
       "      <td>2</td>\n",
       "    </tr>\n",
       "    <tr>\n",
       "      <th>golang-rest-api-cassandra</th>\n",
       "      <td>2</td>\n",
       "    </tr>\n",
       "    <tr>\n",
       "      <th>quarkus-kotlin-example</th>\n",
       "      <td>2</td>\n",
       "    </tr>\n",
       "  </tbody>\n",
       "</table>\n",
       "</div>"
      ],
      "text/plain": [
       "                            max\n",
       "name                           \n",
       "mqtt-golang-influxdb         10\n",
       "spring-kotlin-crud            6\n",
       "kotlin-ktor                   5\n",
       "kops-aws                      4\n",
       "kustomize-vs-helm             3\n",
       "ta                            3\n",
       "golang-k8s-helm-helloworld    2\n",
       "golang-rest-api-cassandra     2\n",
       "quarkus-kotlin-example        2"
      ]
     },
     "execution_count": 248,
     "metadata": {},
     "output_type": "execute_result"
    }
   ],
   "source": [
    "stars=df_grouped[('stars_count')]\n",
    "stars_best = stars[stars['max'] > best_stars_percentile]\n",
    "stars_best.sort_values(by=['max'], ascending=False)"
   ]
  },
  {
   "cell_type": "markdown",
   "id": "930ebe06",
   "metadata": {},
   "source": [
    "# Red zone"
   ]
  },
  {
   "cell_type": "code",
   "execution_count": 249,
   "id": "4b27fe45",
   "metadata": {
    "execution": {
     "iopub.execute_input": "2022-08-02T11:30:35.563165Z",
     "iopub.status.busy": "2022-08-02T11:30:35.562583Z",
     "iopub.status.idle": "2022-08-02T11:30:35.568978Z",
     "shell.execute_reply": "2022-08-02T11:30:35.568604Z"
    }
   },
   "outputs": [],
   "source": [
    "repos = pd.read_csv(\"./repos.csv\")\n",
    "\n",
    "# remove colum\n",
    "repos = repos.iloc[:,1:]\n",
    "# remove owner\n",
    "repos = repos.drop(labels=\"owner\",axis=1)\n",
    "# add num topics\n",
    "#repos[\"num_topics\"] = len(repos.topics.str.split(','))\n",
    "def count_topics(topics):\n",
    "    return 0 if topics.count(',') == 0 else topics.count(',')+1\n",
    "repos[\"topics_count\"] = repos.apply(lambda row : count_topics(row.topics), axis=1)\n",
    "# remove topics\n",
    "repos = repos.drop(labels=\"topics\",axis=1)\n",
    "# format date\n",
    "repos[\"latest_commit_date\"] = pd.to_datetime(repos[\"latest_commit_date\"], format='%Y%m%d')\n",
    "# days until latest commit\n",
    "today = pd.to_datetime('today')\n",
    "repos[\"days_latest_commit\"] = (today - repos.latest_commit_date).dt.days"
   ]
  },
  {
   "cell_type": "code",
   "execution_count": 286,
   "id": "9f474b84",
   "metadata": {},
   "outputs": [
    {
     "data": {
      "text/plain": [
       "Timestamp('2022-07-16 00:00:00')"
      ]
     },
     "execution_count": 286,
     "metadata": {},
     "output_type": "execute_result"
    }
   ],
   "source": [
    "df_grouped.loc['golang-azure-eventhub'][('date', 'min')]"
   ]
  },
  {
   "cell_type": "code",
   "execution_count": 251,
   "id": "e427e76c",
   "metadata": {},
   "outputs": [
    {
     "ename": "SyntaxError",
     "evalue": "invalid syntax (2428450813.py, line 1)",
     "output_type": "error",
     "traceback": [
      "\u001b[0;36m  Input \u001b[0;32mIn [251]\u001b[0;36m\u001b[0m\n\u001b[0;31m    repos[\"views_by_day\"] = repos.apply(,axis=1)\u001b[0m\n\u001b[0m                                        ^\u001b[0m\n\u001b[0;31mSyntaxError\u001b[0m\u001b[0;31m:\u001b[0m invalid syntax\n"
     ]
    }
   ],
   "source": [
    "def extract_views_by_day(row):\n",
    "    return \n",
    "repos[\"views_by_day\"] = repos.apply(lambda row: extract_views_by_day(row.name),axis=1)"
   ]
  },
  {
   "cell_type": "code",
   "execution_count": 250,
   "id": "cfcef1a2",
   "metadata": {
    "execution": {
     "iopub.execute_input": "2022-08-02T11:30:35.578357Z",
     "iopub.status.busy": "2022-08-02T11:30:35.577894Z",
     "iopub.status.idle": "2022-08-02T11:30:35.580224Z",
     "shell.execute_reply": "2022-08-02T11:30:35.579876Z"
    }
   },
   "outputs": [
    {
     "data": {
      "text/html": [
       "<div>\n",
       "<style scoped>\n",
       "    .dataframe tbody tr th:only-of-type {\n",
       "        vertical-align: middle;\n",
       "    }\n",
       "\n",
       "    .dataframe tbody tr th {\n",
       "        vertical-align: top;\n",
       "    }\n",
       "\n",
       "    .dataframe thead th {\n",
       "        text-align: right;\n",
       "    }\n",
       "</style>\n",
       "<table border=\"1\" class=\"dataframe\">\n",
       "  <thead>\n",
       "    <tr style=\"text-align: right;\">\n",
       "      <th></th>\n",
       "      <th>name</th>\n",
       "      <th>latest_commit_date</th>\n",
       "      <th>topics_count</th>\n",
       "      <th>days_latest_commit</th>\n",
       "    </tr>\n",
       "  </thead>\n",
       "  <tbody>\n",
       "    <tr>\n",
       "      <th>42</th>\n",
       "      <td>ml-github</td>\n",
       "      <td>2022-08-02</td>\n",
       "      <td>0</td>\n",
       "      <td>0</td>\n",
       "    </tr>\n",
       "    <tr>\n",
       "      <th>3</th>\n",
       "      <td>b0rr3g0-blog</td>\n",
       "      <td>2022-07-26</td>\n",
       "      <td>0</td>\n",
       "      <td>7</td>\n",
       "    </tr>\n",
       "    <tr>\n",
       "      <th>35</th>\n",
       "      <td>kops-aws</td>\n",
       "      <td>2022-07-26</td>\n",
       "      <td>0</td>\n",
       "      <td>7</td>\n",
       "    </tr>\n",
       "    <tr>\n",
       "      <th>48</th>\n",
       "      <td>ocp-monitoring-golang</td>\n",
       "      <td>2022-07-14</td>\n",
       "      <td>0</td>\n",
       "      <td>19</td>\n",
       "    </tr>\n",
       "    <tr>\n",
       "      <th>15</th>\n",
       "      <td>golang-k8s-helm-helloworld</td>\n",
       "      <td>2022-07-14</td>\n",
       "      <td>5</td>\n",
       "      <td>19</td>\n",
       "    </tr>\n",
       "    <tr>\n",
       "      <th>...</th>\n",
       "      <td>...</td>\n",
       "      <td>...</td>\n",
       "      <td>...</td>\n",
       "      <td>...</td>\n",
       "    </tr>\n",
       "    <tr>\n",
       "      <th>61</th>\n",
       "      <td>spring-cloud-ms2</td>\n",
       "      <td>2017-04-17</td>\n",
       "      <td>0</td>\n",
       "      <td>1933</td>\n",
       "    </tr>\n",
       "    <tr>\n",
       "      <th>45</th>\n",
       "      <td>ms-config-server</td>\n",
       "      <td>2017-03-15</td>\n",
       "      <td>0</td>\n",
       "      <td>1966</td>\n",
       "    </tr>\n",
       "    <tr>\n",
       "      <th>56</th>\n",
       "      <td>spring-boot-elk</td>\n",
       "      <td>2017-03-15</td>\n",
       "      <td>0</td>\n",
       "      <td>1966</td>\n",
       "    </tr>\n",
       "    <tr>\n",
       "      <th>62</th>\n",
       "      <td>spring-data-mongodb</td>\n",
       "      <td>2016-09-22</td>\n",
       "      <td>0</td>\n",
       "      <td>2140</td>\n",
       "    </tr>\n",
       "    <tr>\n",
       "      <th>54</th>\n",
       "      <td>REST-Services-MySQL</td>\n",
       "      <td>2015-05-30</td>\n",
       "      <td>0</td>\n",
       "      <td>2621</td>\n",
       "    </tr>\n",
       "  </tbody>\n",
       "</table>\n",
       "<p>74 rows × 4 columns</p>\n",
       "</div>"
      ],
      "text/plain": [
       "                          name latest_commit_date  topics_count  \\\n",
       "42                   ml-github         2022-08-02             0   \n",
       "3                 b0rr3g0-blog         2022-07-26             0   \n",
       "35                    kops-aws         2022-07-26             0   \n",
       "48       ocp-monitoring-golang         2022-07-14             0   \n",
       "15  golang-k8s-helm-helloworld         2022-07-14             5   \n",
       "..                         ...                ...           ...   \n",
       "61            spring-cloud-ms2         2017-04-17             0   \n",
       "45            ms-config-server         2017-03-15             0   \n",
       "56             spring-boot-elk         2017-03-15             0   \n",
       "62         spring-data-mongodb         2016-09-22             0   \n",
       "54         REST-Services-MySQL         2015-05-30             0   \n",
       "\n",
       "    days_latest_commit  \n",
       "42                   0  \n",
       "3                    7  \n",
       "35                   7  \n",
       "48                  19  \n",
       "15                  19  \n",
       "..                 ...  \n",
       "61                1933  \n",
       "45                1966  \n",
       "56                1966  \n",
       "62                2140  \n",
       "54                2621  \n",
       "\n",
       "[74 rows x 4 columns]"
      ]
     },
     "execution_count": 250,
     "metadata": {},
     "output_type": "execute_result"
    }
   ],
   "source": [
    "repos.sort_values(by=\"days_latest_commit\")"
   ]
  },
  {
   "cell_type": "code",
   "execution_count": 180,
   "id": "275284b6",
   "metadata": {
    "execution": {
     "iopub.execute_input": "2022-08-02T11:30:35.585252Z",
     "iopub.status.busy": "2022-08-02T11:30:35.584902Z",
     "iopub.status.idle": "2022-08-02T11:30:35.588212Z",
     "shell.execute_reply": "2022-08-02T11:30:35.587468Z"
    }
   },
   "outputs": [
    {
     "data": {
      "text/plain": [
       "['REST-Services-MySQL',\n",
       " 'amq-streams-workshop',\n",
       " 'asciidoc-base',\n",
       " 'dbgjerez',\n",
       " 'golang-azure-eventhub',\n",
       " 'golang-azure-eventhub-kafka',\n",
       " 'iot-esp8266-dht11',\n",
       " 'iot-esp8266-relay-web-server',\n",
       " 'kubernetes-golang-operator',\n",
       " 'kubernetes-helm-operator',\n",
       " 'ml-learning',\n",
       " 'ocp-HTPasswd-file-provider',\n",
       " 'service-mesh-wasm-go',\n",
       " 'spring-cloud-config',\n",
       " 'spring-cloud-dataflow',\n",
       " 'spring-cloud-eureka',\n",
       " 'workshop-uca-aws-deploy']"
      ]
     },
     "execution_count": 180,
     "metadata": {},
     "output_type": "execute_result"
    }
   ],
   "source": [
    "df_red_zone = df_grouped[df_grouped[('stars_count', 'max')] <= worst_stars_percentile]\n",
    "df_red_zone = df_red_zone[df_red_zone[('clones_uniques', 'sum')] <= worst_clones_percentile]\n",
    "df_red_zone = df_red_zone[df_red_zone[('views_total', 'sum')] <= worst_views_percentile]\n",
    "df_red_zone.index.values.tolist()"
   ]
  },
  {
   "cell_type": "code",
   "execution_count": null,
   "id": "0fa02015",
   "metadata": {},
   "outputs": [],
   "source": []
  }
 ],
 "metadata": {
  "kernelspec": {
   "display_name": "Python 3 (ipykernel)",
   "language": "python",
   "name": "python3"
  },
  "language_info": {
   "codemirror_mode": {
    "name": "ipython",
    "version": 3
   },
   "file_extension": ".py",
   "mimetype": "text/x-python",
   "name": "python",
   "nbconvert_exporter": "python",
   "pygments_lexer": "ipython3",
   "version": "3.10.5"
  }
 },
 "nbformat": 4,
 "nbformat_minor": 5
}
